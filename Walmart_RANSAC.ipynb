{
  "nbformat": 4,
  "nbformat_minor": 0,
  "metadata": {
    "colab": {
      "provenance": []
    },
    "kernelspec": {
      "name": "python3",
      "display_name": "Python 3"
    },
    "language_info": {
      "name": "python"
    }
  },
  "cells": [
    {
      "cell_type": "code",
      "execution_count": 7,
      "metadata": {
        "id": "-2NXWHtX0xoX"
      },
      "outputs": [],
      "source": [
        "from sklearn.linear_model import RANSACRegressor\n",
        "import pandas as pd\n",
        "from sklearn.preprocessing import StandardScaler\n",
        "from sklearn.pipeline import make_pipeline\n",
        "from sklearn.model_selection import GridSearchCV\n",
        "from sklearn.metrics import classification_report, confusion_matrix\n",
        "import numpy as np"
      ]
    },
    {
      "cell_type": "code",
      "source": [
        "url = 'https://media.githubusercontent.com/media/EricYangg/4AI3-Walmart-Forecast/main/Processed%20Dataset/x_train.csv'\n",
        "x_train = pd.read_csv(url)\n",
        "url = 'https://media.githubusercontent.com/media/EricYangg/4AI3-Walmart-Forecast/main/Processed%20Dataset/y_train.csv'\n",
        "y_train = pd.read_csv(url)\n",
        "url = 'https://media.githubusercontent.com/media/EricYangg/4AI3-Walmart-Forecast/main/Processed%20Dataset/x_test.csv'\n",
        "x_test = pd.read_csv(url)\n",
        "url = 'https://media.githubusercontent.com/media/EricYangg/4AI3-Walmart-Forecast/main/Processed%20Dataset/y_test.csv'\n",
        "y_test = pd.read_csv(url)\n",
        "url = 'https://media.githubusercontent.com/media/EricYangg/4AI3-Walmart-Forecast/main/Datasets/test.csv'\n",
        "test = pd.read_csv(url)\n",
        "url = 'https://media.githubusercontent.com/media/EricYangg/4AI3-Walmart-Forecast/main/Processed%20Dataset/Submission%20Test.csv'\n",
        "submission_test = pd.read_csv(url)"
      ],
      "metadata": {
        "id": "_Rl0uI-y13tz"
      },
      "execution_count": 2,
      "outputs": []
    },
    {
      "cell_type": "code",
      "source": [
        "scaler = StandardScaler()\n",
        "X_train_scaled = scaler.fit_transform(x_train)\n",
        "X_test_scaled = scaler.fit_transform(x_test)"
      ],
      "metadata": {
        "id": "vKAOvhMz15cM"
      },
      "execution_count": 3,
      "outputs": []
    },
    {
      "cell_type": "code",
      "source": [
        "param_grid = {'min_samples': [500, 1000], 'loss': ['squared_error', 'absolute_error']}\n",
        "grid = GridSearchCV(RANSACRegressor(), param_grid, refit=True, verbose=2)\n",
        "grid.fit(x_train.to_numpy(), y_train.to_numpy().ravel())\n",
        "print(grid.best_estimator_)\n",
        "grid_predictions = grid.predict(x_test.to_numpy())"
      ],
      "metadata": {
        "colab": {
          "base_uri": "https://localhost:8080/"
        },
        "id": "9bLJkY9Y19AD",
        "outputId": "48c2d74c-6674-4562-97c7-a864d9fbe011"
      },
      "execution_count": 19,
      "outputs": [
        {
          "output_type": "stream",
          "name": "stdout",
          "text": [
            "Fitting 5 folds for each of 4 candidates, totalling 20 fits\n",
            "[CV] END ................loss=squared_error, min_samples=500; total time=   1.8s\n",
            "[CV] END ................loss=squared_error, min_samples=500; total time=   1.8s\n",
            "[CV] END ................loss=squared_error, min_samples=500; total time=   1.8s\n",
            "[CV] END ................loss=squared_error, min_samples=500; total time=   1.8s\n",
            "[CV] END ................loss=squared_error, min_samples=500; total time=   1.7s\n",
            "[CV] END ...............loss=squared_error, min_samples=1000; total time=   3.0s\n",
            "[CV] END ...............loss=squared_error, min_samples=1000; total time=   3.0s\n",
            "[CV] END ...............loss=squared_error, min_samples=1000; total time=   3.1s\n",
            "[CV] END ...............loss=squared_error, min_samples=1000; total time=   3.3s\n",
            "[CV] END ...............loss=squared_error, min_samples=1000; total time=   3.1s\n",
            "[CV] END ...............loss=absolute_error, min_samples=500; total time=   1.9s\n",
            "[CV] END ...............loss=absolute_error, min_samples=500; total time=   1.8s\n",
            "[CV] END ...............loss=absolute_error, min_samples=500; total time=   2.1s\n",
            "[CV] END ...............loss=absolute_error, min_samples=500; total time=   2.0s\n",
            "[CV] END ...............loss=absolute_error, min_samples=500; total time=   1.8s\n",
            "[CV] END ..............loss=absolute_error, min_samples=1000; total time=   3.2s\n",
            "[CV] END ..............loss=absolute_error, min_samples=1000; total time=   3.0s\n",
            "[CV] END ..............loss=absolute_error, min_samples=1000; total time=   3.6s\n",
            "[CV] END ..............loss=absolute_error, min_samples=1000; total time=   3.3s\n",
            "[CV] END ..............loss=absolute_error, min_samples=1000; total time=   3.4s\n",
            "RANSACRegressor(loss='squared_error', min_samples=1000)\n"
          ]
        }
      ]
    },
    {
      "cell_type": "code",
      "source": [
        "Id = test['Store'].astype('string') + '_' + test['Dept'].astype('string') + '_' + test['Date'].astype('string')\n",
        "y_pred = grid.predict(submission_test)\n",
        "weekly_sales = np.round(y_pred**3, 2)"
      ],
      "metadata": {
        "colab": {
          "base_uri": "https://localhost:8080/"
        },
        "id": "EdUsAQEg3T41",
        "outputId": "477a4da2-eb95-4d20-88ff-38db47d3a9b4"
      },
      "execution_count": 20,
      "outputs": [
        {
          "output_type": "stream",
          "name": "stderr",
          "text": [
            "/usr/local/lib/python3.8/dist-packages/sklearn/base.py:443: UserWarning: X has feature names, but RANSACRegressor was fitted without feature names\n",
            "  warnings.warn(\n"
          ]
        }
      ]
    },
    {
      "cell_type": "code",
      "source": [
        "sub = {'Id':Id, 'Weekly_Sales':weekly_sales}\n",
        "RANSAC_submission = pd.DataFrame(data=sub)\n",
        "RANSAC_submission"
      ],
      "metadata": {
        "colab": {
          "base_uri": "https://localhost:8080/",
          "height": 424
        },
        "id": "usqIk8sE3ZDQ",
        "outputId": "c907ede4-54a3-46ac-de89-621d4f1df67f"
      },
      "execution_count": 21,
      "outputs": [
        {
          "output_type": "execute_result",
          "data": {
            "text/plain": [
              "                      Id  Weekly_Sales\n",
              "0         1_1_2012-11-02      10529.02\n",
              "1         1_1_2012-11-09      10572.62\n",
              "2         1_1_2012-11-16      10616.35\n",
              "3         1_1_2012-11-23      10660.19\n",
              "4         1_1_2012-11-30      10704.16\n",
              "...                  ...           ...\n",
              "115059  45_98_2013-06-28       4705.05\n",
              "115060  45_98_2013-07-05       4730.54\n",
              "115061  45_98_2013-07-12       4756.13\n",
              "115062  45_98_2013-07-19       4807.59\n",
              "115063  45_98_2013-07-26       4833.45\n",
              "\n",
              "[115064 rows x 2 columns]"
            ],
            "text/html": [
              "\n",
              "  <div id=\"df-01e3c1f8-43fa-48ab-b09a-e64087d51877\">\n",
              "    <div class=\"colab-df-container\">\n",
              "      <div>\n",
              "<style scoped>\n",
              "    .dataframe tbody tr th:only-of-type {\n",
              "        vertical-align: middle;\n",
              "    }\n",
              "\n",
              "    .dataframe tbody tr th {\n",
              "        vertical-align: top;\n",
              "    }\n",
              "\n",
              "    .dataframe thead th {\n",
              "        text-align: right;\n",
              "    }\n",
              "</style>\n",
              "<table border=\"1\" class=\"dataframe\">\n",
              "  <thead>\n",
              "    <tr style=\"text-align: right;\">\n",
              "      <th></th>\n",
              "      <th>Id</th>\n",
              "      <th>Weekly_Sales</th>\n",
              "    </tr>\n",
              "  </thead>\n",
              "  <tbody>\n",
              "    <tr>\n",
              "      <th>0</th>\n",
              "      <td>1_1_2012-11-02</td>\n",
              "      <td>10529.02</td>\n",
              "    </tr>\n",
              "    <tr>\n",
              "      <th>1</th>\n",
              "      <td>1_1_2012-11-09</td>\n",
              "      <td>10572.62</td>\n",
              "    </tr>\n",
              "    <tr>\n",
              "      <th>2</th>\n",
              "      <td>1_1_2012-11-16</td>\n",
              "      <td>10616.35</td>\n",
              "    </tr>\n",
              "    <tr>\n",
              "      <th>3</th>\n",
              "      <td>1_1_2012-11-23</td>\n",
              "      <td>10660.19</td>\n",
              "    </tr>\n",
              "    <tr>\n",
              "      <th>4</th>\n",
              "      <td>1_1_2012-11-30</td>\n",
              "      <td>10704.16</td>\n",
              "    </tr>\n",
              "    <tr>\n",
              "      <th>...</th>\n",
              "      <td>...</td>\n",
              "      <td>...</td>\n",
              "    </tr>\n",
              "    <tr>\n",
              "      <th>115059</th>\n",
              "      <td>45_98_2013-06-28</td>\n",
              "      <td>4705.05</td>\n",
              "    </tr>\n",
              "    <tr>\n",
              "      <th>115060</th>\n",
              "      <td>45_98_2013-07-05</td>\n",
              "      <td>4730.54</td>\n",
              "    </tr>\n",
              "    <tr>\n",
              "      <th>115061</th>\n",
              "      <td>45_98_2013-07-12</td>\n",
              "      <td>4756.13</td>\n",
              "    </tr>\n",
              "    <tr>\n",
              "      <th>115062</th>\n",
              "      <td>45_98_2013-07-19</td>\n",
              "      <td>4807.59</td>\n",
              "    </tr>\n",
              "    <tr>\n",
              "      <th>115063</th>\n",
              "      <td>45_98_2013-07-26</td>\n",
              "      <td>4833.45</td>\n",
              "    </tr>\n",
              "  </tbody>\n",
              "</table>\n",
              "<p>115064 rows × 2 columns</p>\n",
              "</div>\n",
              "      <button class=\"colab-df-convert\" onclick=\"convertToInteractive('df-01e3c1f8-43fa-48ab-b09a-e64087d51877')\"\n",
              "              title=\"Convert this dataframe to an interactive table.\"\n",
              "              style=\"display:none;\">\n",
              "        \n",
              "  <svg xmlns=\"http://www.w3.org/2000/svg\" height=\"24px\"viewBox=\"0 0 24 24\"\n",
              "       width=\"24px\">\n",
              "    <path d=\"M0 0h24v24H0V0z\" fill=\"none\"/>\n",
              "    <path d=\"M18.56 5.44l.94 2.06.94-2.06 2.06-.94-2.06-.94-.94-2.06-.94 2.06-2.06.94zm-11 1L8.5 8.5l.94-2.06 2.06-.94-2.06-.94L8.5 2.5l-.94 2.06-2.06.94zm10 10l.94 2.06.94-2.06 2.06-.94-2.06-.94-.94-2.06-.94 2.06-2.06.94z\"/><path d=\"M17.41 7.96l-1.37-1.37c-.4-.4-.92-.59-1.43-.59-.52 0-1.04.2-1.43.59L10.3 9.45l-7.72 7.72c-.78.78-.78 2.05 0 2.83L4 21.41c.39.39.9.59 1.41.59.51 0 1.02-.2 1.41-.59l7.78-7.78 2.81-2.81c.8-.78.8-2.07 0-2.86zM5.41 20L4 18.59l7.72-7.72 1.47 1.35L5.41 20z\"/>\n",
              "  </svg>\n",
              "      </button>\n",
              "      \n",
              "  <style>\n",
              "    .colab-df-container {\n",
              "      display:flex;\n",
              "      flex-wrap:wrap;\n",
              "      gap: 12px;\n",
              "    }\n",
              "\n",
              "    .colab-df-convert {\n",
              "      background-color: #E8F0FE;\n",
              "      border: none;\n",
              "      border-radius: 50%;\n",
              "      cursor: pointer;\n",
              "      display: none;\n",
              "      fill: #1967D2;\n",
              "      height: 32px;\n",
              "      padding: 0 0 0 0;\n",
              "      width: 32px;\n",
              "    }\n",
              "\n",
              "    .colab-df-convert:hover {\n",
              "      background-color: #E2EBFA;\n",
              "      box-shadow: 0px 1px 2px rgba(60, 64, 67, 0.3), 0px 1px 3px 1px rgba(60, 64, 67, 0.15);\n",
              "      fill: #174EA6;\n",
              "    }\n",
              "\n",
              "    [theme=dark] .colab-df-convert {\n",
              "      background-color: #3B4455;\n",
              "      fill: #D2E3FC;\n",
              "    }\n",
              "\n",
              "    [theme=dark] .colab-df-convert:hover {\n",
              "      background-color: #434B5C;\n",
              "      box-shadow: 0px 1px 3px 1px rgba(0, 0, 0, 0.15);\n",
              "      filter: drop-shadow(0px 1px 2px rgba(0, 0, 0, 0.3));\n",
              "      fill: #FFFFFF;\n",
              "    }\n",
              "  </style>\n",
              "\n",
              "      <script>\n",
              "        const buttonEl =\n",
              "          document.querySelector('#df-01e3c1f8-43fa-48ab-b09a-e64087d51877 button.colab-df-convert');\n",
              "        buttonEl.style.display =\n",
              "          google.colab.kernel.accessAllowed ? 'block' : 'none';\n",
              "\n",
              "        async function convertToInteractive(key) {\n",
              "          const element = document.querySelector('#df-01e3c1f8-43fa-48ab-b09a-e64087d51877');\n",
              "          const dataTable =\n",
              "            await google.colab.kernel.invokeFunction('convertToInteractive',\n",
              "                                                     [key], {});\n",
              "          if (!dataTable) return;\n",
              "\n",
              "          const docLinkHtml = 'Like what you see? Visit the ' +\n",
              "            '<a target=\"_blank\" href=https://colab.research.google.com/notebooks/data_table.ipynb>data table notebook</a>'\n",
              "            + ' to learn more about interactive tables.';\n",
              "          element.innerHTML = '';\n",
              "          dataTable['output_type'] = 'display_data';\n",
              "          await google.colab.output.renderOutput(dataTable, element);\n",
              "          const docLink = document.createElement('div');\n",
              "          docLink.innerHTML = docLinkHtml;\n",
              "          element.appendChild(docLink);\n",
              "        }\n",
              "      </script>\n",
              "    </div>\n",
              "  </div>\n",
              "  "
            ]
          },
          "metadata": {},
          "execution_count": 21
        }
      ]
    },
    {
      "cell_type": "code",
      "source": [
        "from google.colab import drive\n",
        "drive.mount('drive')\n",
        "RANSAC_submission.to_csv('RANSAC_submission.csv')\n",
        "!cp RANSAC_submission.csv \"drive/My Drive/\""
      ],
      "metadata": {
        "colab": {
          "base_uri": "https://localhost:8080/"
        },
        "id": "OyigX5xI3hmp",
        "outputId": "7d98b6ab-9427-455b-a4e6-052bab4c9b5b"
      },
      "execution_count": 22,
      "outputs": [
        {
          "output_type": "stream",
          "name": "stdout",
          "text": [
            "Drive already mounted at drive; to attempt to forcibly remount, call drive.mount(\"drive\", force_remount=True).\n"
          ]
        }
      ]
    }
  ]
}