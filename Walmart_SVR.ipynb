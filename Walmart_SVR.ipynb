{
  "cells": [
    {
      "cell_type": "code",
      "execution_count": null,
      "metadata": {
        "id": "ngn_0zPcwIT7"
      },
      "outputs": [],
      "source": [
        "import pandas as pd\n",
        "from sklearn.preprocessing import StandardScaler\n",
        "from sklearn.svm import SVR\n",
        "from sklearn.pipeline import make_pipeline\n",
        "from sklearn.model_selection import GridSearchCV\n",
        "from sklearn.metrics import classification_report, confusion_matrix\n",
        "import numpy as np"
      ]
    },
    {
      "cell_type": "code",
      "execution_count": null,
      "metadata": {
        "id": "mb8koalkwMV5"
      },
      "outputs": [],
      "source": [
        "url = 'https://media.githubusercontent.com/media/EricYangg/4AI3-Walmart-Forecast/main/Processed%20Dataset/x_train.csv'\n",
        "x_train = pd.read_csv(url)\n",
        "url = 'https://media.githubusercontent.com/media/EricYangg/4AI3-Walmart-Forecast/main/Processed%20Dataset/y_train.csv'\n",
        "y_train = pd.read_csv(url)\n",
        "url = 'https://media.githubusercontent.com/media/EricYangg/4AI3-Walmart-Forecast/main/Processed%20Dataset/x_test.csv'\n",
        "x_test = pd.read_csv(url)\n",
        "url = 'https://media.githubusercontent.com/media/EricYangg/4AI3-Walmart-Forecast/main/Processed%20Dataset/y_test.csv'\n",
        "y_test = pd.read_csv(url)\n",
        "url = 'https://media.githubusercontent.com/media/EricYangg/4AI3-Walmart-Forecast/main/Datasets/test.csv'\n",
        "test = pd.read_csv(url)\n",
        "url = 'https://media.githubusercontent.com/media/EricYangg/4AI3-Walmart-Forecast/main/Processed%20Dataset/Submission%20Test.csv'\n",
        "submission_test = pd.read_csv(url)"
      ]
    },
    {
      "cell_type": "code",
      "execution_count": null,
      "metadata": {
        "id": "D_gZ-0tlwOss"
      },
      "outputs": [],
      "source": [
        "scaler = StandardScaler()\n",
        "X_train_scaled = scaler.fit_transform(x_train)\n",
        "X_test_scaled = scaler.fit_transform(x_test)"
      ]
    },
    {
      "cell_type": "code",
      "execution_count": null,
      "metadata": {
        "id": "bJ28-5h89LXO"
      },
      "outputs": [],
      "source": [
        "x_train"
      ]
    },
    {
      "cell_type": "code",
      "execution_count": null,
      "metadata": {
        "id": "Pzib1GlM9Sr9"
      },
      "outputs": [],
      "source": [
        "y_train"
      ]
    },
    {
      "cell_type": "code",
      "execution_count": null,
      "metadata": {
        "colab": {
          "base_uri": "https://localhost:8080/",
          "height": 424
        },
        "id": "AW898uKX9aw4",
        "outputId": "62e8f476-a700-4a48-d3d3-c60a0ebaf76a"
      },
      "outputs": [
        {
          "data": {
            "text/html": [
              "\n",
              "  <div id=\"df-768e4eab-c9e6-42ea-b703-6f2331261f59\">\n",
              "    <div class=\"colab-df-container\">\n",
              "      <div>\n",
              "<style scoped>\n",
              "    .dataframe tbody tr th:only-of-type {\n",
              "        vertical-align: middle;\n",
              "    }\n",
              "\n",
              "    .dataframe tbody tr th {\n",
              "        vertical-align: top;\n",
              "    }\n",
              "\n",
              "    .dataframe thead th {\n",
              "        text-align: right;\n",
              "    }\n",
              "</style>\n",
              "<table border=\"1\" class=\"dataframe\">\n",
              "  <thead>\n",
              "    <tr style=\"text-align: right;\">\n",
              "      <th></th>\n",
              "      <th>Store</th>\n",
              "      <th>Dept</th>\n",
              "      <th>Date</th>\n",
              "      <th>IsHoliday</th>\n",
              "      <th>Fuel_Price</th>\n",
              "      <th>CPI</th>\n",
              "      <th>Unemployment</th>\n",
              "      <th>MDAverage</th>\n",
              "    </tr>\n",
              "  </thead>\n",
              "  <tbody>\n",
              "    <tr>\n",
              "      <th>0</th>\n",
              "      <td>1.392183</td>\n",
              "      <td>1.270486</td>\n",
              "      <td>-1.288570</td>\n",
              "      <td>-0.275106</td>\n",
              "      <td>-1.158147</td>\n",
              "      <td>-0.989963</td>\n",
              "      <td>-1.355282</td>\n",
              "      <td>-0.271794</td>\n",
              "    </tr>\n",
              "    <tr>\n",
              "      <th>1</th>\n",
              "      <td>-1.188910</td>\n",
              "      <td>-0.926810</td>\n",
              "      <td>-1.361242</td>\n",
              "      <td>-0.275106</td>\n",
              "      <td>-1.275919</td>\n",
              "      <td>0.466451</td>\n",
              "      <td>0.538139</td>\n",
              "      <td>-0.271794</td>\n",
              "    </tr>\n",
              "    <tr>\n",
              "      <th>2</th>\n",
              "      <td>-1.188910</td>\n",
              "      <td>0.352213</td>\n",
              "      <td>1.400316</td>\n",
              "      <td>-0.275106</td>\n",
              "      <td>0.455762</td>\n",
              "      <td>0.683805</td>\n",
              "      <td>-0.047383</td>\n",
              "      <td>-0.049038</td>\n",
              "    </tr>\n",
              "    <tr>\n",
              "      <th>3</th>\n",
              "      <td>0.140744</td>\n",
              "      <td>-1.221970</td>\n",
              "      <td>-0.125808</td>\n",
              "      <td>-0.275106</td>\n",
              "      <td>1.853757</td>\n",
              "      <td>-0.934874</td>\n",
              "      <td>0.135089</td>\n",
              "      <td>-0.271794</td>\n",
              "    </tr>\n",
              "    <tr>\n",
              "      <th>4</th>\n",
              "      <td>0.062529</td>\n",
              "      <td>-1.156379</td>\n",
              "      <td>-1.724605</td>\n",
              "      <td>-0.275106</td>\n",
              "      <td>-1.249747</td>\n",
              "      <td>-1.013147</td>\n",
              "      <td>-1.110017</td>\n",
              "      <td>-0.271794</td>\n",
              "    </tr>\n",
              "    <tr>\n",
              "      <th>...</th>\n",
              "      <td>...</td>\n",
              "      <td>...</td>\n",
              "      <td>...</td>\n",
              "      <td>...</td>\n",
              "      <td>...</td>\n",
              "      <td>...</td>\n",
              "      <td>...</td>\n",
              "      <td>...</td>\n",
              "    </tr>\n",
              "    <tr>\n",
              "      <th>330172</th>\n",
              "      <td>0.375389</td>\n",
              "      <td>-0.369287</td>\n",
              "      <td>1.424540</td>\n",
              "      <td>-0.275106</td>\n",
              "      <td>0.998821</td>\n",
              "      <td>-0.740830</td>\n",
              "      <td>0.149580</td>\n",
              "      <td>2.495277</td>\n",
              "    </tr>\n",
              "    <tr>\n",
              "      <th>330173</th>\n",
              "      <td>1.392183</td>\n",
              "      <td>-0.598856</td>\n",
              "      <td>-0.610292</td>\n",
              "      <td>-0.275106</td>\n",
              "      <td>-0.460240</td>\n",
              "      <td>-0.981996</td>\n",
              "      <td>-1.434711</td>\n",
              "      <td>-0.271794</td>\n",
              "    </tr>\n",
              "    <tr>\n",
              "      <th>330174</th>\n",
              "      <td>-0.641405</td>\n",
              "      <td>0.516190</td>\n",
              "      <td>1.109625</td>\n",
              "      <td>-0.275106</td>\n",
              "      <td>1.286708</td>\n",
              "      <td>0.503592</td>\n",
              "      <td>0.325612</td>\n",
              "      <td>0.842420</td>\n",
              "    </tr>\n",
              "    <tr>\n",
              "      <th>330175</th>\n",
              "      <td>-0.484975</td>\n",
              "      <td>-1.123583</td>\n",
              "      <td>-0.464947</td>\n",
              "      <td>-0.275106</td>\n",
              "      <td>-0.763393</td>\n",
              "      <td>0.525052</td>\n",
              "      <td>-0.722532</td>\n",
              "      <td>-0.271794</td>\n",
              "    </tr>\n",
              "    <tr>\n",
              "      <th>330176</th>\n",
              "      <td>-0.719620</td>\n",
              "      <td>-0.106924</td>\n",
              "      <td>0.867383</td>\n",
              "      <td>-0.275106</td>\n",
              "      <td>-0.471145</td>\n",
              "      <td>-1.038114</td>\n",
              "      <td>-0.996240</td>\n",
              "      <td>1.119363</td>\n",
              "    </tr>\n",
              "  </tbody>\n",
              "</table>\n",
              "<p>330177 rows × 8 columns</p>\n",
              "</div>\n",
              "      <button class=\"colab-df-convert\" onclick=\"convertToInteractive('df-768e4eab-c9e6-42ea-b703-6f2331261f59')\"\n",
              "              title=\"Convert this dataframe to an interactive table.\"\n",
              "              style=\"display:none;\">\n",
              "        \n",
              "  <svg xmlns=\"http://www.w3.org/2000/svg\" height=\"24px\"viewBox=\"0 0 24 24\"\n",
              "       width=\"24px\">\n",
              "    <path d=\"M0 0h24v24H0V0z\" fill=\"none\"/>\n",
              "    <path d=\"M18.56 5.44l.94 2.06.94-2.06 2.06-.94-2.06-.94-.94-2.06-.94 2.06-2.06.94zm-11 1L8.5 8.5l.94-2.06 2.06-.94-2.06-.94L8.5 2.5l-.94 2.06-2.06.94zm10 10l.94 2.06.94-2.06 2.06-.94-2.06-.94-.94-2.06-.94 2.06-2.06.94z\"/><path d=\"M17.41 7.96l-1.37-1.37c-.4-.4-.92-.59-1.43-.59-.52 0-1.04.2-1.43.59L10.3 9.45l-7.72 7.72c-.78.78-.78 2.05 0 2.83L4 21.41c.39.39.9.59 1.41.59.51 0 1.02-.2 1.41-.59l7.78-7.78 2.81-2.81c.8-.78.8-2.07 0-2.86zM5.41 20L4 18.59l7.72-7.72 1.47 1.35L5.41 20z\"/>\n",
              "  </svg>\n",
              "      </button>\n",
              "      \n",
              "  <style>\n",
              "    .colab-df-container {\n",
              "      display:flex;\n",
              "      flex-wrap:wrap;\n",
              "      gap: 12px;\n",
              "    }\n",
              "\n",
              "    .colab-df-convert {\n",
              "      background-color: #E8F0FE;\n",
              "      border: none;\n",
              "      border-radius: 50%;\n",
              "      cursor: pointer;\n",
              "      display: none;\n",
              "      fill: #1967D2;\n",
              "      height: 32px;\n",
              "      padding: 0 0 0 0;\n",
              "      width: 32px;\n",
              "    }\n",
              "\n",
              "    .colab-df-convert:hover {\n",
              "      background-color: #E2EBFA;\n",
              "      box-shadow: 0px 1px 2px rgba(60, 64, 67, 0.3), 0px 1px 3px 1px rgba(60, 64, 67, 0.15);\n",
              "      fill: #174EA6;\n",
              "    }\n",
              "\n",
              "    [theme=dark] .colab-df-convert {\n",
              "      background-color: #3B4455;\n",
              "      fill: #D2E3FC;\n",
              "    }\n",
              "\n",
              "    [theme=dark] .colab-df-convert:hover {\n",
              "      background-color: #434B5C;\n",
              "      box-shadow: 0px 1px 3px 1px rgba(0, 0, 0, 0.15);\n",
              "      filter: drop-shadow(0px 1px 2px rgba(0, 0, 0, 0.3));\n",
              "      fill: #FFFFFF;\n",
              "    }\n",
              "  </style>\n",
              "\n",
              "      <script>\n",
              "        const buttonEl =\n",
              "          document.querySelector('#df-768e4eab-c9e6-42ea-b703-6f2331261f59 button.colab-df-convert');\n",
              "        buttonEl.style.display =\n",
              "          google.colab.kernel.accessAllowed ? 'block' : 'none';\n",
              "\n",
              "        async function convertToInteractive(key) {\n",
              "          const element = document.querySelector('#df-768e4eab-c9e6-42ea-b703-6f2331261f59');\n",
              "          const dataTable =\n",
              "            await google.colab.kernel.invokeFunction('convertToInteractive',\n",
              "                                                     [key], {});\n",
              "          if (!dataTable) return;\n",
              "\n",
              "          const docLinkHtml = 'Like what you see? Visit the ' +\n",
              "            '<a target=\"_blank\" href=https://colab.research.google.com/notebooks/data_table.ipynb>data table notebook</a>'\n",
              "            + ' to learn more about interactive tables.';\n",
              "          element.innerHTML = '';\n",
              "          dataTable['output_type'] = 'display_data';\n",
              "          await google.colab.output.renderOutput(dataTable, element);\n",
              "          const docLink = document.createElement('div');\n",
              "          docLink.innerHTML = docLinkHtml;\n",
              "          element.appendChild(docLink);\n",
              "        }\n",
              "      </script>\n",
              "    </div>\n",
              "  </div>\n",
              "  "
            ],
            "text/plain": [
              "           Store      Dept      Date  IsHoliday  Fuel_Price       CPI  \\\n",
              "0       1.392183  1.270486 -1.288570  -0.275106   -1.158147 -0.989963   \n",
              "1      -1.188910 -0.926810 -1.361242  -0.275106   -1.275919  0.466451   \n",
              "2      -1.188910  0.352213  1.400316  -0.275106    0.455762  0.683805   \n",
              "3       0.140744 -1.221970 -0.125808  -0.275106    1.853757 -0.934874   \n",
              "4       0.062529 -1.156379 -1.724605  -0.275106   -1.249747 -1.013147   \n",
              "...          ...       ...       ...        ...         ...       ...   \n",
              "330172  0.375389 -0.369287  1.424540  -0.275106    0.998821 -0.740830   \n",
              "330173  1.392183 -0.598856 -0.610292  -0.275106   -0.460240 -0.981996   \n",
              "330174 -0.641405  0.516190  1.109625  -0.275106    1.286708  0.503592   \n",
              "330175 -0.484975 -1.123583 -0.464947  -0.275106   -0.763393  0.525052   \n",
              "330176 -0.719620 -0.106924  0.867383  -0.275106   -0.471145 -1.038114   \n",
              "\n",
              "        Unemployment  MDAverage  \n",
              "0          -1.355282  -0.271794  \n",
              "1           0.538139  -0.271794  \n",
              "2          -0.047383  -0.049038  \n",
              "3           0.135089  -0.271794  \n",
              "4          -1.110017  -0.271794  \n",
              "...              ...        ...  \n",
              "330172      0.149580   2.495277  \n",
              "330173     -1.434711  -0.271794  \n",
              "330174      0.325612   0.842420  \n",
              "330175     -0.722532  -0.271794  \n",
              "330176     -0.996240   1.119363  \n",
              "\n",
              "[330177 rows x 8 columns]"
            ]
          },
          "execution_count": 5,
          "metadata": {},
          "output_type": "execute_result"
        }
      ],
      "source": [
        "x_train = x_train.drop(['MarkDown1', 'MarkDown2', 'MarkDown3', 'MarkDown4', 'MarkDown5', 'Temperature', 'MDMin', 'MDMax', 'MDSum'], axis=1)\n",
        "x_train"
      ]
    },
    {
      "cell_type": "code",
      "execution_count": null,
      "metadata": {
        "colab": {
          "background_save": true,
          "base_uri": "https://localhost:8080/"
        },
        "id": "Fv-xmS2CwQGV",
        "outputId": "192b0562-6cd8-4b35-ce7f-5b6a7e7f99bf"
      },
      "outputs": [
        {
          "name": "stdout",
          "output_type": "stream",
          "text": [
            "Fitting 5 folds for each of 1 candidates, totalling 5 fits\n",
            "[CV] END .....................C=1, gamma=0.0001, kernel=rbf; total time=112.2min\n"
          ]
        }
      ],
      "source": [
        "param_grid = {'C': [1], 'gamma': [1e-4], 'kernel': ['rbf']}\n",
        "grid = GridSearchCV(SVR(), param_grid, refit=True, verbose=2)\n",
        "grid.fit(x_train.to_numpy(), y_train.to_numpy().ravel())\n",
        "print(grid.best_estimator_)\n",
        "grid_predictions = grid.predict(x_test.to_numpy())"
      ]
    },
    {
      "cell_type": "code",
      "execution_count": null,
      "metadata": {
        "id": "ZesJGzh1wZXw"
      },
      "outputs": [],
      "source": [
        "Id = test['Store'].astype('string') + '_' + test['Dept'].astype('string') + '_' + test['Date'].astype('string')\n",
        "Id"
      ]
    },
    {
      "cell_type": "code",
      "execution_count": null,
      "metadata": {
        "id": "SmCOdDdFwdor"
      },
      "outputs": [],
      "source": [
        "y_pred = grid.predict(submission_test)\n",
        "y_pred"
      ]
    },
    {
      "cell_type": "code",
      "execution_count": null,
      "metadata": {
        "id": "qwvhPhN1whVZ"
      },
      "outputs": [],
      "source": [
        "weekly_sales = np.round(y_pred**3, 2)\n",
        "weekly_sales"
      ]
    },
    {
      "cell_type": "code",
      "execution_count": null,
      "metadata": {
        "id": "FEleZceXwi-F"
      },
      "outputs": [],
      "source": [
        "sub = {'Id':Id, 'Weekly_Sales':weekly_sales}\n",
        "SVR_submission = pd.DataFrame(data=sub)\n",
        "SVR_submission"
      ]
    },
    {
      "cell_type": "code",
      "source": [
        "Clf = SVR(C=1, gamma=0.1, kernel='rbf').fit(x_train,y_train)\n",
        "train_score = Clf.score(x_train, y_train)\n",
        "test_score = Clf.score(x_test, y_test)\n",
        "test_score"
      ],
      "metadata": {
        "id": "xt7rzpnfnyws"
      },
      "execution_count": null,
      "outputs": []
    },
    {
      "cell_type": "code",
      "source": [
        "y_pred = Clf.predict(x_test)"
      ],
      "metadata": {
        "id": "e5TZHJkrocos"
      },
      "execution_count": null,
      "outputs": []
    },
    {
      "cell_type": "code",
      "source": [
        "from sklearn.model_selection import learning_curve\n",
        "\n",
        "train_size = [1, 25, 50, 100, 500, 2500, 7500, 15000]\n",
        "train_sizes, train_scores, validation_scores = learning_curve(\n",
        "estimator = Clf,\n",
        "X = x_train,\n",
        "y = y_train, train_sizes = train_size, cv = 5,\n",
        "scoring = 'neg_mean_absolute_error')"
      ],
      "metadata": {
        "id": "SdoYOb16n7ma"
      },
      "execution_count": null,
      "outputs": []
    },
    {
      "cell_type": "code",
      "source": [
        "print('Training scores:\\n\\n', train_scores)\n",
        "print('\\n', '-' * 70) # separator to make the output easy to read\n",
        "print('\\nValidation scores:\\n\\n', validation_scores)"
      ],
      "metadata": {
        "id": "4RVsjZeioo_0"
      },
      "execution_count": null,
      "outputs": []
    },
    {
      "cell_type": "code",
      "source": [
        "train_scores_mean = train_scores.mean(axis = 1)\n",
        "validation_scores_mean = validation_scores.mean(axis=1)\n",
        "print('Mean training scores\\n\\n', pd.Series(train_scores_mean, index = train_sizes))\n",
        "print('\\n', '-' * 20) # separator\n",
        "print('\\nMean validation scores\\n\\n',pd.Series(validation_scores_mean, index = train_sizes))"
      ],
      "metadata": {
        "id": "6XzBHKuWoqfY"
      },
      "execution_count": null,
      "outputs": []
    },
    {
      "cell_type": "code",
      "source": [
        "train_scores_mean = -train_scores.mean(axis = 1)\n",
        "validation_scores_mean = -validation_scores.mean(axis=1)\n",
        "print('Mean training scores\\n\\n', pd.Series(train_scores_mean, index = train_sizes))\n",
        "print('\\n', '-' * 20) # separator\n",
        "print('\\nMean validation scores\\n\\n',pd.Series(validation_scores_mean, index = train_sizes))"
      ],
      "metadata": {
        "id": "W3ydd0oMosLt"
      },
      "execution_count": null,
      "outputs": []
    },
    {
      "cell_type": "code",
      "source": [
        "from sklearn.metrics import mean_squared_error, r2_score\n",
        "from sklearn.metrics import mean_absolute_error\n",
        "# The mean squared error\n",
        "print(\"Mean squared error: %.2f\" % mean_squared_error(y_test, y_pred))\n",
        "# The coefficient of determination: 1 is perfect prediction\n",
        "print(\"Coefficient of determination: %.2f\" % r2_score(y_test, y_pred))\n",
        "print('Mean Abs Error:', mean_absolute_error(y_test, y_pred))"
      ],
      "metadata": {
        "id": "DXdIb0EEouNI"
      },
      "execution_count": null,
      "outputs": []
    },
    {
      "cell_type": "code",
      "source": [
        "plt.style.use('seaborn')\n",
        "plt.plot(train_sizes, train_scores_mean, label = 'Training error')\n",
        "plt.plot(train_sizes, validation_scores_mean, label = 'Validation error')\n",
        "plt.ylabel('MAE', fontsize = 14)\n",
        "plt.xlabel('Training set size', fontsize = 14)\n",
        "plt.title('Learning curves for RANSAC regressor model', fontsize = 18, y = 1.03)\n",
        "plt.legend()"
      ],
      "metadata": {
        "id": "QmmO19NYowDG"
      },
      "execution_count": null,
      "outputs": []
    },
    {
      "cell_type": "code",
      "execution_count": null,
      "metadata": {
        "id": "tB8h0SD_xoP9"
      },
      "outputs": [],
      "source": [
        "from google.colab import drive\n",
        "drive.mount('drive')\n",
        "SVR_submission.to_csv('SVR_submission.csv')\n",
        "!cp SVR_submission.csv \"drive/My Drive/\""
      ]
    }
  ],
  "metadata": {
    "colab": {
      "provenance": []
    },
    "kernelspec": {
      "display_name": "Python 3",
      "name": "python3"
    },
    "language_info": {
      "name": "python"
    }
  },
  "nbformat": 4,
  "nbformat_minor": 0
}