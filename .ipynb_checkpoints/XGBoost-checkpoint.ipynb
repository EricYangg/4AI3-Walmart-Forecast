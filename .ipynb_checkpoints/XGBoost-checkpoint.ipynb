{
 "cells": [
  {
   "cell_type": "code",
   "execution_count": 1,
   "id": "d2defee5",
   "metadata": {},
   "outputs": [],
   "source": [
    "import pandas as pd \n",
    "import numpy as np \n",
    "import matplotlib.pyplot as plt\n",
    "from sklearn import linear_model\n",
    "\n",
    "from xgboost import XGBRegressor\n",
    "from sklearn.model_selection import train_test_split\n",
    "from sklearn.metrics import accuracy_score\n",
    "from sklearn.metrics import mean_squared_error, r2_score\n",
    "from sklearn.model_selection import GridSearchCV"
   ]
  },
  {
   "cell_type": "code",
   "execution_count": null,
   "id": "b98e043d",
   "metadata": {},
   "outputs": [],
   "source": [
    "url = 'https://media.githubusercontent.com/media/EricYangg/4AI3-Walmart-Forecast/main/Processed%20Dataset/x_train.csv'\n",
    "x_train = pd.read_csv(url)\n",
    "\n",
    "url = 'https://media.githubusercontent.com/media/EricYangg/4AI3-Walmart-Forecast/main/Processed%20Dataset/x_test.csv'\n",
    "x_test = pd.read_csv(url)\n",
    "\n",
    "url = 'https://media.githubusercontent.com/media/EricYangg/4AI3-Walmart-Forecast/main/Processed%20Dataset/y_train.csv'\n",
    "y_train = pd.read_csv(url)\n",
    "\n",
    "url = 'https://media.githubusercontent.com/media/EricYangg/4AI3-Walmart-Forecast/main/Processed%20Dataset/y_test.csv'\n",
    "y_test = pd.read_csv(url)\n"
   ]
  },
  {
   "cell_type": "code",
   "execution_count": null,
   "id": "9b58c533",
   "metadata": {},
   "outputs": [],
   "source": [
    "x_train"
   ]
  },
  {
   "cell_type": "code",
   "execution_count": null,
   "id": "b5f4acb8",
   "metadata": {},
   "outputs": [],
   "source": [
    "reg = XGBRegressor(max_depth = 5, n_estimators = 150).fit(x_train,y_train)"
   ]
  },
  {
   "cell_type": "code",
   "execution_count": null,
   "id": "218e867b",
   "metadata": {},
   "outputs": [],
   "source": [
    "reg.score(x_train, y_train)"
   ]
  },
  {
   "cell_type": "code",
   "execution_count": null,
   "id": "76ea2425",
   "metadata": {},
   "outputs": [],
   "source": [
    "reg.score(x_test, y_test)"
   ]
  },
  {
   "cell_type": "code",
   "execution_count": null,
   "id": "92cfb048",
   "metadata": {},
   "outputs": [],
   "source": [
    "y_pred = reg.predict(x_test)"
   ]
  },
  {
   "cell_type": "code",
   "execution_count": null,
   "id": "f7388bc2",
   "metadata": {},
   "outputs": [],
   "source": [
    "# The mean squared error\n",
    "print(\"Mean squared error: %.2f\" % mean_squared_error(y_test, y_pred))\n",
    "# The coefficient of determination: 1 is perfect prediction\n",
    "print(\"Coefficient of determination: %.2f\" % r2_score(y_test, y_pred))"
   ]
  },
  {
   "cell_type": "code",
   "execution_count": null,
   "id": "74baa600",
   "metadata": {},
   "outputs": [],
   "source": [
    "params = { 'max_depth': [3,6,10],\n",
    "           'learning_rate': [0.01, 0.05, 0.1],\n",
    "           'n_estimators': [100, 500, 1000],\n",
    "           'colsample_bytree': [0.3, 0.7]}"
   ]
  },
  {
   "cell_type": "code",
   "execution_count": null,
   "id": "7dbcb983",
   "metadata": {},
   "outputs": [],
   "source": [
    "xgbr = XGBRegressor(seed = 20)"
   ]
  },
  {
   "cell_type": "code",
   "execution_count": null,
   "id": "e569689d",
   "metadata": {},
   "outputs": [],
   "source": [
    "clf = GridSearchCV(estimator=xgbr, \n",
    "                   param_grid=params,\n",
    "                   scoring='neg_mean_squared_error', \n",
    "                   verbose=1)"
   ]
  },
  {
   "cell_type": "code",
   "execution_count": null,
   "id": "e438fe15",
   "metadata": {},
   "outputs": [],
   "source": [
    "clf.fit(x_train, y_train)\n",
    "print(\"Best parameters:\", clf.best_params_)\n",
    "print(\"Lowest RMSE: \", (-clf.best_score_)**(1/2.0))"
   ]
  },
  {
   "cell_type": "code",
   "execution_count": null,
   "id": "98dcbce1",
   "metadata": {},
   "outputs": [],
   "source": []
  },
  {
   "cell_type": "code",
   "execution_count": null,
   "id": "9679999b",
   "metadata": {},
   "outputs": [],
   "source": []
  },
  {
   "cell_type": "markdown",
   "id": "013ac330",
   "metadata": {},
   "source": [
    "Prediction"
   ]
  },
  {
   "cell_type": "code",
   "execution_count": 13,
   "id": "227472c7",
   "metadata": {},
   "outputs": [],
   "source": [
    "#provided submission test dataset\n",
    "url = 'https://media.githubusercontent.com/media/EricYangg/4AI3-Walmart-Forecast/main/Datasets/test.csv'\n",
    "test = pd.read_csv(url)\n",
    "\n",
    "#test dataset after preprocessing\n",
    "url = 'https://media.githubusercontent.com/media/EricYangg/4AI3-Walmart-Forecast/main/Processed%20Dataset/Submission%20Test.csv'\n",
    "submission_test = pd.read_csv(url)"
   ]
  },
  {
   "cell_type": "markdown",
   "id": "48007a68",
   "metadata": {},
   "source": [
    "Final Submission Format:\n",
    "\n",
    "Id,Weekly_Sales\n",
    "\n",
    "1_1_2012-11-02,0\n",
    "\n",
    "1_1_2012-11-09,0\n",
    "\n",
    "1_1_2012-11-16,0"
   ]
  },
  {
   "cell_type": "code",
   "execution_count": 14,
   "id": "b8f9138b",
   "metadata": {},
   "outputs": [
    {
     "data": {
      "text/plain": [
       "0           1_1_2012-11-02\n",
       "1           1_1_2012-11-09\n",
       "2           1_1_2012-11-16\n",
       "3           1_1_2012-11-23\n",
       "4           1_1_2012-11-30\n",
       "                ...       \n",
       "115059    45_98_2013-06-28\n",
       "115060    45_98_2013-07-05\n",
       "115061    45_98_2013-07-12\n",
       "115062    45_98_2013-07-19\n",
       "115063    45_98_2013-07-26\n",
       "Length: 115064, dtype: string"
      ]
     },
     "execution_count": 14,
     "metadata": {},
     "output_type": "execute_result"
    }
   ],
   "source": [
    "Id = test['Store'].astype('string') + '_' + test['Dept'].astype('string') + '_' + test['Date'].astype('string')\n",
    "Id"
   ]
  },
  {
   "cell_type": "code",
   "execution_count": 15,
   "id": "b6ee4e24",
   "metadata": {},
   "outputs": [
    {
     "data": {
      "text/html": [
       "<div>\n",
       "<style scoped>\n",
       "    .dataframe tbody tr th:only-of-type {\n",
       "        vertical-align: middle;\n",
       "    }\n",
       "\n",
       "    .dataframe tbody tr th {\n",
       "        vertical-align: top;\n",
       "    }\n",
       "\n",
       "    .dataframe thead th {\n",
       "        text-align: right;\n",
       "    }\n",
       "</style>\n",
       "<table border=\"1\" class=\"dataframe\">\n",
       "  <thead>\n",
       "    <tr style=\"text-align: right;\">\n",
       "      <th></th>\n",
       "      <th>Store</th>\n",
       "      <th>Dept</th>\n",
       "      <th>Date</th>\n",
       "      <th>IsHoliday</th>\n",
       "      <th>Temperature</th>\n",
       "      <th>Fuel_Price</th>\n",
       "      <th>MarkDown1</th>\n",
       "      <th>MarkDown2</th>\n",
       "      <th>MarkDown3</th>\n",
       "      <th>MarkDown4</th>\n",
       "      <th>MarkDown5</th>\n",
       "      <th>CPI</th>\n",
       "      <th>Unemployment</th>\n",
       "      <th>MDAverage</th>\n",
       "      <th>MDSum</th>\n",
       "      <th>MDMin</th>\n",
       "      <th>MDMax</th>\n",
       "    </tr>\n",
       "  </thead>\n",
       "  <tbody>\n",
       "    <tr>\n",
       "      <th>0</th>\n",
       "      <td>-1.657956</td>\n",
       "      <td>-1.413724</td>\n",
       "      <td>-1.683055</td>\n",
       "      <td>-0.290032</td>\n",
       "      <td>0.073606</td>\n",
       "      <td>-0.816679</td>\n",
       "      <td>-0.085347</td>\n",
       "      <td>0.316895</td>\n",
       "      <td>-0.162850</td>\n",
       "      <td>0.091459</td>\n",
       "      <td>-0.060954</td>\n",
       "      <td>1.170390</td>\n",
       "      <td>0.569095</td>\n",
       "      <td>0.019840</td>\n",
       "      <td>0.099201</td>\n",
       "      <td>-0.162850</td>\n",
       "      <td>0.316895</td>\n",
       "    </tr>\n",
       "    <tr>\n",
       "      <th>1</th>\n",
       "      <td>-1.657956</td>\n",
       "      <td>-1.381105</td>\n",
       "      <td>-1.683055</td>\n",
       "      <td>-0.290032</td>\n",
       "      <td>0.073606</td>\n",
       "      <td>-0.816679</td>\n",
       "      <td>-0.085347</td>\n",
       "      <td>0.316895</td>\n",
       "      <td>-0.162850</td>\n",
       "      <td>0.091459</td>\n",
       "      <td>-0.060954</td>\n",
       "      <td>1.170390</td>\n",
       "      <td>0.569095</td>\n",
       "      <td>0.019840</td>\n",
       "      <td>0.099201</td>\n",
       "      <td>-0.162850</td>\n",
       "      <td>0.316895</td>\n",
       "    </tr>\n",
       "    <tr>\n",
       "      <th>2</th>\n",
       "      <td>-1.657956</td>\n",
       "      <td>-1.348485</td>\n",
       "      <td>-1.683055</td>\n",
       "      <td>-0.290032</td>\n",
       "      <td>0.073606</td>\n",
       "      <td>-0.816679</td>\n",
       "      <td>-0.085347</td>\n",
       "      <td>0.316895</td>\n",
       "      <td>-0.162850</td>\n",
       "      <td>0.091459</td>\n",
       "      <td>-0.060954</td>\n",
       "      <td>1.170390</td>\n",
       "      <td>0.569095</td>\n",
       "      <td>0.019840</td>\n",
       "      <td>0.099201</td>\n",
       "      <td>-0.162850</td>\n",
       "      <td>0.316895</td>\n",
       "    </tr>\n",
       "    <tr>\n",
       "      <th>3</th>\n",
       "      <td>-1.657956</td>\n",
       "      <td>-1.315865</td>\n",
       "      <td>-1.683055</td>\n",
       "      <td>-0.290032</td>\n",
       "      <td>0.073606</td>\n",
       "      <td>-0.816679</td>\n",
       "      <td>-0.085347</td>\n",
       "      <td>0.316895</td>\n",
       "      <td>-0.162850</td>\n",
       "      <td>0.091459</td>\n",
       "      <td>-0.060954</td>\n",
       "      <td>1.170390</td>\n",
       "      <td>0.569095</td>\n",
       "      <td>0.019840</td>\n",
       "      <td>0.099201</td>\n",
       "      <td>-0.162850</td>\n",
       "      <td>0.316895</td>\n",
       "    </tr>\n",
       "    <tr>\n",
       "      <th>4</th>\n",
       "      <td>-1.657956</td>\n",
       "      <td>-1.283245</td>\n",
       "      <td>-1.683055</td>\n",
       "      <td>-0.290032</td>\n",
       "      <td>0.073606</td>\n",
       "      <td>-0.816679</td>\n",
       "      <td>-0.085347</td>\n",
       "      <td>0.316895</td>\n",
       "      <td>-0.162850</td>\n",
       "      <td>0.091459</td>\n",
       "      <td>-0.060954</td>\n",
       "      <td>1.170390</td>\n",
       "      <td>0.569095</td>\n",
       "      <td>0.019840</td>\n",
       "      <td>0.099201</td>\n",
       "      <td>-0.162850</td>\n",
       "      <td>0.316895</td>\n",
       "    </tr>\n",
       "    <tr>\n",
       "      <th>...</th>\n",
       "      <td>...</td>\n",
       "      <td>...</td>\n",
       "      <td>...</td>\n",
       "      <td>...</td>\n",
       "      <td>...</td>\n",
       "      <td>...</td>\n",
       "      <td>...</td>\n",
       "      <td>...</td>\n",
       "      <td>...</td>\n",
       "      <td>...</td>\n",
       "      <td>...</td>\n",
       "      <td>...</td>\n",
       "      <td>...</td>\n",
       "      <td>...</td>\n",
       "      <td>...</td>\n",
       "      <td>...</td>\n",
       "      <td>...</td>\n",
       "    </tr>\n",
       "    <tr>\n",
       "      <th>115059</th>\n",
       "      <td>1.776894</td>\n",
       "      <td>1.587292</td>\n",
       "      <td>1.692932</td>\n",
       "      <td>-0.290032</td>\n",
       "      <td>1.181271</td>\n",
       "      <td>0.929055</td>\n",
       "      <td>-0.698176</td>\n",
       "      <td>-0.264229</td>\n",
       "      <td>-0.166549</td>\n",
       "      <td>-0.411733</td>\n",
       "      <td>-0.105842</td>\n",
       "      <td>-1.315901</td>\n",
       "      <td>-1.317896</td>\n",
       "      <td>-0.329306</td>\n",
       "      <td>-1.646529</td>\n",
       "      <td>-0.698176</td>\n",
       "      <td>-0.105842</td>\n",
       "    </tr>\n",
       "    <tr>\n",
       "      <th>115060</th>\n",
       "      <td>1.776894</td>\n",
       "      <td>1.619912</td>\n",
       "      <td>1.692932</td>\n",
       "      <td>-0.290032</td>\n",
       "      <td>1.181271</td>\n",
       "      <td>0.929055</td>\n",
       "      <td>-0.698176</td>\n",
       "      <td>-0.264229</td>\n",
       "      <td>-0.166549</td>\n",
       "      <td>-0.411733</td>\n",
       "      <td>-0.105842</td>\n",
       "      <td>-1.315901</td>\n",
       "      <td>-1.317896</td>\n",
       "      <td>-0.329306</td>\n",
       "      <td>-1.646529</td>\n",
       "      <td>-0.698176</td>\n",
       "      <td>-0.105842</td>\n",
       "    </tr>\n",
       "    <tr>\n",
       "      <th>115061</th>\n",
       "      <td>1.776894</td>\n",
       "      <td>1.652532</td>\n",
       "      <td>1.692932</td>\n",
       "      <td>-0.290032</td>\n",
       "      <td>1.181271</td>\n",
       "      <td>0.929055</td>\n",
       "      <td>-0.698176</td>\n",
       "      <td>-0.264229</td>\n",
       "      <td>-0.166549</td>\n",
       "      <td>-0.411733</td>\n",
       "      <td>-0.105842</td>\n",
       "      <td>-1.315901</td>\n",
       "      <td>-1.317896</td>\n",
       "      <td>-0.329306</td>\n",
       "      <td>-1.646529</td>\n",
       "      <td>-0.698176</td>\n",
       "      <td>-0.105842</td>\n",
       "    </tr>\n",
       "    <tr>\n",
       "      <th>115062</th>\n",
       "      <td>1.776894</td>\n",
       "      <td>1.717771</td>\n",
       "      <td>1.692932</td>\n",
       "      <td>-0.290032</td>\n",
       "      <td>1.181271</td>\n",
       "      <td>0.929055</td>\n",
       "      <td>-0.698176</td>\n",
       "      <td>-0.264229</td>\n",
       "      <td>-0.166549</td>\n",
       "      <td>-0.411733</td>\n",
       "      <td>-0.105842</td>\n",
       "      <td>-1.315901</td>\n",
       "      <td>-1.317896</td>\n",
       "      <td>-0.329306</td>\n",
       "      <td>-1.646529</td>\n",
       "      <td>-0.698176</td>\n",
       "      <td>-0.105842</td>\n",
       "    </tr>\n",
       "    <tr>\n",
       "      <th>115063</th>\n",
       "      <td>1.776894</td>\n",
       "      <td>1.750391</td>\n",
       "      <td>1.692932</td>\n",
       "      <td>-0.290032</td>\n",
       "      <td>1.181271</td>\n",
       "      <td>0.929055</td>\n",
       "      <td>-0.698176</td>\n",
       "      <td>-0.264229</td>\n",
       "      <td>-0.166549</td>\n",
       "      <td>-0.411733</td>\n",
       "      <td>-0.105842</td>\n",
       "      <td>-1.315901</td>\n",
       "      <td>-1.317896</td>\n",
       "      <td>-0.329306</td>\n",
       "      <td>-1.646529</td>\n",
       "      <td>-0.698176</td>\n",
       "      <td>-0.105842</td>\n",
       "    </tr>\n",
       "  </tbody>\n",
       "</table>\n",
       "<p>115064 rows × 17 columns</p>\n",
       "</div>"
      ],
      "text/plain": [
       "           Store      Dept      Date  IsHoliday  Temperature  Fuel_Price  \\\n",
       "0      -1.657956 -1.413724 -1.683055  -0.290032     0.073606   -0.816679   \n",
       "1      -1.657956 -1.381105 -1.683055  -0.290032     0.073606   -0.816679   \n",
       "2      -1.657956 -1.348485 -1.683055  -0.290032     0.073606   -0.816679   \n",
       "3      -1.657956 -1.315865 -1.683055  -0.290032     0.073606   -0.816679   \n",
       "4      -1.657956 -1.283245 -1.683055  -0.290032     0.073606   -0.816679   \n",
       "...          ...       ...       ...        ...          ...         ...   \n",
       "115059  1.776894  1.587292  1.692932  -0.290032     1.181271    0.929055   \n",
       "115060  1.776894  1.619912  1.692932  -0.290032     1.181271    0.929055   \n",
       "115061  1.776894  1.652532  1.692932  -0.290032     1.181271    0.929055   \n",
       "115062  1.776894  1.717771  1.692932  -0.290032     1.181271    0.929055   \n",
       "115063  1.776894  1.750391  1.692932  -0.290032     1.181271    0.929055   \n",
       "\n",
       "        MarkDown1  MarkDown2  MarkDown3  MarkDown4  MarkDown5       CPI  \\\n",
       "0       -0.085347   0.316895  -0.162850   0.091459  -0.060954  1.170390   \n",
       "1       -0.085347   0.316895  -0.162850   0.091459  -0.060954  1.170390   \n",
       "2       -0.085347   0.316895  -0.162850   0.091459  -0.060954  1.170390   \n",
       "3       -0.085347   0.316895  -0.162850   0.091459  -0.060954  1.170390   \n",
       "4       -0.085347   0.316895  -0.162850   0.091459  -0.060954  1.170390   \n",
       "...           ...        ...        ...        ...        ...       ...   \n",
       "115059  -0.698176  -0.264229  -0.166549  -0.411733  -0.105842 -1.315901   \n",
       "115060  -0.698176  -0.264229  -0.166549  -0.411733  -0.105842 -1.315901   \n",
       "115061  -0.698176  -0.264229  -0.166549  -0.411733  -0.105842 -1.315901   \n",
       "115062  -0.698176  -0.264229  -0.166549  -0.411733  -0.105842 -1.315901   \n",
       "115063  -0.698176  -0.264229  -0.166549  -0.411733  -0.105842 -1.315901   \n",
       "\n",
       "        Unemployment  MDAverage     MDSum     MDMin     MDMax  \n",
       "0           0.569095   0.019840  0.099201 -0.162850  0.316895  \n",
       "1           0.569095   0.019840  0.099201 -0.162850  0.316895  \n",
       "2           0.569095   0.019840  0.099201 -0.162850  0.316895  \n",
       "3           0.569095   0.019840  0.099201 -0.162850  0.316895  \n",
       "4           0.569095   0.019840  0.099201 -0.162850  0.316895  \n",
       "...              ...        ...       ...       ...       ...  \n",
       "115059     -1.317896  -0.329306 -1.646529 -0.698176 -0.105842  \n",
       "115060     -1.317896  -0.329306 -1.646529 -0.698176 -0.105842  \n",
       "115061     -1.317896  -0.329306 -1.646529 -0.698176 -0.105842  \n",
       "115062     -1.317896  -0.329306 -1.646529 -0.698176 -0.105842  \n",
       "115063     -1.317896  -0.329306 -1.646529 -0.698176 -0.105842  \n",
       "\n",
       "[115064 rows x 17 columns]"
      ]
     },
     "execution_count": 15,
     "metadata": {},
     "output_type": "execute_result"
    }
   ],
   "source": [
    "submission_test"
   ]
  },
  {
   "cell_type": "code",
   "execution_count": 91,
   "id": "9cde99f2",
   "metadata": {},
   "outputs": [
    {
     "data": {
      "text/plain": [
       "array([26.16061 , 34.974632, 21.097387, ..., 31.623554, 19.97    ,\n",
       "        9.788482], dtype=float32)"
      ]
     },
     "execution_count": 91,
     "metadata": {},
     "output_type": "execute_result"
    }
   ],
   "source": [
    "y_pred = reg.predict(submission_test)\n",
    "y_pred"
   ]
  },
  {
   "cell_type": "code",
   "execution_count": 92,
   "id": "c01d5f50",
   "metadata": {},
   "outputs": [
    {
     "data": {
      "text/plain": [
       "array([17903.734  , 42781.84   ,  9390.441  , ..., 31625.11   ,\n",
       "        7964.053  ,   937.87726], dtype=float32)"
      ]
     },
     "execution_count": 92,
     "metadata": {},
     "output_type": "execute_result"
    }
   ],
   "source": [
    "weekly_sales = y_pred**3\n",
    "weekly_sales"
   ]
  },
  {
   "cell_type": "code",
   "execution_count": 93,
   "id": "568426a4",
   "metadata": {},
   "outputs": [
    {
     "data": {
      "text/plain": [
       "17903.734"
      ]
     },
     "execution_count": 93,
     "metadata": {},
     "output_type": "execute_result"
    }
   ],
   "source": [
    "weekly_sales[0]"
   ]
  },
  {
   "cell_type": "code",
   "execution_count": 94,
   "id": "e3e15b50",
   "metadata": {},
   "outputs": [
    {
     "data": {
      "text/html": [
       "<div>\n",
       "<style scoped>\n",
       "    .dataframe tbody tr th:only-of-type {\n",
       "        vertical-align: middle;\n",
       "    }\n",
       "\n",
       "    .dataframe tbody tr th {\n",
       "        vertical-align: top;\n",
       "    }\n",
       "\n",
       "    .dataframe thead th {\n",
       "        text-align: right;\n",
       "    }\n",
       "</style>\n",
       "<table border=\"1\" class=\"dataframe\">\n",
       "  <thead>\n",
       "    <tr style=\"text-align: right;\">\n",
       "      <th></th>\n",
       "      <th>Id</th>\n",
       "      <th>Weekly_Sales</th>\n",
       "    </tr>\n",
       "  </thead>\n",
       "  <tbody>\n",
       "    <tr>\n",
       "      <th>0</th>\n",
       "      <td>1_1_2012-11-02</td>\n",
       "      <td>17903.740234</td>\n",
       "    </tr>\n",
       "    <tr>\n",
       "      <th>1</th>\n",
       "      <td>1_1_2012-11-09</td>\n",
       "      <td>42781.839844</td>\n",
       "    </tr>\n",
       "    <tr>\n",
       "      <th>2</th>\n",
       "      <td>1_1_2012-11-16</td>\n",
       "      <td>9390.440430</td>\n",
       "    </tr>\n",
       "    <tr>\n",
       "      <th>3</th>\n",
       "      <td>1_1_2012-11-23</td>\n",
       "      <td>29190.160156</td>\n",
       "    </tr>\n",
       "    <tr>\n",
       "      <th>4</th>\n",
       "      <td>1_1_2012-11-30</td>\n",
       "      <td>18858.919922</td>\n",
       "    </tr>\n",
       "    <tr>\n",
       "      <th>...</th>\n",
       "      <td>...</td>\n",
       "      <td>...</td>\n",
       "    </tr>\n",
       "    <tr>\n",
       "      <th>115059</th>\n",
       "      <td>45_98_2013-06-28</td>\n",
       "      <td>8173.049805</td>\n",
       "    </tr>\n",
       "    <tr>\n",
       "      <th>115060</th>\n",
       "      <td>45_98_2013-07-05</td>\n",
       "      <td>23626.859375</td>\n",
       "    </tr>\n",
       "    <tr>\n",
       "      <th>115061</th>\n",
       "      <td>45_98_2013-07-12</td>\n",
       "      <td>31625.109375</td>\n",
       "    </tr>\n",
       "    <tr>\n",
       "      <th>115062</th>\n",
       "      <td>45_98_2013-07-19</td>\n",
       "      <td>7964.049805</td>\n",
       "    </tr>\n",
       "    <tr>\n",
       "      <th>115063</th>\n",
       "      <td>45_98_2013-07-26</td>\n",
       "      <td>937.880005</td>\n",
       "    </tr>\n",
       "  </tbody>\n",
       "</table>\n",
       "<p>115064 rows × 2 columns</p>\n",
       "</div>"
      ],
      "text/plain": [
       "                      Id  Weekly_Sales\n",
       "0         1_1_2012-11-02  17903.740234\n",
       "1         1_1_2012-11-09  42781.839844\n",
       "2         1_1_2012-11-16   9390.440430\n",
       "3         1_1_2012-11-23  29190.160156\n",
       "4         1_1_2012-11-30  18858.919922\n",
       "...                  ...           ...\n",
       "115059  45_98_2013-06-28   8173.049805\n",
       "115060  45_98_2013-07-05  23626.859375\n",
       "115061  45_98_2013-07-12  31625.109375\n",
       "115062  45_98_2013-07-19   7964.049805\n",
       "115063  45_98_2013-07-26    937.880005\n",
       "\n",
       "[115064 rows x 2 columns]"
      ]
     },
     "execution_count": 94,
     "metadata": {},
     "output_type": "execute_result"
    }
   ],
   "source": [
    "sub = {'Id':Id, 'Weekly_Sales':weekly_sales}\n",
    "xgb_submission = pd.DataFrame(data=sub)\n",
    "\n",
    "xgb_submission['Weekly_Sales'] = round(xgb_submission['Weekly_Sales'], 2)\n",
    "\n",
    "xgb_submission"
   ]
  },
  {
   "cell_type": "code",
   "execution_count": 95,
   "id": "da91645d",
   "metadata": {},
   "outputs": [
    {
     "data": {
      "text/plain": [
       "42781.84"
      ]
     },
     "execution_count": 95,
     "metadata": {},
     "output_type": "execute_result"
    }
   ],
   "source": [
    "xgb_submission['Weekly_Sales'][1]"
   ]
  },
  {
   "cell_type": "code",
   "execution_count": 96,
   "id": "5ceeb371",
   "metadata": {},
   "outputs": [],
   "source": [
    "xgb_submission.to_csv('Submission Files/XGBoost 4.csv',index=False)"
   ]
  },
  {
   "cell_type": "code",
   "execution_count": null,
   "id": "44d6ab0e",
   "metadata": {},
   "outputs": [],
   "source": []
  }
 ],
 "metadata": {
  "kernelspec": {
   "display_name": "Python 3 (ipykernel)",
   "language": "python",
   "name": "python3"
  },
  "language_info": {
   "codemirror_mode": {
    "name": "ipython",
    "version": 3
   },
   "file_extension": ".py",
   "mimetype": "text/x-python",
   "name": "python",
   "nbconvert_exporter": "python",
   "pygments_lexer": "ipython3",
   "version": "3.9.13"
  },
  "vscode": {
   "interpreter": {
    "hash": "5f8929016d30f12a89eab5b5e02a6c1410fc73da4b23b89b4eb7a3bc58137fe5"
   }
  }
 },
 "nbformat": 4,
 "nbformat_minor": 5
}
