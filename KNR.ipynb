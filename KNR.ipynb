{
 "cells": [
  {
   "cell_type": "code",
   "execution_count": 2,
   "metadata": {},
   "outputs": [],
   "source": [
    "import pandas as pd \n",
    "import numpy as np \n",
    "import matplotlib.pyplot as plt\n",
    "from sklearn.neighbors import KNeighborsRegressor\n",
    "from sklearn.metrics import mean_squared_error\n",
    "from sklearn.metrics import mean_absolute_error"
   ]
  },
  {
   "cell_type": "code",
   "execution_count": 5,
   "metadata": {},
   "outputs": [],
   "source": [
    "url = 'https://media.githubusercontent.com/media/EricYangg/4AI3-Walmart-Forecast/main/Processed%20Dataset%20Update/x_train.csv'\n",
    "x_train = pd.read_csv(url)\n",
    "\n",
    "url = 'https://media.githubusercontent.com/media/EricYangg/4AI3-Walmart-Forecast/main/Processed%20Dataset%20Update/x_test.csv'\n",
    "x_test = pd.read_csv(url)\n",
    "\n",
    "url = 'https://media.githubusercontent.com/media/EricYangg/4AI3-Walmart-Forecast/main/Processed%20Dataset%20Update/y_train.csv'\n",
    "y_train = pd.read_csv(url)\n",
    "\n",
    "url = 'https://media.githubusercontent.com/media/EricYangg/4AI3-Walmart-Forecast/main/Processed%20Dataset%20Update/y_test.csv'\n",
    "y_test = pd.read_csv(url)\n"
   ]
  },
  {
   "cell_type": "code",
   "execution_count": null,
   "metadata": {},
   "outputs": [
    {
     "data": {
      "text/plain": [
       "KNeighborsRegressor(n_neighbors=2)"
      ]
     },
     "execution_count": 15,
     "metadata": {},
     "output_type": "execute_result"
    }
   ],
   "source": [
    "knr = KNeighborsRegressor(n_neighbors=2)\n",
    "knr.fit(x_train, y_train)"
   ]
  },
  {
   "cell_type": "code",
   "execution_count": null,
   "metadata": {},
   "outputs": [
    {
     "data": {
      "text/plain": [
       "0.18038800492279672"
      ]
     },
     "execution_count": 16,
     "metadata": {},
     "output_type": "execute_result"
    }
   ],
   "source": [
    "knr.score(x_test, y_test)"
   ]
  },
  {
   "cell_type": "markdown",
   "metadata": {},
   "source": [
    "KNR Neighbors Search"
   ]
  },
  {
   "cell_type": "code",
   "execution_count": null,
   "metadata": {},
   "outputs": [
    {
     "name": "stdout",
     "output_type": "stream",
     "text": [
      "1 :  -0.16900122451389543\n",
      "2 :  0.18038800492279672\n",
      "3 :  0.2630879362261167\n",
      "4 :  0.3023392170509589\n",
      "5 :  0.32544860658470787\n",
      "6 :  0.3394832375037087\n",
      "7 :  0.3478266117568871\n",
      "8 :  0.351077871620028\n",
      "9 :  0.3529868295730402\n",
      "10 :  0.35589831846854647\n",
      "11 :  0.3579177622381504\n",
      "12 :  0.3599640033968162\n",
      "13 :  0.3610401297147324\n",
      "14 :  0.3617478920259869\n",
      "15 :  0.36216097960978066\n",
      "16 :  0.3615064347828243\n",
      "17 :  0.3603951125139524\n",
      "18 :  0.3591169453289954\n",
      "19 :  0.35802380657637767\n"
     ]
    }
   ],
   "source": [
    "nums = np.arange(1,20).tolist()\n",
    "scores = []\n",
    "for i in range(len(nums)):\n",
    "  knr = KNeighborsRegressor(n_neighbors=i+1, n_jobs=6)\n",
    "  knr.fit(x_train, y_train)\n",
    "  scores.append(knr.score(x_test, y_test))\n",
    "  print(i+1, ': ' , scores[i])\n"
   ]
  },
  {
   "cell_type": "code",
   "execution_count": null,
   "metadata": {},
   "outputs": [
    {
     "data": {
      "text/plain": [
       "Text(0, 0.5, 'Model Score')"
      ]
     },
     "execution_count": 67,
     "metadata": {},
     "output_type": "execute_result"
    },
    {
     "data": {
      "image/png": "[encoded data removed]",
      "text/plain": [
       "<Figure size 640x480 with 1 Axes>"
      ]
     },
     "metadata": {},
     "output_type": "display_data"
    }
   ],
   "source": [
    "plt.plot(nums, scores)\n",
    "plt.title('KNR Neighbors Search')\n",
    "plt.xlabel('n neighbours')\n",
    "plt.ylabel('Model Score')"
   ]
  },
  {
   "cell_type": "code",
   "execution_count": null,
   "metadata": {},
   "outputs": [
    {
     "data": {
      "text/plain": [
       "14"
      ]
     },
     "execution_count": 28,
     "metadata": {},
     "output_type": "execute_result"
    }
   ],
   "source": [
    "np.argmax(scores)"
   ]
  },
  {
   "cell_type": "code",
   "execution_count": null,
   "metadata": {},
   "outputs": [
    {
     "data": {
      "text/plain": [
       "0.36216097960978066"
      ]
     },
     "execution_count": 29,
     "metadata": {},
     "output_type": "execute_result"
    }
   ],
   "source": [
    "scores[np.argmax(scores)]"
   ]
  },
  {
   "cell_type": "code",
   "execution_count": null,
   "metadata": {},
   "outputs": [
    {
     "data": {
      "text/plain": [
       "KNeighborsRegressor(n_neighbors=15)"
      ]
     },
     "execution_count": 58,
     "metadata": {},
     "output_type": "execute_result"
    }
   ],
   "source": [
    "knr = KNeighborsRegressor(n_neighbors=np.argmax(scores)+1)\n",
    "knr.fit(x_train, y_train)"
   ]
  },
  {
   "cell_type": "code",
   "execution_count": 6,
   "metadata": {},
   "outputs": [
    {
     "data": {
      "text/plain": [
       "KNeighborsRegressor(n_neighbors=15)"
      ]
     },
     "execution_count": 6,
     "metadata": {},
     "output_type": "execute_result"
    }
   ],
   "source": [
    "knr = KNeighborsRegressor(n_neighbors=15)\n",
    "knr.fit(x_train, y_train)"
   ]
  },
  {
   "cell_type": "code",
   "execution_count": 7,
   "metadata": {},
   "outputs": [
    {
     "data": {
      "text/plain": [
       "62.96356344720179"
      ]
     },
     "execution_count": 7,
     "metadata": {},
     "output_type": "execute_result"
    }
   ],
   "source": [
    "y_pred = knr.predict(x_test)\n",
    "\n",
    "mean_squared_error(y_test, y_pred)"
   ]
  },
  {
   "cell_type": "code",
   "execution_count": 8,
   "metadata": {},
   "outputs": [
    {
     "data": {
      "text/plain": [
       "6.14763632669891"
      ]
     },
     "execution_count": 8,
     "metadata": {},
     "output_type": "execute_result"
    }
   ],
   "source": [
    "mean_absolute_error(y_test, y_pred)"
   ]
  },
  {
   "cell_type": "markdown",
   "metadata": {},
   "source": [
    "Predict the test set"
   ]
  },
  {
   "cell_type": "code",
   "execution_count": 45,
   "metadata": {},
   "outputs": [],
   "source": [
    "#provided submission test dataset\n",
    "url = 'https://media.githubusercontent.com/media/EricYangg/4AI3-Walmart-Forecast/main/Datasets/test.csv'\n",
    "test = pd.read_csv(url)\n",
    "\n",
    "#test dataset after preprocessing\n",
    "#url = 'https://media.githubusercontent.com/media/EricYangg/4AI3-Walmart-Forecast/main/Processed%20Dataset/Submission%20Test.csv'\n",
    "url = 'https://media.githubusercontent.com/media/EricYangg/4AI3-Walmart-Forecast/main/Processed%20Dataset%20Update/Submission%20Test.csv'\n",
    "submission_test = pd.read_csv(url)"
   ]
  },
  {
   "cell_type": "markdown",
   "metadata": {},
   "source": [
    "Final Submission Format:\n",
    "\n",
    "Id,Weekly_Sales\n",
    "\n",
    "1_1_2012-11-02,0\n",
    "\n",
    "1_1_2012-11-09,0\n",
    "\n",
    "1_1_2012-11-16,0"
   ]
  },
  {
   "cell_type": "code",
   "execution_count": 46,
   "metadata": {},
   "outputs": [
    {
     "data": {
      "text/html": [
       "<div>\n",
       "<style scoped>\n",
       "    .dataframe tbody tr th:only-of-type {\n",
       "        vertical-align: middle;\n",
       "    }\n",
       "\n",
       "    .dataframe tbody tr th {\n",
       "        vertical-align: top;\n",
       "    }\n",
       "\n",
       "    .dataframe thead th {\n",
       "        text-align: right;\n",
       "    }\n",
       "</style>\n",
       "<table border=\"1\" class=\"dataframe\">\n",
       "  <thead>\n",
       "    <tr style=\"text-align: right;\">\n",
       "      <th></th>\n",
       "      <th>Store</th>\n",
       "      <th>Dept</th>\n",
       "      <th>Date</th>\n",
       "      <th>IsHoliday</th>\n",
       "    </tr>\n",
       "  </thead>\n",
       "  <tbody>\n",
       "    <tr>\n",
       "      <th>0</th>\n",
       "      <td>1</td>\n",
       "      <td>1</td>\n",
       "      <td>2012-11-02</td>\n",
       "      <td>False</td>\n",
       "    </tr>\n",
       "    <tr>\n",
       "      <th>1</th>\n",
       "      <td>1</td>\n",
       "      <td>1</td>\n",
       "      <td>2012-11-09</td>\n",
       "      <td>False</td>\n",
       "    </tr>\n",
       "    <tr>\n",
       "      <th>2</th>\n",
       "      <td>1</td>\n",
       "      <td>1</td>\n",
       "      <td>2012-11-16</td>\n",
       "      <td>False</td>\n",
       "    </tr>\n",
       "    <tr>\n",
       "      <th>3</th>\n",
       "      <td>1</td>\n",
       "      <td>1</td>\n",
       "      <td>2012-11-23</td>\n",
       "      <td>True</td>\n",
       "    </tr>\n",
       "    <tr>\n",
       "      <th>4</th>\n",
       "      <td>1</td>\n",
       "      <td>1</td>\n",
       "      <td>2012-11-30</td>\n",
       "      <td>False</td>\n",
       "    </tr>\n",
       "    <tr>\n",
       "      <th>...</th>\n",
       "      <td>...</td>\n",
       "      <td>...</td>\n",
       "      <td>...</td>\n",
       "      <td>...</td>\n",
       "    </tr>\n",
       "    <tr>\n",
       "      <th>115059</th>\n",
       "      <td>45</td>\n",
       "      <td>98</td>\n",
       "      <td>2013-06-28</td>\n",
       "      <td>False</td>\n",
       "    </tr>\n",
       "    <tr>\n",
       "      <th>115060</th>\n",
       "      <td>45</td>\n",
       "      <td>98</td>\n",
       "      <td>2013-07-05</td>\n",
       "      <td>False</td>\n",
       "    </tr>\n",
       "    <tr>\n",
       "      <th>115061</th>\n",
       "      <td>45</td>\n",
       "      <td>98</td>\n",
       "      <td>2013-07-12</td>\n",
       "      <td>False</td>\n",
       "    </tr>\n",
       "    <tr>\n",
       "      <th>115062</th>\n",
       "      <td>45</td>\n",
       "      <td>98</td>\n",
       "      <td>2013-07-19</td>\n",
       "      <td>False</td>\n",
       "    </tr>\n",
       "    <tr>\n",
       "      <th>115063</th>\n",
       "      <td>45</td>\n",
       "      <td>98</td>\n",
       "      <td>2013-07-26</td>\n",
       "      <td>False</td>\n",
       "    </tr>\n",
       "  </tbody>\n",
       "</table>\n",
       "<p>115064 rows × 4 columns</p>\n",
       "</div>"
      ],
      "text/plain": [
       "        Store  Dept        Date  IsHoliday\n",
       "0           1     1  2012-11-02      False\n",
       "1           1     1  2012-11-09      False\n",
       "2           1     1  2012-11-16      False\n",
       "3           1     1  2012-11-23       True\n",
       "4           1     1  2012-11-30      False\n",
       "...       ...   ...         ...        ...\n",
       "115059     45    98  2013-06-28      False\n",
       "115060     45    98  2013-07-05      False\n",
       "115061     45    98  2013-07-12      False\n",
       "115062     45    98  2013-07-19      False\n",
       "115063     45    98  2013-07-26      False\n",
       "\n",
       "[115064 rows x 4 columns]"
      ]
     },
     "execution_count": 46,
     "metadata": {},
     "output_type": "execute_result"
    }
   ],
   "source": [
    "test"
   ]
  },
  {
   "cell_type": "code",
   "execution_count": 47,
   "metadata": {},
   "outputs": [
    {
     "data": {
      "text/plain": [
       "0           1_1_2012-11-02\n",
       "1           1_1_2012-11-09\n",
       "2           1_1_2012-11-16\n",
       "3           1_1_2012-11-23\n",
       "4           1_1_2012-11-30\n",
       "                ...       \n",
       "115059    45_98_2013-06-28\n",
       "115060    45_98_2013-07-05\n",
       "115061    45_98_2013-07-12\n",
       "115062    45_98_2013-07-19\n",
       "115063    45_98_2013-07-26\n",
       "Length: 115064, dtype: string"
      ]
     },
     "execution_count": 47,
     "metadata": {},
     "output_type": "execute_result"
    }
   ],
   "source": [
    "Id = test['Store'].astype('string') + '_' + test['Dept'].astype('string') + '_' + test['Date'].astype('string')\n",
    "Id"
   ]
  },
  {
   "cell_type": "code",
   "execution_count": 48,
   "metadata": {},
   "outputs": [
    {
     "data": {
      "text/html": [
       "<div>\n",
       "<style scoped>\n",
       "    .dataframe tbody tr th:only-of-type {\n",
       "        vertical-align: middle;\n",
       "    }\n",
       "\n",
       "    .dataframe tbody tr th {\n",
       "        vertical-align: top;\n",
       "    }\n",
       "\n",
       "    .dataframe thead th {\n",
       "        text-align: right;\n",
       "    }\n",
       "</style>\n",
       "<table border=\"1\" class=\"dataframe\">\n",
       "  <thead>\n",
       "    <tr style=\"text-align: right;\">\n",
       "      <th></th>\n",
       "      <th>Store</th>\n",
       "      <th>Dept</th>\n",
       "      <th>Date</th>\n",
       "      <th>IsHoliday</th>\n",
       "      <th>Temperature</th>\n",
       "      <th>Fuel_Price</th>\n",
       "      <th>MarkDown1</th>\n",
       "      <th>MarkDown2</th>\n",
       "      <th>MarkDown3</th>\n",
       "      <th>MarkDown4</th>\n",
       "      <th>MarkDown5</th>\n",
       "      <th>CPI</th>\n",
       "      <th>Unemployment</th>\n",
       "      <th>Type</th>\n",
       "      <th>Size</th>\n",
       "      <th>MDAverage</th>\n",
       "      <th>MDSum</th>\n",
       "      <th>MDMin</th>\n",
       "      <th>MDMax</th>\n",
       "    </tr>\n",
       "  </thead>\n",
       "  <tbody>\n",
       "    <tr>\n",
       "      <th>0</th>\n",
       "      <td>-1.657956</td>\n",
       "      <td>-1.413724</td>\n",
       "      <td>-1.683055</td>\n",
       "      <td>-0.290032</td>\n",
       "      <td>0.073606</td>\n",
       "      <td>-0.816679</td>\n",
       "      <td>-0.085347</td>\n",
       "      <td>0.316895</td>\n",
       "      <td>-0.162850</td>\n",
       "      <td>0.091459</td>\n",
       "      <td>-0.060954</td>\n",
       "      <td>1.170390</td>\n",
       "      <td>0.569095</td>\n",
       "      <td>-0.886164</td>\n",
       "      <td>0.242483</td>\n",
       "      <td>0.019840</td>\n",
       "      <td>0.099201</td>\n",
       "      <td>-0.162850</td>\n",
       "      <td>0.316895</td>\n",
       "    </tr>\n",
       "    <tr>\n",
       "      <th>1</th>\n",
       "      <td>-1.657956</td>\n",
       "      <td>-1.381105</td>\n",
       "      <td>-1.683055</td>\n",
       "      <td>-0.290032</td>\n",
       "      <td>0.073606</td>\n",
       "      <td>-0.816679</td>\n",
       "      <td>-0.085347</td>\n",
       "      <td>0.316895</td>\n",
       "      <td>-0.162850</td>\n",
       "      <td>0.091459</td>\n",
       "      <td>-0.060954</td>\n",
       "      <td>1.170390</td>\n",
       "      <td>0.569095</td>\n",
       "      <td>-0.886164</td>\n",
       "      <td>0.242483</td>\n",
       "      <td>0.019840</td>\n",
       "      <td>0.099201</td>\n",
       "      <td>-0.162850</td>\n",
       "      <td>0.316895</td>\n",
       "    </tr>\n",
       "    <tr>\n",
       "      <th>2</th>\n",
       "      <td>-1.657956</td>\n",
       "      <td>-1.348485</td>\n",
       "      <td>-1.683055</td>\n",
       "      <td>-0.290032</td>\n",
       "      <td>0.073606</td>\n",
       "      <td>-0.816679</td>\n",
       "      <td>-0.085347</td>\n",
       "      <td>0.316895</td>\n",
       "      <td>-0.162850</td>\n",
       "      <td>0.091459</td>\n",
       "      <td>-0.060954</td>\n",
       "      <td>1.170390</td>\n",
       "      <td>0.569095</td>\n",
       "      <td>-0.886164</td>\n",
       "      <td>0.242483</td>\n",
       "      <td>0.019840</td>\n",
       "      <td>0.099201</td>\n",
       "      <td>-0.162850</td>\n",
       "      <td>0.316895</td>\n",
       "    </tr>\n",
       "    <tr>\n",
       "      <th>3</th>\n",
       "      <td>-1.657956</td>\n",
       "      <td>-1.315865</td>\n",
       "      <td>-1.683055</td>\n",
       "      <td>-0.290032</td>\n",
       "      <td>0.073606</td>\n",
       "      <td>-0.816679</td>\n",
       "      <td>-0.085347</td>\n",
       "      <td>0.316895</td>\n",
       "      <td>-0.162850</td>\n",
       "      <td>0.091459</td>\n",
       "      <td>-0.060954</td>\n",
       "      <td>1.170390</td>\n",
       "      <td>0.569095</td>\n",
       "      <td>-0.886164</td>\n",
       "      <td>0.242483</td>\n",
       "      <td>0.019840</td>\n",
       "      <td>0.099201</td>\n",
       "      <td>-0.162850</td>\n",
       "      <td>0.316895</td>\n",
       "    </tr>\n",
       "    <tr>\n",
       "      <th>4</th>\n",
       "      <td>-1.657956</td>\n",
       "      <td>-1.283245</td>\n",
       "      <td>-1.683055</td>\n",
       "      <td>-0.290032</td>\n",
       "      <td>0.073606</td>\n",
       "      <td>-0.816679</td>\n",
       "      <td>-0.085347</td>\n",
       "      <td>0.316895</td>\n",
       "      <td>-0.162850</td>\n",
       "      <td>0.091459</td>\n",
       "      <td>-0.060954</td>\n",
       "      <td>1.170390</td>\n",
       "      <td>0.569095</td>\n",
       "      <td>-0.886164</td>\n",
       "      <td>0.242483</td>\n",
       "      <td>0.019840</td>\n",
       "      <td>0.099201</td>\n",
       "      <td>-0.162850</td>\n",
       "      <td>0.316895</td>\n",
       "    </tr>\n",
       "    <tr>\n",
       "      <th>...</th>\n",
       "      <td>...</td>\n",
       "      <td>...</td>\n",
       "      <td>...</td>\n",
       "      <td>...</td>\n",
       "      <td>...</td>\n",
       "      <td>...</td>\n",
       "      <td>...</td>\n",
       "      <td>...</td>\n",
       "      <td>...</td>\n",
       "      <td>...</td>\n",
       "      <td>...</td>\n",
       "      <td>...</td>\n",
       "      <td>...</td>\n",
       "      <td>...</td>\n",
       "      <td>...</td>\n",
       "      <td>...</td>\n",
       "      <td>...</td>\n",
       "      <td>...</td>\n",
       "      <td>...</td>\n",
       "    </tr>\n",
       "    <tr>\n",
       "      <th>115059</th>\n",
       "      <td>1.776894</td>\n",
       "      <td>1.587292</td>\n",
       "      <td>1.692932</td>\n",
       "      <td>-0.290032</td>\n",
       "      <td>1.181271</td>\n",
       "      <td>0.929055</td>\n",
       "      <td>-0.698176</td>\n",
       "      <td>-0.264229</td>\n",
       "      <td>-0.166549</td>\n",
       "      <td>-0.411733</td>\n",
       "      <td>-0.105842</td>\n",
       "      <td>-1.315901</td>\n",
       "      <td>-1.317896</td>\n",
       "      <td>0.608889</td>\n",
       "      <td>-0.299095</td>\n",
       "      <td>-0.329306</td>\n",
       "      <td>-1.646529</td>\n",
       "      <td>-0.698176</td>\n",
       "      <td>-0.105842</td>\n",
       "    </tr>\n",
       "    <tr>\n",
       "      <th>115060</th>\n",
       "      <td>1.776894</td>\n",
       "      <td>1.619912</td>\n",
       "      <td>1.692932</td>\n",
       "      <td>-0.290032</td>\n",
       "      <td>1.181271</td>\n",
       "      <td>0.929055</td>\n",
       "      <td>-0.698176</td>\n",
       "      <td>-0.264229</td>\n",
       "      <td>-0.166549</td>\n",
       "      <td>-0.411733</td>\n",
       "      <td>-0.105842</td>\n",
       "      <td>-1.315901</td>\n",
       "      <td>-1.317896</td>\n",
       "      <td>0.608889</td>\n",
       "      <td>-0.299095</td>\n",
       "      <td>-0.329306</td>\n",
       "      <td>-1.646529</td>\n",
       "      <td>-0.698176</td>\n",
       "      <td>-0.105842</td>\n",
       "    </tr>\n",
       "    <tr>\n",
       "      <th>115061</th>\n",
       "      <td>1.776894</td>\n",
       "      <td>1.652532</td>\n",
       "      <td>1.692932</td>\n",
       "      <td>-0.290032</td>\n",
       "      <td>1.181271</td>\n",
       "      <td>0.929055</td>\n",
       "      <td>-0.698176</td>\n",
       "      <td>-0.264229</td>\n",
       "      <td>-0.166549</td>\n",
       "      <td>-0.411733</td>\n",
       "      <td>-0.105842</td>\n",
       "      <td>-1.315901</td>\n",
       "      <td>-1.317896</td>\n",
       "      <td>0.608889</td>\n",
       "      <td>-0.299095</td>\n",
       "      <td>-0.329306</td>\n",
       "      <td>-1.646529</td>\n",
       "      <td>-0.698176</td>\n",
       "      <td>-0.105842</td>\n",
       "    </tr>\n",
       "    <tr>\n",
       "      <th>115062</th>\n",
       "      <td>1.776894</td>\n",
       "      <td>1.717771</td>\n",
       "      <td>1.692932</td>\n",
       "      <td>-0.290032</td>\n",
       "      <td>1.181271</td>\n",
       "      <td>0.929055</td>\n",
       "      <td>-0.698176</td>\n",
       "      <td>-0.264229</td>\n",
       "      <td>-0.166549</td>\n",
       "      <td>-0.411733</td>\n",
       "      <td>-0.105842</td>\n",
       "      <td>-1.315901</td>\n",
       "      <td>-1.317896</td>\n",
       "      <td>0.608889</td>\n",
       "      <td>-0.299095</td>\n",
       "      <td>-0.329306</td>\n",
       "      <td>-1.646529</td>\n",
       "      <td>-0.698176</td>\n",
       "      <td>-0.105842</td>\n",
       "    </tr>\n",
       "    <tr>\n",
       "      <th>115063</th>\n",
       "      <td>1.776894</td>\n",
       "      <td>1.750391</td>\n",
       "      <td>1.692932</td>\n",
       "      <td>-0.290032</td>\n",
       "      <td>1.181271</td>\n",
       "      <td>0.929055</td>\n",
       "      <td>-0.698176</td>\n",
       "      <td>-0.264229</td>\n",
       "      <td>-0.166549</td>\n",
       "      <td>-0.411733</td>\n",
       "      <td>-0.105842</td>\n",
       "      <td>-1.315901</td>\n",
       "      <td>-1.317896</td>\n",
       "      <td>0.608889</td>\n",
       "      <td>-0.299095</td>\n",
       "      <td>-0.329306</td>\n",
       "      <td>-1.646529</td>\n",
       "      <td>-0.698176</td>\n",
       "      <td>-0.105842</td>\n",
       "    </tr>\n",
       "  </tbody>\n",
       "</table>\n",
       "<p>115064 rows × 19 columns</p>\n",
       "</div>"
      ],
      "text/plain": [
       "           Store      Dept      Date  IsHoliday  Temperature  Fuel_Price  \\\n",
       "0      -1.657956 -1.413724 -1.683055  -0.290032     0.073606   -0.816679   \n",
       "1      -1.657956 -1.381105 -1.683055  -0.290032     0.073606   -0.816679   \n",
       "2      -1.657956 -1.348485 -1.683055  -0.290032     0.073606   -0.816679   \n",
       "3      -1.657956 -1.315865 -1.683055  -0.290032     0.073606   -0.816679   \n",
       "4      -1.657956 -1.283245 -1.683055  -0.290032     0.073606   -0.816679   \n",
       "...          ...       ...       ...        ...          ...         ...   \n",
       "115059  1.776894  1.587292  1.692932  -0.290032     1.181271    0.929055   \n",
       "115060  1.776894  1.619912  1.692932  -0.290032     1.181271    0.929055   \n",
       "115061  1.776894  1.652532  1.692932  -0.290032     1.181271    0.929055   \n",
       "115062  1.776894  1.717771  1.692932  -0.290032     1.181271    0.929055   \n",
       "115063  1.776894  1.750391  1.692932  -0.290032     1.181271    0.929055   \n",
       "\n",
       "        MarkDown1  MarkDown2  MarkDown3  MarkDown4  MarkDown5       CPI  \\\n",
       "0       -0.085347   0.316895  -0.162850   0.091459  -0.060954  1.170390   \n",
       "1       -0.085347   0.316895  -0.162850   0.091459  -0.060954  1.170390   \n",
       "2       -0.085347   0.316895  -0.162850   0.091459  -0.060954  1.170390   \n",
       "3       -0.085347   0.316895  -0.162850   0.091459  -0.060954  1.170390   \n",
       "4       -0.085347   0.316895  -0.162850   0.091459  -0.060954  1.170390   \n",
       "...           ...        ...        ...        ...        ...       ...   \n",
       "115059  -0.698176  -0.264229  -0.166549  -0.411733  -0.105842 -1.315901   \n",
       "115060  -0.698176  -0.264229  -0.166549  -0.411733  -0.105842 -1.315901   \n",
       "115061  -0.698176  -0.264229  -0.166549  -0.411733  -0.105842 -1.315901   \n",
       "115062  -0.698176  -0.264229  -0.166549  -0.411733  -0.105842 -1.315901   \n",
       "115063  -0.698176  -0.264229  -0.166549  -0.411733  -0.105842 -1.315901   \n",
       "\n",
       "        Unemployment      Type      Size  MDAverage     MDSum     MDMin  \\\n",
       "0           0.569095 -0.886164  0.242483   0.019840  0.099201 -0.162850   \n",
       "1           0.569095 -0.886164  0.242483   0.019840  0.099201 -0.162850   \n",
       "2           0.569095 -0.886164  0.242483   0.019840  0.099201 -0.162850   \n",
       "3           0.569095 -0.886164  0.242483   0.019840  0.099201 -0.162850   \n",
       "4           0.569095 -0.886164  0.242483   0.019840  0.099201 -0.162850   \n",
       "...              ...       ...       ...        ...       ...       ...   \n",
       "115059     -1.317896  0.608889 -0.299095  -0.329306 -1.646529 -0.698176   \n",
       "115060     -1.317896  0.608889 -0.299095  -0.329306 -1.646529 -0.698176   \n",
       "115061     -1.317896  0.608889 -0.299095  -0.329306 -1.646529 -0.698176   \n",
       "115062     -1.317896  0.608889 -0.299095  -0.329306 -1.646529 -0.698176   \n",
       "115063     -1.317896  0.608889 -0.299095  -0.329306 -1.646529 -0.698176   \n",
       "\n",
       "           MDMax  \n",
       "0       0.316895  \n",
       "1       0.316895  \n",
       "2       0.316895  \n",
       "3       0.316895  \n",
       "4       0.316895  \n",
       "...          ...  \n",
       "115059 -0.105842  \n",
       "115060 -0.105842  \n",
       "115061 -0.105842  \n",
       "115062 -0.105842  \n",
       "115063 -0.105842  \n",
       "\n",
       "[115064 rows x 19 columns]"
      ]
     },
     "execution_count": 48,
     "metadata": {},
     "output_type": "execute_result"
    }
   ],
   "source": [
    "submission_test"
   ]
  },
  {
   "cell_type": "code",
   "execution_count": 49,
   "metadata": {},
   "outputs": [
    {
     "data": {
      "text/plain": [
       "array([[28.16380144],\n",
       "       [27.9649    ],\n",
       "       [27.43963178],\n",
       "       ...,\n",
       "       [25.93219353],\n",
       "       [24.20189397],\n",
       "       [23.94883829]])"
      ]
     },
     "execution_count": 49,
     "metadata": {},
     "output_type": "execute_result"
    }
   ],
   "source": [
    "y_pred = knr.predict(submission_test)\n",
    "y_pred"
   ]
  },
  {
   "cell_type": "markdown",
   "metadata": {},
   "source": [
    "We previously scaled down the weekly sales by cube rooting the values and since these are dollar values, the final number is rounded to the nearest 2 decimals "
   ]
  },
  {
   "cell_type": "code",
   "execution_count": 50,
   "metadata": {},
   "outputs": [
    {
     "data": {
      "text/plain": [
       "array([22339.52, 21869.55, 20660.22, ..., 17438.85, 14175.82, 13735.78])"
      ]
     },
     "execution_count": 50,
     "metadata": {},
     "output_type": "execute_result"
    }
   ],
   "source": [
    "weekly_sales = np.round(y_pred[:,0]**3, 2)\n",
    "weekly_sales"
   ]
  },
  {
   "cell_type": "code",
   "execution_count": 51,
   "metadata": {},
   "outputs": [
    {
     "data": {
      "text/html": [
       "<div>\n",
       "<style scoped>\n",
       "    .dataframe tbody tr th:only-of-type {\n",
       "        vertical-align: middle;\n",
       "    }\n",
       "\n",
       "    .dataframe tbody tr th {\n",
       "        vertical-align: top;\n",
       "    }\n",
       "\n",
       "    .dataframe thead th {\n",
       "        text-align: right;\n",
       "    }\n",
       "</style>\n",
       "<table border=\"1\" class=\"dataframe\">\n",
       "  <thead>\n",
       "    <tr style=\"text-align: right;\">\n",
       "      <th></th>\n",
       "      <th>Id</th>\n",
       "      <th>Weekly_Sales</th>\n",
       "    </tr>\n",
       "  </thead>\n",
       "  <tbody>\n",
       "    <tr>\n",
       "      <th>0</th>\n",
       "      <td>1_1_2012-11-02</td>\n",
       "      <td>22339.52</td>\n",
       "    </tr>\n",
       "    <tr>\n",
       "      <th>1</th>\n",
       "      <td>1_1_2012-11-09</td>\n",
       "      <td>21869.55</td>\n",
       "    </tr>\n",
       "    <tr>\n",
       "      <th>2</th>\n",
       "      <td>1_1_2012-11-16</td>\n",
       "      <td>20660.22</td>\n",
       "    </tr>\n",
       "    <tr>\n",
       "      <th>3</th>\n",
       "      <td>1_1_2012-11-23</td>\n",
       "      <td>20660.22</td>\n",
       "    </tr>\n",
       "    <tr>\n",
       "      <th>4</th>\n",
       "      <td>1_1_2012-11-30</td>\n",
       "      <td>20660.22</td>\n",
       "    </tr>\n",
       "    <tr>\n",
       "      <th>...</th>\n",
       "      <td>...</td>\n",
       "      <td>...</td>\n",
       "    </tr>\n",
       "    <tr>\n",
       "      <th>115059</th>\n",
       "      <td>45_98_2013-06-28</td>\n",
       "      <td>23818.78</td>\n",
       "    </tr>\n",
       "    <tr>\n",
       "      <th>115060</th>\n",
       "      <td>45_98_2013-07-05</td>\n",
       "      <td>22719.83</td>\n",
       "    </tr>\n",
       "    <tr>\n",
       "      <th>115061</th>\n",
       "      <td>45_98_2013-07-12</td>\n",
       "      <td>17438.85</td>\n",
       "    </tr>\n",
       "    <tr>\n",
       "      <th>115062</th>\n",
       "      <td>45_98_2013-07-19</td>\n",
       "      <td>14175.82</td>\n",
       "    </tr>\n",
       "    <tr>\n",
       "      <th>115063</th>\n",
       "      <td>45_98_2013-07-26</td>\n",
       "      <td>13735.78</td>\n",
       "    </tr>\n",
       "  </tbody>\n",
       "</table>\n",
       "<p>115064 rows × 2 columns</p>\n",
       "</div>"
      ],
      "text/plain": [
       "                      Id  Weekly_Sales\n",
       "0         1_1_2012-11-02      22339.52\n",
       "1         1_1_2012-11-09      21869.55\n",
       "2         1_1_2012-11-16      20660.22\n",
       "3         1_1_2012-11-23      20660.22\n",
       "4         1_1_2012-11-30      20660.22\n",
       "...                  ...           ...\n",
       "115059  45_98_2013-06-28      23818.78\n",
       "115060  45_98_2013-07-05      22719.83\n",
       "115061  45_98_2013-07-12      17438.85\n",
       "115062  45_98_2013-07-19      14175.82\n",
       "115063  45_98_2013-07-26      13735.78\n",
       "\n",
       "[115064 rows x 2 columns]"
      ]
     },
     "execution_count": 51,
     "metadata": {},
     "output_type": "execute_result"
    }
   ],
   "source": [
    "sub = {'Id':Id, 'Weekly_Sales':weekly_sales}\n",
    "knr_submission = pd.DataFrame(data=sub)\n",
    "knr_submission"
   ]
  },
  {
   "cell_type": "code",
   "execution_count": 52,
   "metadata": {},
   "outputs": [],
   "source": [
    "knr_submission.to_csv('Submission Files/KNR 1.csv', float_format='%.2f',index=False)"
   ]
  }
 ],
 "metadata": {
  "kernelspec": {
   "display_name": "Python 3.9.13 ('base')",
   "language": "python",
   "name": "python3"
  },
  "language_info": {
   "codemirror_mode": {
    "name": "ipython",
    "version": 3
   },
   "file_extension": ".py",
   "mimetype": "text/x-python",
   "name": "python",
   "nbconvert_exporter": "python",
   "pygments_lexer": "ipython3",
   "version": "3.9.13"
  },
  "orig_nbformat": 4,
  "vscode": {
   "interpreter": {
    "hash": "5f8929016d30f12a89eab5b5e02a6c1410fc73da4b23b89b4eb7a3bc58137fe5"
   }
  }
 },
 "nbformat": 4,
 "nbformat_minor": 2
}
