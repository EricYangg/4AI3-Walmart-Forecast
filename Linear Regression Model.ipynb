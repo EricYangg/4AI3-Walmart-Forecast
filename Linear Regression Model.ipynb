{
 "cells": [
  {
   "cell_type": "code",
   "execution_count": 2,
   "id": "d2defee5",
   "metadata": {},
   "outputs": [],
   "source": [
    "import pandas as pd \n",
    "import numpy as np \n",
    "import matplotlib.pyplot as plt\n",
    "from sklearn.linear_model import LinearRegression\n",
    "from sklearn.metrics import mean_squared_error, r2_score\n",
    "from sklearn.metrics import mean_absolute_error"
   ]
  },
  {
   "cell_type": "code",
   "execution_count": 3,
   "id": "81fb6e86",
   "metadata": {},
   "outputs": [],
   "source": [
    "url = 'https://media.githubusercontent.com/media/EricYangg/4AI3-Walmart-Forecast/main/Processed%20Dataset%20Update/x_train.csv'\n",
    "x_train = pd.read_csv(url)\n",
    "\n",
    "url = 'https://media.githubusercontent.com/media/EricYangg/4AI3-Walmart-Forecast/main/Processed%20Dataset%20Update/x_test.csv'\n",
    "x_test = pd.read_csv(url)\n",
    "\n",
    "url = 'https://media.githubusercontent.com/media/EricYangg/4AI3-Walmart-Forecast/main/Processed%20Dataset%20Update/y_train.csv'\n",
    "y_train = pd.read_csv(url)\n",
    "\n",
    "url = 'https://media.githubusercontent.com/media/EricYangg/4AI3-Walmart-Forecast/main/Processed%20Dataset%20Update/y_test.csv'\n",
    "y_test = pd.read_csv(url)\n"
   ]
  },
  {
   "cell_type": "code",
   "execution_count": 4,
   "id": "0628d915",
   "metadata": {},
   "outputs": [],
   "source": [
    "#order of top performing features from pre-processing\n",
    "top_list = ['Store', 'MDSum', 'MDAverage', 'MDMax', 'MarkDown1', 'MDMin', 'MarkDown5', 'MarkDown4', 'CPI', 'Unemployment',\n",
    "        'Dept','MarkDown2', 'MarkDown3', 'Temperature', 'Date', 'IsHoliday', 'Fuel_Price']"
   ]
  },
  {
   "cell_type": "code",
   "execution_count": 5,
   "id": "b5f4acb8",
   "metadata": {},
   "outputs": [],
   "source": [
    "reg = LinearRegression().fit(x_train,y_train)"
   ]
  },
  {
   "cell_type": "code",
   "execution_count": 6,
   "id": "218e867b",
   "metadata": {},
   "outputs": [
    {
     "data": {
      "text/plain": [
       "0.09232179747989522"
      ]
     },
     "execution_count": 6,
     "metadata": {},
     "output_type": "execute_result"
    }
   ],
   "source": [
    "reg.score(x_train, y_train)"
   ]
  },
  {
   "cell_type": "code",
   "execution_count": 7,
   "id": "76ea2425",
   "metadata": {},
   "outputs": [
    {
     "data": {
      "text/plain": [
       "0.09461103425148987"
      ]
     },
     "execution_count": 7,
     "metadata": {},
     "output_type": "execute_result"
    }
   ],
   "source": [
    "reg.score(x_test, y_test)"
   ]
  },
  {
   "cell_type": "code",
   "execution_count": 8,
   "id": "92cfb048",
   "metadata": {},
   "outputs": [],
   "source": [
    "y_pred = reg.predict(x_test)"
   ]
  },
  {
   "cell_type": "code",
   "execution_count": 9,
   "id": "992a5466",
   "metadata": {},
   "outputs": [
    {
     "name": "stdout",
     "output_type": "stream",
     "text": [
      "Coefficients: \n",
      " [[-5.75533357e-01  3.29247675e-01 -2.81883837e-01  2.90957382e-02\n",
      "   1.13269522e-01  3.28552324e-02 -1.39104379e+12 -1.39104379e+12\n",
      "  -1.39104379e+12 -1.39104379e+12 -1.39104379e+12 -4.25518021e-01\n",
      "  -1.87690817e-01  5.42982290e-01  3.19397204e+00 -4.61065115e+11\n",
      "   1.48325681e+12  9.17597619e-01  5.55024808e-04]]\n",
      "Intercept: \n",
      " [20.21149341]\n",
      "Mean squared error: 89.37\n",
      "Coefficient of determination: 0.09\n",
      "Mean Abs Error: 7.761002143805635\n"
     ]
    }
   ],
   "source": [
    "print(\"Coefficients: \\n\", reg.coef_)\n",
    "print('Intercept: \\n', reg.intercept_)\n",
    "# The mean squared error\n",
    "print(\"Mean squared error: %.2f\" % mean_squared_error(y_test, y_pred))\n",
    "# The coefficient of determination: 1 is perfect prediction\n",
    "print(\"Coefficient of determination: %.2f\" % r2_score(y_test, y_pred))\n",
    "print('Mean Abs Error:', mean_absolute_error(y_test, y_pred))"
   ]
  },
  {
   "cell_type": "code",
   "execution_count": 10,
   "id": "b689a4dc",
   "metadata": {},
   "outputs": [
    {
     "name": "stdout",
     "output_type": "stream",
     "text": [
      "(330177, 19)\n",
      "(82545, 19)\n"
     ]
    }
   ],
   "source": [
    "print(x_train.shape)\n",
    "print(x_test.shape)"
   ]
  },
  {
   "cell_type": "code",
   "execution_count": 11,
   "id": "9edee132",
   "metadata": {},
   "outputs": [],
   "source": [
    "train_sizes = [1, 25, 50, 75, 100, 250, 500, 2500, 7500, 15000]"
   ]
  },
  {
   "cell_type": "code",
   "execution_count": 12,
   "id": "8d944af4",
   "metadata": {},
   "outputs": [],
   "source": [
    "from sklearn.model_selection import learning_curve\n",
    "\n",
    "train_sizes, train_scores, validation_scores = learning_curve(\n",
    "estimator = reg,\n",
    "X = x_train,\n",
    "y = y_train, train_sizes = train_sizes, cv = 5,\n",
    "scoring = 'neg_mean_absolute_error')"
   ]
  },
  {
   "cell_type": "code",
   "execution_count": 13,
   "id": "56c89a6f",
   "metadata": {},
   "outputs": [
    {
     "name": "stdout",
     "output_type": "stream",
     "text": [
      "Training scores:\n",
      "\n",
      " [[-0.         -0.         -0.         -0.         -0.        ]\n",
      " [-2.68546669 -4.60482958 -4.60482958 -4.60482958 -4.60482958]\n",
      " [-5.86079152 -6.51831689 -6.51831689 -6.51831689 -6.51831689]\n",
      " [-6.51434641 -6.87290985 -6.87290985 -6.87290985 -6.87290985]\n",
      " [-6.89323775 -7.02713151 -7.02713151 -7.02713151 -7.02713151]\n",
      " [-7.51456464 -7.32962334 -7.32962334 -7.32962334 -7.32962334]\n",
      " [-7.44259164 -7.38797006 -7.38797006 -7.38797006 -7.38797006]\n",
      " [-7.79048963 -7.81368061 -7.81368061 -7.81368061 -7.81368061]\n",
      " [-7.82659281 -7.80666646 -7.80666646 -7.80666646 -7.80666646]\n",
      " [-7.75765333 -7.75037891 -7.75037891 -7.75037891 -7.75037891]]\n",
      "\n",
      " ----------------------------------------------------------------------\n",
      "\n",
      "Validation scores:\n",
      "\n",
      " [[ -8.39141123  -8.60042692  -8.6011486   -8.62125502  -8.64469222]\n",
      " [-23.74224542 -33.51228583 -34.48422635 -35.28213184 -32.45874855]\n",
      " [-10.6062929  -11.50871859 -11.67149679 -11.77216726 -11.35904206]\n",
      " [ -8.85285407 -10.54708315 -10.66971183 -10.72378051 -10.474933  ]\n",
      " [ -9.07147827 -10.38895503 -10.49615784 -10.57642341 -10.29920323]\n",
      " [ -8.54592886  -8.00364701  -8.02142247  -7.98708852  -8.02774354]\n",
      " [ -7.94284476  -7.92097982  -7.91713438  -7.896752    -7.9391518 ]\n",
      " [ -7.79267842  -7.77813127  -7.77019039  -7.77730074  -7.79646461]\n",
      " [ -7.77818826  -7.77237992  -7.76365313  -7.77282572  -7.78537814]\n",
      " [ -7.77455012  -7.77013287  -7.76075057  -7.76941122  -7.78093951]]\n"
     ]
    }
   ],
   "source": [
    "print('Training scores:\\n\\n', train_scores)\n",
    "print('\\n', '-' * 70) # separator to make the output easy to read\n",
    "print('\\nValidation scores:\\n\\n', validation_scores)"
   ]
  },
  {
   "cell_type": "code",
   "execution_count": 14,
   "id": "85d4def9",
   "metadata": {},
   "outputs": [
    {
     "name": "stdout",
     "output_type": "stream",
     "text": [
      "Mean training scores\n",
      "\n",
      " 1       -0.000000\n",
      "25       4.220957\n",
      "50       6.386812\n",
      "75       6.801197\n",
      "100      7.000353\n",
      "250      7.366612\n",
      "500      7.398894\n",
      "2500     7.809042\n",
      "7500     7.810652\n",
      "15000    7.751834\n",
      "dtype: float64\n",
      "\n",
      " --------------------\n",
      "\n",
      "Mean validation scores\n",
      "\n",
      " 1         8.571787\n",
      "25       31.895928\n",
      "50       11.383544\n",
      "75       10.253673\n",
      "100      10.166444\n",
      "250       8.117166\n",
      "500       7.923373\n",
      "2500      7.782953\n",
      "7500      7.774485\n",
      "15000     7.771157\n",
      "dtype: float64\n"
     ]
    }
   ],
   "source": [
    "train_scores_mean = -train_scores.mean(axis = 1)\n",
    "validation_scores_mean = -validation_scores.mean(axis=1)\n",
    "print('Mean training scores\\n\\n', pd.Series(train_scores_mean, index = train_sizes))\n",
    "print('\\n', '-' * 20) # separator\n",
    "print('\\nMean validation scores\\n\\n',pd.Series(validation_scores_mean, index = train_sizes))"
   ]
  },
  {
   "cell_type": "code",
   "execution_count": 15,
   "id": "c538d725",
   "metadata": {},
   "outputs": [
    {
     "data": {
      "text/plain": [
       "<matplotlib.legend.Legend at 0x7fc803029ca0>"
      ]
     },
     "execution_count": 15,
     "metadata": {},
     "output_type": "execute_result"
    },
    {
     "data": {
      "image/png": "[encoded data removed]",
      "text/plain": [
       "<Figure size 800x550 with 1 Axes>"
      ]
     },
     "metadata": {},
     "output_type": "display_data"
    }
   ],
   "source": [
    "plt.style.use('seaborn')\n",
    "plt.plot(train_sizes, train_scores_mean, label = 'Training error')\n",
    "plt.plot(train_sizes, validation_scores_mean, label = 'Validation error')\n",
    "plt.ylabel('MSE', fontsize = 14)\n",
    "plt.xlabel('Training set size', fontsize = 14)\n",
    "plt.title('Learning curves for a linear regression model', fontsize = 18, y = 1.03)\n",
    "plt.legend()\n"
   ]
  },
  {
   "cell_type": "code",
   "execution_count": 29,
   "id": "4575f3c2",
   "metadata": {},
   "outputs": [
    {
     "data": {
      "text/plain": [
       "(7.0, 8.0)"
      ]
     },
     "execution_count": 29,
     "metadata": {},
     "output_type": "execute_result"
    },
    {
     "data": {
      "image/png": "[encoded data removed]",
      "text/plain": [
       "<Figure size 800x550 with 1 Axes>"
      ]
     },
     "metadata": {},
     "output_type": "display_data"
    }
   ],
   "source": [
    "plt.style.use('seaborn')\n",
    "plt.plot(train_sizes, train_scores_mean, label = 'Training error')\n",
    "plt.plot(train_sizes, validation_scores_mean, label = 'Validation error')\n",
    "plt.ylabel('MSE', fontsize = 14)\n",
    "plt.xlabel('Training set size', fontsize = 14)\n",
    "plt.title('Learning curves for a linear regression model', fontsize = 18, y = 1.03)\n",
    "plt.legend()\n",
    "plt.ylim(7,8)"
   ]
  },
  {
   "cell_type": "code",
   "execution_count": 28,
   "id": "b65b8e8a",
   "metadata": {},
   "outputs": [
    {
     "data": {
      "text/plain": [
       "(0.0, 3000.0)"
      ]
     },
     "execution_count": 28,
     "metadata": {},
     "output_type": "execute_result"
    },
    {
     "data": {
      "image/png": "[encoded data removed]",
      "text/plain": [
       "<Figure size 800x550 with 1 Axes>"
      ]
     },
     "metadata": {},
     "output_type": "display_data"
    }
   ],
   "source": [
    "plt.style.use('seaborn')\n",
    "plt.plot(train_sizes, train_scores_mean, label = 'Training error')\n",
    "plt.plot(train_sizes, validation_scores_mean, label = 'Validation error')\n",
    "plt.ylabel('MSE', fontsize = 14)\n",
    "plt.xlabel('Training set size', fontsize = 14)\n",
    "plt.title('Learning curves for a linear regression model', fontsize = 18, y = 1.03)\n",
    "plt.legend()\n",
    "plt.ylim(7,8)\n",
    "plt.xlim(0,3000)\n"
   ]
  },
  {
   "cell_type": "code",
   "execution_count": 19,
   "id": "41deab14",
   "metadata": {},
   "outputs": [
    {
     "data": {
      "text/html": [
       "<div>\n",
       "<style scoped>\n",
       "    .dataframe tbody tr th:only-of-type {\n",
       "        vertical-align: middle;\n",
       "    }\n",
       "\n",
       "    .dataframe tbody tr th {\n",
       "        vertical-align: top;\n",
       "    }\n",
       "\n",
       "    .dataframe thead th {\n",
       "        text-align: right;\n",
       "    }\n",
       "</style>\n",
       "<table border=\"1\" class=\"dataframe\">\n",
       "  <thead>\n",
       "    <tr style=\"text-align: right;\">\n",
       "      <th></th>\n",
       "      <th>Store</th>\n",
       "      <th>MDSum</th>\n",
       "      <th>MDAverage</th>\n",
       "      <th>MDMax</th>\n",
       "      <th>MarkDown1</th>\n",
       "      <th>MDMin</th>\n",
       "      <th>MarkDown5</th>\n",
       "    </tr>\n",
       "  </thead>\n",
       "  <tbody>\n",
       "    <tr>\n",
       "      <th>0</th>\n",
       "      <td>1.392183</td>\n",
       "      <td>-1.358972</td>\n",
       "      <td>-0.271794</td>\n",
       "      <td>-0.084662</td>\n",
       "      <td>-0.427943</td>\n",
       "      <td>-0.427943</td>\n",
       "      <td>-0.395181</td>\n",
       "    </tr>\n",
       "    <tr>\n",
       "      <th>1</th>\n",
       "      <td>-1.188910</td>\n",
       "      <td>-1.358972</td>\n",
       "      <td>-0.271794</td>\n",
       "      <td>-0.084662</td>\n",
       "      <td>-0.427943</td>\n",
       "      <td>-0.427943</td>\n",
       "      <td>-0.395181</td>\n",
       "    </tr>\n",
       "    <tr>\n",
       "      <th>2</th>\n",
       "      <td>-1.188910</td>\n",
       "      <td>-0.245190</td>\n",
       "      <td>-0.049038</td>\n",
       "      <td>0.081929</td>\n",
       "      <td>-0.252011</td>\n",
       "      <td>-0.252011</td>\n",
       "      <td>0.081929</td>\n",
       "    </tr>\n",
       "    <tr>\n",
       "      <th>3</th>\n",
       "      <td>0.140744</td>\n",
       "      <td>-1.358972</td>\n",
       "      <td>-0.271794</td>\n",
       "      <td>-0.084662</td>\n",
       "      <td>-0.427943</td>\n",
       "      <td>-0.427943</td>\n",
       "      <td>-0.395181</td>\n",
       "    </tr>\n",
       "    <tr>\n",
       "      <th>4</th>\n",
       "      <td>0.062529</td>\n",
       "      <td>-1.358972</td>\n",
       "      <td>-0.271794</td>\n",
       "      <td>-0.084662</td>\n",
       "      <td>-0.427943</td>\n",
       "      <td>-0.427943</td>\n",
       "      <td>-0.395181</td>\n",
       "    </tr>\n",
       "    <tr>\n",
       "      <th>...</th>\n",
       "      <td>...</td>\n",
       "      <td>...</td>\n",
       "      <td>...</td>\n",
       "      <td>...</td>\n",
       "      <td>...</td>\n",
       "      <td>...</td>\n",
       "      <td>...</td>\n",
       "    </tr>\n",
       "    <tr>\n",
       "      <th>330172</th>\n",
       "      <td>0.375389</td>\n",
       "      <td>12.476386</td>\n",
       "      <td>2.495277</td>\n",
       "      <td>6.259835</td>\n",
       "      <td>6.068185</td>\n",
       "      <td>-0.134782</td>\n",
       "      <td>0.356177</td>\n",
       "    </tr>\n",
       "    <tr>\n",
       "      <th>330173</th>\n",
       "      <td>1.392183</td>\n",
       "      <td>-1.358972</td>\n",
       "      <td>-0.271794</td>\n",
       "      <td>-0.084662</td>\n",
       "      <td>-0.427943</td>\n",
       "      <td>-0.427943</td>\n",
       "      <td>-0.395181</td>\n",
       "    </tr>\n",
       "    <tr>\n",
       "      <th>330174</th>\n",
       "      <td>-0.641405</td>\n",
       "      <td>4.212100</td>\n",
       "      <td>0.842420</td>\n",
       "      <td>3.053010</td>\n",
       "      <td>3.053010</td>\n",
       "      <td>-0.173069</td>\n",
       "      <td>0.261853</td>\n",
       "    </tr>\n",
       "    <tr>\n",
       "      <th>330175</th>\n",
       "      <td>-0.484975</td>\n",
       "      <td>-1.358972</td>\n",
       "      <td>-0.271794</td>\n",
       "      <td>-0.084662</td>\n",
       "      <td>-0.427943</td>\n",
       "      <td>-0.427943</td>\n",
       "      <td>-0.395181</td>\n",
       "    </tr>\n",
       "    <tr>\n",
       "      <th>330176</th>\n",
       "      <td>-0.719620</td>\n",
       "      <td>5.596815</td>\n",
       "      <td>1.119363</td>\n",
       "      <td>2.282485</td>\n",
       "      <td>2.282485</td>\n",
       "      <td>-0.084048</td>\n",
       "      <td>0.823210</td>\n",
       "    </tr>\n",
       "  </tbody>\n",
       "</table>\n",
       "<p>330177 rows × 7 columns</p>\n",
       "</div>"
      ],
      "text/plain": [
       "           Store      MDSum  MDAverage     MDMax  MarkDown1     MDMin  \\\n",
       "0       1.392183  -1.358972  -0.271794 -0.084662  -0.427943 -0.427943   \n",
       "1      -1.188910  -1.358972  -0.271794 -0.084662  -0.427943 -0.427943   \n",
       "2      -1.188910  -0.245190  -0.049038  0.081929  -0.252011 -0.252011   \n",
       "3       0.140744  -1.358972  -0.271794 -0.084662  -0.427943 -0.427943   \n",
       "4       0.062529  -1.358972  -0.271794 -0.084662  -0.427943 -0.427943   \n",
       "...          ...        ...        ...       ...        ...       ...   \n",
       "330172  0.375389  12.476386   2.495277  6.259835   6.068185 -0.134782   \n",
       "330173  1.392183  -1.358972  -0.271794 -0.084662  -0.427943 -0.427943   \n",
       "330174 -0.641405   4.212100   0.842420  3.053010   3.053010 -0.173069   \n",
       "330175 -0.484975  -1.358972  -0.271794 -0.084662  -0.427943 -0.427943   \n",
       "330176 -0.719620   5.596815   1.119363  2.282485   2.282485 -0.084048   \n",
       "\n",
       "        MarkDown5  \n",
       "0       -0.395181  \n",
       "1       -0.395181  \n",
       "2        0.081929  \n",
       "3       -0.395181  \n",
       "4       -0.395181  \n",
       "...           ...  \n",
       "330172   0.356177  \n",
       "330173  -0.395181  \n",
       "330174   0.261853  \n",
       "330175  -0.395181  \n",
       "330176   0.823210  \n",
       "\n",
       "[330177 rows x 7 columns]"
      ]
     },
     "execution_count": 19,
     "metadata": {},
     "output_type": "execute_result"
    }
   ],
   "source": [
    "top7_x_train = x_train[top_list[:7]]\n",
    "top7_x_test = x_test[top_list[:7]]\n",
    "top7_x_train"
   ]
  },
  {
   "cell_type": "code",
   "execution_count": 20,
   "id": "e872b6c2",
   "metadata": {},
   "outputs": [],
   "source": [
    "reg7 = LinearRegression().fit(top7_x_train,y_train)"
   ]
  },
  {
   "cell_type": "code",
   "execution_count": 21,
   "id": "156cc135",
   "metadata": {},
   "outputs": [
    {
     "data": {
      "text/plain": [
       "0.014089843219254106"
      ]
     },
     "execution_count": 21,
     "metadata": {},
     "output_type": "execute_result"
    }
   ],
   "source": [
    "reg7.score(top7_x_train, y_train)"
   ]
  },
  {
   "cell_type": "code",
   "execution_count": 22,
   "id": "fc8c43aa",
   "metadata": {},
   "outputs": [
    {
     "data": {
      "text/plain": [
       "0.015316189841475314"
      ]
     },
     "execution_count": 22,
     "metadata": {},
     "output_type": "execute_result"
    }
   ],
   "source": [
    "reg7.score(top7_x_test, y_test)"
   ]
  },
  {
   "cell_type": "code",
   "execution_count": 23,
   "id": "a32b389a",
   "metadata": {},
   "outputs": [],
   "source": [
    "y_pred = reg7.predict(top7_x_test)"
   ]
  },
  {
   "cell_type": "code",
   "execution_count": 30,
   "id": "785ac11c",
   "metadata": {},
   "outputs": [
    {
     "name": "stdout",
     "output_type": "stream",
     "text": [
      "Coefficients: \n",
      " [[-5.75533357e-01  3.29247675e-01 -2.81883837e-01  2.90957382e-02\n",
      "   1.13269522e-01  3.28552324e-02 -1.39104379e+12 -1.39104379e+12\n",
      "  -1.39104379e+12 -1.39104379e+12 -1.39104379e+12 -4.25518021e-01\n",
      "  -1.87690817e-01  5.42982290e-01  3.19397204e+00 -4.61065115e+11\n",
      "   1.48325681e+12  9.17597619e-01  5.55024808e-04]]\n",
      "Intercept: \n",
      " [20.21149341]\n",
      "Mean squared error: 97.20\n",
      "Coefficient of determination: 0.02\n",
      "Mean Abs Error: 8.082453235426598\n"
     ]
    }
   ],
   "source": [
    "print(\"Coefficients: \\n\", reg.coef_)\n",
    "print('Intercept: \\n', reg.intercept_)\n",
    "# The mean squared error\n",
    "print(\"Mean squared error: %.2f\" % mean_squared_error(y_test, y_pred))\n",
    "# The coefficient of determination: 1 is perfect prediction\n",
    "print(\"Coefficient of determination: %.2f\" % r2_score(y_test, y_pred))\n",
    "print('Mean Abs Error:', mean_absolute_error(y_test, y_pred))"
   ]
  },
  {
   "cell_type": "markdown",
   "id": "ec9fa744",
   "metadata": {},
   "source": [
    "Predict for submission"
   ]
  },
  {
   "cell_type": "code",
   "execution_count": 23,
   "id": "b45db9c5",
   "metadata": {},
   "outputs": [],
   "source": [
    "#provided submission test dataset\n",
    "url = 'https://media.githubusercontent.com/media/EricYangg/4AI3-Walmart-Forecast/main/Datasets/test.csv'\n",
    "test = pd.read_csv(url)\n",
    "\n",
    "#test dataset after preprocessing\n",
    "#url = 'https://media.githubusercontent.com/media/EricYangg/4AI3-Walmart-Forecast/main/Processed%20Dataset/Submission%20Test.csv'\n",
    "url = 'https://media.githubusercontent.com/media/EricYangg/4AI3-Walmart-Forecast/main/Processed%20Dataset%20Update/Submission%20Test.csv'\n",
    "submission_test = pd.read_csv(url)"
   ]
  },
  {
   "cell_type": "code",
   "execution_count": 24,
   "id": "96cc2c24",
   "metadata": {},
   "outputs": [
    {
     "data": {
      "text/plain": [
       "0           1_1_2012-11-02\n",
       "1           1_1_2012-11-09\n",
       "2           1_1_2012-11-16\n",
       "3           1_1_2012-11-23\n",
       "4           1_1_2012-11-30\n",
       "                ...       \n",
       "115059    45_98_2013-06-28\n",
       "115060    45_98_2013-07-05\n",
       "115061    45_98_2013-07-12\n",
       "115062    45_98_2013-07-19\n",
       "115063    45_98_2013-07-26\n",
       "Length: 115064, dtype: string"
      ]
     },
     "execution_count": 24,
     "metadata": {},
     "output_type": "execute_result"
    }
   ],
   "source": [
    "Id = test['Store'].astype('string') + '_' + test['Dept'].astype('string') + '_' + test['Date'].astype('string')\n",
    "Id"
   ]
  },
  {
   "cell_type": "code",
   "execution_count": 25,
   "id": "e3a64be1",
   "metadata": {},
   "outputs": [
    {
     "data": {
      "text/html": [
       "<div>\n",
       "<style scoped>\n",
       "    .dataframe tbody tr th:only-of-type {\n",
       "        vertical-align: middle;\n",
       "    }\n",
       "\n",
       "    .dataframe tbody tr th {\n",
       "        vertical-align: top;\n",
       "    }\n",
       "\n",
       "    .dataframe thead th {\n",
       "        text-align: right;\n",
       "    }\n",
       "</style>\n",
       "<table border=\"1\" class=\"dataframe\">\n",
       "  <thead>\n",
       "    <tr style=\"text-align: right;\">\n",
       "      <th></th>\n",
       "      <th>Store</th>\n",
       "      <th>Dept</th>\n",
       "      <th>Date</th>\n",
       "      <th>IsHoliday</th>\n",
       "      <th>Temperature</th>\n",
       "      <th>Fuel_Price</th>\n",
       "      <th>MarkDown1</th>\n",
       "      <th>MarkDown2</th>\n",
       "      <th>MarkDown3</th>\n",
       "      <th>MarkDown4</th>\n",
       "      <th>MarkDown5</th>\n",
       "      <th>CPI</th>\n",
       "      <th>Unemployment</th>\n",
       "      <th>Type</th>\n",
       "      <th>Size</th>\n",
       "      <th>MDAverage</th>\n",
       "      <th>MDSum</th>\n",
       "      <th>MDMin</th>\n",
       "      <th>MDMax</th>\n",
       "    </tr>\n",
       "  </thead>\n",
       "  <tbody>\n",
       "    <tr>\n",
       "      <th>0</th>\n",
       "      <td>-1.657956</td>\n",
       "      <td>-1.413724</td>\n",
       "      <td>-1.683055</td>\n",
       "      <td>-0.290032</td>\n",
       "      <td>0.073606</td>\n",
       "      <td>-0.816679</td>\n",
       "      <td>-0.085347</td>\n",
       "      <td>0.316895</td>\n",
       "      <td>-0.162850</td>\n",
       "      <td>0.091459</td>\n",
       "      <td>-0.060954</td>\n",
       "      <td>1.170390</td>\n",
       "      <td>0.569095</td>\n",
       "      <td>-0.886164</td>\n",
       "      <td>0.242483</td>\n",
       "      <td>0.019840</td>\n",
       "      <td>0.099201</td>\n",
       "      <td>-0.162850</td>\n",
       "      <td>0.316895</td>\n",
       "    </tr>\n",
       "    <tr>\n",
       "      <th>1</th>\n",
       "      <td>-1.657956</td>\n",
       "      <td>-1.381105</td>\n",
       "      <td>-1.683055</td>\n",
       "      <td>-0.290032</td>\n",
       "      <td>0.073606</td>\n",
       "      <td>-0.816679</td>\n",
       "      <td>-0.085347</td>\n",
       "      <td>0.316895</td>\n",
       "      <td>-0.162850</td>\n",
       "      <td>0.091459</td>\n",
       "      <td>-0.060954</td>\n",
       "      <td>1.170390</td>\n",
       "      <td>0.569095</td>\n",
       "      <td>-0.886164</td>\n",
       "      <td>0.242483</td>\n",
       "      <td>0.019840</td>\n",
       "      <td>0.099201</td>\n",
       "      <td>-0.162850</td>\n",
       "      <td>0.316895</td>\n",
       "    </tr>\n",
       "    <tr>\n",
       "      <th>2</th>\n",
       "      <td>-1.657956</td>\n",
       "      <td>-1.348485</td>\n",
       "      <td>-1.683055</td>\n",
       "      <td>-0.290032</td>\n",
       "      <td>0.073606</td>\n",
       "      <td>-0.816679</td>\n",
       "      <td>-0.085347</td>\n",
       "      <td>0.316895</td>\n",
       "      <td>-0.162850</td>\n",
       "      <td>0.091459</td>\n",
       "      <td>-0.060954</td>\n",
       "      <td>1.170390</td>\n",
       "      <td>0.569095</td>\n",
       "      <td>-0.886164</td>\n",
       "      <td>0.242483</td>\n",
       "      <td>0.019840</td>\n",
       "      <td>0.099201</td>\n",
       "      <td>-0.162850</td>\n",
       "      <td>0.316895</td>\n",
       "    </tr>\n",
       "    <tr>\n",
       "      <th>3</th>\n",
       "      <td>-1.657956</td>\n",
       "      <td>-1.315865</td>\n",
       "      <td>-1.683055</td>\n",
       "      <td>-0.290032</td>\n",
       "      <td>0.073606</td>\n",
       "      <td>-0.816679</td>\n",
       "      <td>-0.085347</td>\n",
       "      <td>0.316895</td>\n",
       "      <td>-0.162850</td>\n",
       "      <td>0.091459</td>\n",
       "      <td>-0.060954</td>\n",
       "      <td>1.170390</td>\n",
       "      <td>0.569095</td>\n",
       "      <td>-0.886164</td>\n",
       "      <td>0.242483</td>\n",
       "      <td>0.019840</td>\n",
       "      <td>0.099201</td>\n",
       "      <td>-0.162850</td>\n",
       "      <td>0.316895</td>\n",
       "    </tr>\n",
       "    <tr>\n",
       "      <th>4</th>\n",
       "      <td>-1.657956</td>\n",
       "      <td>-1.283245</td>\n",
       "      <td>-1.683055</td>\n",
       "      <td>-0.290032</td>\n",
       "      <td>0.073606</td>\n",
       "      <td>-0.816679</td>\n",
       "      <td>-0.085347</td>\n",
       "      <td>0.316895</td>\n",
       "      <td>-0.162850</td>\n",
       "      <td>0.091459</td>\n",
       "      <td>-0.060954</td>\n",
       "      <td>1.170390</td>\n",
       "      <td>0.569095</td>\n",
       "      <td>-0.886164</td>\n",
       "      <td>0.242483</td>\n",
       "      <td>0.019840</td>\n",
       "      <td>0.099201</td>\n",
       "      <td>-0.162850</td>\n",
       "      <td>0.316895</td>\n",
       "    </tr>\n",
       "    <tr>\n",
       "      <th>...</th>\n",
       "      <td>...</td>\n",
       "      <td>...</td>\n",
       "      <td>...</td>\n",
       "      <td>...</td>\n",
       "      <td>...</td>\n",
       "      <td>...</td>\n",
       "      <td>...</td>\n",
       "      <td>...</td>\n",
       "      <td>...</td>\n",
       "      <td>...</td>\n",
       "      <td>...</td>\n",
       "      <td>...</td>\n",
       "      <td>...</td>\n",
       "      <td>...</td>\n",
       "      <td>...</td>\n",
       "      <td>...</td>\n",
       "      <td>...</td>\n",
       "      <td>...</td>\n",
       "      <td>...</td>\n",
       "    </tr>\n",
       "    <tr>\n",
       "      <th>115059</th>\n",
       "      <td>1.776894</td>\n",
       "      <td>1.587292</td>\n",
       "      <td>1.692932</td>\n",
       "      <td>-0.290032</td>\n",
       "      <td>1.181271</td>\n",
       "      <td>0.929055</td>\n",
       "      <td>-0.698176</td>\n",
       "      <td>-0.264229</td>\n",
       "      <td>-0.166549</td>\n",
       "      <td>-0.411733</td>\n",
       "      <td>-0.105842</td>\n",
       "      <td>-1.315901</td>\n",
       "      <td>-1.317896</td>\n",
       "      <td>0.608889</td>\n",
       "      <td>-0.299095</td>\n",
       "      <td>-0.329306</td>\n",
       "      <td>-1.646529</td>\n",
       "      <td>-0.698176</td>\n",
       "      <td>-0.105842</td>\n",
       "    </tr>\n",
       "    <tr>\n",
       "      <th>115060</th>\n",
       "      <td>1.776894</td>\n",
       "      <td>1.619912</td>\n",
       "      <td>1.692932</td>\n",
       "      <td>-0.290032</td>\n",
       "      <td>1.181271</td>\n",
       "      <td>0.929055</td>\n",
       "      <td>-0.698176</td>\n",
       "      <td>-0.264229</td>\n",
       "      <td>-0.166549</td>\n",
       "      <td>-0.411733</td>\n",
       "      <td>-0.105842</td>\n",
       "      <td>-1.315901</td>\n",
       "      <td>-1.317896</td>\n",
       "      <td>0.608889</td>\n",
       "      <td>-0.299095</td>\n",
       "      <td>-0.329306</td>\n",
       "      <td>-1.646529</td>\n",
       "      <td>-0.698176</td>\n",
       "      <td>-0.105842</td>\n",
       "    </tr>\n",
       "    <tr>\n",
       "      <th>115061</th>\n",
       "      <td>1.776894</td>\n",
       "      <td>1.652532</td>\n",
       "      <td>1.692932</td>\n",
       "      <td>-0.290032</td>\n",
       "      <td>1.181271</td>\n",
       "      <td>0.929055</td>\n",
       "      <td>-0.698176</td>\n",
       "      <td>-0.264229</td>\n",
       "      <td>-0.166549</td>\n",
       "      <td>-0.411733</td>\n",
       "      <td>-0.105842</td>\n",
       "      <td>-1.315901</td>\n",
       "      <td>-1.317896</td>\n",
       "      <td>0.608889</td>\n",
       "      <td>-0.299095</td>\n",
       "      <td>-0.329306</td>\n",
       "      <td>-1.646529</td>\n",
       "      <td>-0.698176</td>\n",
       "      <td>-0.105842</td>\n",
       "    </tr>\n",
       "    <tr>\n",
       "      <th>115062</th>\n",
       "      <td>1.776894</td>\n",
       "      <td>1.717771</td>\n",
       "      <td>1.692932</td>\n",
       "      <td>-0.290032</td>\n",
       "      <td>1.181271</td>\n",
       "      <td>0.929055</td>\n",
       "      <td>-0.698176</td>\n",
       "      <td>-0.264229</td>\n",
       "      <td>-0.166549</td>\n",
       "      <td>-0.411733</td>\n",
       "      <td>-0.105842</td>\n",
       "      <td>-1.315901</td>\n",
       "      <td>-1.317896</td>\n",
       "      <td>0.608889</td>\n",
       "      <td>-0.299095</td>\n",
       "      <td>-0.329306</td>\n",
       "      <td>-1.646529</td>\n",
       "      <td>-0.698176</td>\n",
       "      <td>-0.105842</td>\n",
       "    </tr>\n",
       "    <tr>\n",
       "      <th>115063</th>\n",
       "      <td>1.776894</td>\n",
       "      <td>1.750391</td>\n",
       "      <td>1.692932</td>\n",
       "      <td>-0.290032</td>\n",
       "      <td>1.181271</td>\n",
       "      <td>0.929055</td>\n",
       "      <td>-0.698176</td>\n",
       "      <td>-0.264229</td>\n",
       "      <td>-0.166549</td>\n",
       "      <td>-0.411733</td>\n",
       "      <td>-0.105842</td>\n",
       "      <td>-1.315901</td>\n",
       "      <td>-1.317896</td>\n",
       "      <td>0.608889</td>\n",
       "      <td>-0.299095</td>\n",
       "      <td>-0.329306</td>\n",
       "      <td>-1.646529</td>\n",
       "      <td>-0.698176</td>\n",
       "      <td>-0.105842</td>\n",
       "    </tr>\n",
       "  </tbody>\n",
       "</table>\n",
       "<p>115064 rows × 19 columns</p>\n",
       "</div>"
      ],
      "text/plain": [
       "           Store      Dept      Date  IsHoliday  Temperature  Fuel_Price  \\\n",
       "0      -1.657956 -1.413724 -1.683055  -0.290032     0.073606   -0.816679   \n",
       "1      -1.657956 -1.381105 -1.683055  -0.290032     0.073606   -0.816679   \n",
       "2      -1.657956 -1.348485 -1.683055  -0.290032     0.073606   -0.816679   \n",
       "3      -1.657956 -1.315865 -1.683055  -0.290032     0.073606   -0.816679   \n",
       "4      -1.657956 -1.283245 -1.683055  -0.290032     0.073606   -0.816679   \n",
       "...          ...       ...       ...        ...          ...         ...   \n",
       "115059  1.776894  1.587292  1.692932  -0.290032     1.181271    0.929055   \n",
       "115060  1.776894  1.619912  1.692932  -0.290032     1.181271    0.929055   \n",
       "115061  1.776894  1.652532  1.692932  -0.290032     1.181271    0.929055   \n",
       "115062  1.776894  1.717771  1.692932  -0.290032     1.181271    0.929055   \n",
       "115063  1.776894  1.750391  1.692932  -0.290032     1.181271    0.929055   \n",
       "\n",
       "        MarkDown1  MarkDown2  MarkDown3  MarkDown4  MarkDown5       CPI  \\\n",
       "0       -0.085347   0.316895  -0.162850   0.091459  -0.060954  1.170390   \n",
       "1       -0.085347   0.316895  -0.162850   0.091459  -0.060954  1.170390   \n",
       "2       -0.085347   0.316895  -0.162850   0.091459  -0.060954  1.170390   \n",
       "3       -0.085347   0.316895  -0.162850   0.091459  -0.060954  1.170390   \n",
       "4       -0.085347   0.316895  -0.162850   0.091459  -0.060954  1.170390   \n",
       "...           ...        ...        ...        ...        ...       ...   \n",
       "115059  -0.698176  -0.264229  -0.166549  -0.411733  -0.105842 -1.315901   \n",
       "115060  -0.698176  -0.264229  -0.166549  -0.411733  -0.105842 -1.315901   \n",
       "115061  -0.698176  -0.264229  -0.166549  -0.411733  -0.105842 -1.315901   \n",
       "115062  -0.698176  -0.264229  -0.166549  -0.411733  -0.105842 -1.315901   \n",
       "115063  -0.698176  -0.264229  -0.166549  -0.411733  -0.105842 -1.315901   \n",
       "\n",
       "        Unemployment      Type      Size  MDAverage     MDSum     MDMin  \\\n",
       "0           0.569095 -0.886164  0.242483   0.019840  0.099201 -0.162850   \n",
       "1           0.569095 -0.886164  0.242483   0.019840  0.099201 -0.162850   \n",
       "2           0.569095 -0.886164  0.242483   0.019840  0.099201 -0.162850   \n",
       "3           0.569095 -0.886164  0.242483   0.019840  0.099201 -0.162850   \n",
       "4           0.569095 -0.886164  0.242483   0.019840  0.099201 -0.162850   \n",
       "...              ...       ...       ...        ...       ...       ...   \n",
       "115059     -1.317896  0.608889 -0.299095  -0.329306 -1.646529 -0.698176   \n",
       "115060     -1.317896  0.608889 -0.299095  -0.329306 -1.646529 -0.698176   \n",
       "115061     -1.317896  0.608889 -0.299095  -0.329306 -1.646529 -0.698176   \n",
       "115062     -1.317896  0.608889 -0.299095  -0.329306 -1.646529 -0.698176   \n",
       "115063     -1.317896  0.608889 -0.299095  -0.329306 -1.646529 -0.698176   \n",
       "\n",
       "           MDMax  \n",
       "0       0.316895  \n",
       "1       0.316895  \n",
       "2       0.316895  \n",
       "3       0.316895  \n",
       "4       0.316895  \n",
       "...          ...  \n",
       "115059 -0.105842  \n",
       "115060 -0.105842  \n",
       "115061 -0.105842  \n",
       "115062 -0.105842  \n",
       "115063 -0.105842  \n",
       "\n",
       "[115064 rows x 19 columns]"
      ]
     },
     "execution_count": 25,
     "metadata": {},
     "output_type": "execute_result"
    }
   ],
   "source": [
    "submission_test"
   ]
  },
  {
   "cell_type": "code",
   "execution_count": 26,
   "id": "60884c4e",
   "metadata": {},
   "outputs": [
    {
     "data": {
      "text/plain": [
       "array([[20.63224549],\n",
       "       [20.64298767],\n",
       "       [20.65372986],\n",
       "       ...,\n",
       "       [18.8857318 ],\n",
       "       [18.90721617],\n",
       "       [18.91795836]])"
      ]
     },
     "execution_count": 26,
     "metadata": {},
     "output_type": "execute_result"
    }
   ],
   "source": [
    "y_pred = reg.predict(submission_test)\n",
    "y_pred"
   ]
  },
  {
   "cell_type": "code",
   "execution_count": 27,
   "id": "627ccd3a",
   "metadata": {},
   "outputs": [
    {
     "data": {
      "text/plain": [
       "array([8782.93137549, 8796.65703029, 8810.39697762, ..., 6735.99030617,\n",
       "       6759.00501971, 6770.53200887])"
      ]
     },
     "execution_count": 27,
     "metadata": {},
     "output_type": "execute_result"
    }
   ],
   "source": [
    "weekly_sales = y_pred[:,0]**3\n",
    "weekly_sales"
   ]
  },
  {
   "cell_type": "code",
   "execution_count": 28,
   "id": "b48774b0",
   "metadata": {},
   "outputs": [
    {
     "data": {
      "text/plain": [
       "8782.931375488502"
      ]
     },
     "execution_count": 28,
     "metadata": {},
     "output_type": "execute_result"
    }
   ],
   "source": [
    "weekly_sales[0]"
   ]
  },
  {
   "cell_type": "code",
   "execution_count": 29,
   "id": "1df403fb",
   "metadata": {},
   "outputs": [
    {
     "data": {
      "text/html": [
       "<div>\n",
       "<style scoped>\n",
       "    .dataframe tbody tr th:only-of-type {\n",
       "        vertical-align: middle;\n",
       "    }\n",
       "\n",
       "    .dataframe tbody tr th {\n",
       "        vertical-align: top;\n",
       "    }\n",
       "\n",
       "    .dataframe thead th {\n",
       "        text-align: right;\n",
       "    }\n",
       "</style>\n",
       "<table border=\"1\" class=\"dataframe\">\n",
       "  <thead>\n",
       "    <tr style=\"text-align: right;\">\n",
       "      <th></th>\n",
       "      <th>Id</th>\n",
       "      <th>Weekly_Sales</th>\n",
       "    </tr>\n",
       "  </thead>\n",
       "  <tbody>\n",
       "    <tr>\n",
       "      <th>0</th>\n",
       "      <td>1_1_2012-11-02</td>\n",
       "      <td>8782.93</td>\n",
       "    </tr>\n",
       "    <tr>\n",
       "      <th>1</th>\n",
       "      <td>1_1_2012-11-09</td>\n",
       "      <td>8796.66</td>\n",
       "    </tr>\n",
       "    <tr>\n",
       "      <th>2</th>\n",
       "      <td>1_1_2012-11-16</td>\n",
       "      <td>8810.40</td>\n",
       "    </tr>\n",
       "    <tr>\n",
       "      <th>3</th>\n",
       "      <td>1_1_2012-11-23</td>\n",
       "      <td>8824.15</td>\n",
       "    </tr>\n",
       "    <tr>\n",
       "      <th>4</th>\n",
       "      <td>1_1_2012-11-30</td>\n",
       "      <td>8837.92</td>\n",
       "    </tr>\n",
       "    <tr>\n",
       "      <th>...</th>\n",
       "      <td>...</td>\n",
       "      <td>...</td>\n",
       "    </tr>\n",
       "    <tr>\n",
       "      <th>115059</th>\n",
       "      <td>45_98_2013-06-28</td>\n",
       "      <td>6713.03</td>\n",
       "    </tr>\n",
       "    <tr>\n",
       "      <th>115060</th>\n",
       "      <td>45_98_2013-07-05</td>\n",
       "      <td>6724.50</td>\n",
       "    </tr>\n",
       "    <tr>\n",
       "      <th>115061</th>\n",
       "      <td>45_98_2013-07-12</td>\n",
       "      <td>6735.99</td>\n",
       "    </tr>\n",
       "    <tr>\n",
       "      <th>115062</th>\n",
       "      <td>45_98_2013-07-19</td>\n",
       "      <td>6759.01</td>\n",
       "    </tr>\n",
       "    <tr>\n",
       "      <th>115063</th>\n",
       "      <td>45_98_2013-07-26</td>\n",
       "      <td>6770.53</td>\n",
       "    </tr>\n",
       "  </tbody>\n",
       "</table>\n",
       "<p>115064 rows × 2 columns</p>\n",
       "</div>"
      ],
      "text/plain": [
       "                      Id  Weekly_Sales\n",
       "0         1_1_2012-11-02       8782.93\n",
       "1         1_1_2012-11-09       8796.66\n",
       "2         1_1_2012-11-16       8810.40\n",
       "3         1_1_2012-11-23       8824.15\n",
       "4         1_1_2012-11-30       8837.92\n",
       "...                  ...           ...\n",
       "115059  45_98_2013-06-28       6713.03\n",
       "115060  45_98_2013-07-05       6724.50\n",
       "115061  45_98_2013-07-12       6735.99\n",
       "115062  45_98_2013-07-19       6759.01\n",
       "115063  45_98_2013-07-26       6770.53\n",
       "\n",
       "[115064 rows x 2 columns]"
      ]
     },
     "execution_count": 29,
     "metadata": {},
     "output_type": "execute_result"
    }
   ],
   "source": [
    "sub = {'Id':Id, 'Weekly_Sales':weekly_sales}\n",
    "linReg_submission = pd.DataFrame(data=sub)\n",
    "\n",
    "linReg_submission['Weekly_Sales'] = round(linReg_submission['Weekly_Sales'], 2)\n",
    "\n",
    "linReg_submission"
   ]
  },
  {
   "cell_type": "code",
   "execution_count": 30,
   "id": "5ef74bf3",
   "metadata": {},
   "outputs": [
    {
     "data": {
      "text/plain": [
       "8796.66"
      ]
     },
     "execution_count": 30,
     "metadata": {},
     "output_type": "execute_result"
    }
   ],
   "source": [
    "linReg_submission['Weekly_Sales'][1]"
   ]
  },
  {
   "cell_type": "code",
   "execution_count": 31,
   "id": "215d56e1",
   "metadata": {},
   "outputs": [],
   "source": [
    "linReg_submission.to_csv('Submission Files/Linear Regression.csv', float_format='%.2f',index=False)"
   ]
  },
  {
   "cell_type": "code",
   "execution_count": 32,
   "id": "e3a64be1",
   "metadata": {},
   "outputs": [
    {
     "data": {
      "text/html": [
       "<div>\n",
       "<style scoped>\n",
       "    .dataframe tbody tr th:only-of-type {\n",
       "        vertical-align: middle;\n",
       "    }\n",
       "\n",
       "    .dataframe tbody tr th {\n",
       "        vertical-align: top;\n",
       "    }\n",
       "\n",
       "    .dataframe thead th {\n",
       "        text-align: right;\n",
       "    }\n",
       "</style>\n",
       "<table border=\"1\" class=\"dataframe\">\n",
       "  <thead>\n",
       "    <tr style=\"text-align: right;\">\n",
       "      <th></th>\n",
       "      <th>Store</th>\n",
       "      <th>MDSum</th>\n",
       "      <th>MDAverage</th>\n",
       "      <th>MDMax</th>\n",
       "      <th>MarkDown1</th>\n",
       "      <th>MDMin</th>\n",
       "      <th>MarkDown5</th>\n",
       "    </tr>\n",
       "  </thead>\n",
       "  <tbody>\n",
       "    <tr>\n",
       "      <th>0</th>\n",
       "      <td>-1.657956</td>\n",
       "      <td>0.099201</td>\n",
       "      <td>0.019840</td>\n",
       "      <td>0.316895</td>\n",
       "      <td>-0.085347</td>\n",
       "      <td>-0.162850</td>\n",
       "      <td>-0.060954</td>\n",
       "    </tr>\n",
       "    <tr>\n",
       "      <th>1</th>\n",
       "      <td>-1.657956</td>\n",
       "      <td>0.099201</td>\n",
       "      <td>0.019840</td>\n",
       "      <td>0.316895</td>\n",
       "      <td>-0.085347</td>\n",
       "      <td>-0.162850</td>\n",
       "      <td>-0.060954</td>\n",
       "    </tr>\n",
       "    <tr>\n",
       "      <th>2</th>\n",
       "      <td>-1.657956</td>\n",
       "      <td>0.099201</td>\n",
       "      <td>0.019840</td>\n",
       "      <td>0.316895</td>\n",
       "      <td>-0.085347</td>\n",
       "      <td>-0.162850</td>\n",
       "      <td>-0.060954</td>\n",
       "    </tr>\n",
       "    <tr>\n",
       "      <th>3</th>\n",
       "      <td>-1.657956</td>\n",
       "      <td>0.099201</td>\n",
       "      <td>0.019840</td>\n",
       "      <td>0.316895</td>\n",
       "      <td>-0.085347</td>\n",
       "      <td>-0.162850</td>\n",
       "      <td>-0.060954</td>\n",
       "    </tr>\n",
       "    <tr>\n",
       "      <th>4</th>\n",
       "      <td>-1.657956</td>\n",
       "      <td>0.099201</td>\n",
       "      <td>0.019840</td>\n",
       "      <td>0.316895</td>\n",
       "      <td>-0.085347</td>\n",
       "      <td>-0.162850</td>\n",
       "      <td>-0.060954</td>\n",
       "    </tr>\n",
       "    <tr>\n",
       "      <th>...</th>\n",
       "      <td>...</td>\n",
       "      <td>...</td>\n",
       "      <td>...</td>\n",
       "      <td>...</td>\n",
       "      <td>...</td>\n",
       "      <td>...</td>\n",
       "      <td>...</td>\n",
       "    </tr>\n",
       "    <tr>\n",
       "      <th>115059</th>\n",
       "      <td>1.776894</td>\n",
       "      <td>-1.646529</td>\n",
       "      <td>-0.329306</td>\n",
       "      <td>-0.105842</td>\n",
       "      <td>-0.698176</td>\n",
       "      <td>-0.698176</td>\n",
       "      <td>-0.105842</td>\n",
       "    </tr>\n",
       "    <tr>\n",
       "      <th>115060</th>\n",
       "      <td>1.776894</td>\n",
       "      <td>-1.646529</td>\n",
       "      <td>-0.329306</td>\n",
       "      <td>-0.105842</td>\n",
       "      <td>-0.698176</td>\n",
       "      <td>-0.698176</td>\n",
       "      <td>-0.105842</td>\n",
       "    </tr>\n",
       "    <tr>\n",
       "      <th>115061</th>\n",
       "      <td>1.776894</td>\n",
       "      <td>-1.646529</td>\n",
       "      <td>-0.329306</td>\n",
       "      <td>-0.105842</td>\n",
       "      <td>-0.698176</td>\n",
       "      <td>-0.698176</td>\n",
       "      <td>-0.105842</td>\n",
       "    </tr>\n",
       "    <tr>\n",
       "      <th>115062</th>\n",
       "      <td>1.776894</td>\n",
       "      <td>-1.646529</td>\n",
       "      <td>-0.329306</td>\n",
       "      <td>-0.105842</td>\n",
       "      <td>-0.698176</td>\n",
       "      <td>-0.698176</td>\n",
       "      <td>-0.105842</td>\n",
       "    </tr>\n",
       "    <tr>\n",
       "      <th>115063</th>\n",
       "      <td>1.776894</td>\n",
       "      <td>-1.646529</td>\n",
       "      <td>-0.329306</td>\n",
       "      <td>-0.105842</td>\n",
       "      <td>-0.698176</td>\n",
       "      <td>-0.698176</td>\n",
       "      <td>-0.105842</td>\n",
       "    </tr>\n",
       "  </tbody>\n",
       "</table>\n",
       "<p>115064 rows × 7 columns</p>\n",
       "</div>"
      ],
      "text/plain": [
       "           Store     MDSum  MDAverage     MDMax  MarkDown1     MDMin  \\\n",
       "0      -1.657956  0.099201   0.019840  0.316895  -0.085347 -0.162850   \n",
       "1      -1.657956  0.099201   0.019840  0.316895  -0.085347 -0.162850   \n",
       "2      -1.657956  0.099201   0.019840  0.316895  -0.085347 -0.162850   \n",
       "3      -1.657956  0.099201   0.019840  0.316895  -0.085347 -0.162850   \n",
       "4      -1.657956  0.099201   0.019840  0.316895  -0.085347 -0.162850   \n",
       "...          ...       ...        ...       ...        ...       ...   \n",
       "115059  1.776894 -1.646529  -0.329306 -0.105842  -0.698176 -0.698176   \n",
       "115060  1.776894 -1.646529  -0.329306 -0.105842  -0.698176 -0.698176   \n",
       "115061  1.776894 -1.646529  -0.329306 -0.105842  -0.698176 -0.698176   \n",
       "115062  1.776894 -1.646529  -0.329306 -0.105842  -0.698176 -0.698176   \n",
       "115063  1.776894 -1.646529  -0.329306 -0.105842  -0.698176 -0.698176   \n",
       "\n",
       "        MarkDown5  \n",
       "0       -0.060954  \n",
       "1       -0.060954  \n",
       "2       -0.060954  \n",
       "3       -0.060954  \n",
       "4       -0.060954  \n",
       "...           ...  \n",
       "115059  -0.105842  \n",
       "115060  -0.105842  \n",
       "115061  -0.105842  \n",
       "115062  -0.105842  \n",
       "115063  -0.105842  \n",
       "\n",
       "[115064 rows x 7 columns]"
      ]
     },
     "execution_count": 32,
     "metadata": {},
     "output_type": "execute_result"
    }
   ],
   "source": [
    "submission_test[top_list[:7]]"
   ]
  },
  {
   "cell_type": "code",
   "execution_count": 33,
   "id": "60884c4e",
   "metadata": {},
   "outputs": [
    {
     "data": {
      "text/plain": [
       "array([[21.35541132],\n",
       "       [21.35541132],\n",
       "       [21.35541132],\n",
       "       ...,\n",
       "       [18.00564563],\n",
       "       [18.00564563],\n",
       "       [18.00564563]])"
      ]
     },
     "execution_count": 33,
     "metadata": {},
     "output_type": "execute_result"
    }
   ],
   "source": [
    "y_pred = reg7.predict(submission_test[top_list[:7]])\n",
    "y_pred"
   ]
  },
  {
   "cell_type": "code",
   "execution_count": 34,
   "id": "627ccd3a",
   "metadata": {},
   "outputs": [
    {
     "data": {
      "text/plain": [
       "array([9739.2120607 , 9739.2120607 , 9739.2120607 , ..., 5837.48927421,\n",
       "       5837.48927421, 5837.48927421])"
      ]
     },
     "execution_count": 34,
     "metadata": {},
     "output_type": "execute_result"
    }
   ],
   "source": [
    "weekly_sales = y_pred[:,0]**3\n",
    "weekly_sales"
   ]
  },
  {
   "cell_type": "code",
   "execution_count": 35,
   "id": "b48774b0",
   "metadata": {},
   "outputs": [
    {
     "data": {
      "text/plain": [
       "9739.212060696273"
      ]
     },
     "execution_count": 35,
     "metadata": {},
     "output_type": "execute_result"
    }
   ],
   "source": [
    "weekly_sales[0]"
   ]
  },
  {
   "cell_type": "code",
   "execution_count": 36,
   "id": "1df403fb",
   "metadata": {},
   "outputs": [
    {
     "data": {
      "text/html": [
       "<div>\n",
       "<style scoped>\n",
       "    .dataframe tbody tr th:only-of-type {\n",
       "        vertical-align: middle;\n",
       "    }\n",
       "\n",
       "    .dataframe tbody tr th {\n",
       "        vertical-align: top;\n",
       "    }\n",
       "\n",
       "    .dataframe thead th {\n",
       "        text-align: right;\n",
       "    }\n",
       "</style>\n",
       "<table border=\"1\" class=\"dataframe\">\n",
       "  <thead>\n",
       "    <tr style=\"text-align: right;\">\n",
       "      <th></th>\n",
       "      <th>Id</th>\n",
       "      <th>Weekly_Sales</th>\n",
       "    </tr>\n",
       "  </thead>\n",
       "  <tbody>\n",
       "    <tr>\n",
       "      <th>0</th>\n",
       "      <td>1_1_2012-11-02</td>\n",
       "      <td>8782.93</td>\n",
       "    </tr>\n",
       "    <tr>\n",
       "      <th>1</th>\n",
       "      <td>1_1_2012-11-09</td>\n",
       "      <td>8796.66</td>\n",
       "    </tr>\n",
       "    <tr>\n",
       "      <th>2</th>\n",
       "      <td>1_1_2012-11-16</td>\n",
       "      <td>8810.40</td>\n",
       "    </tr>\n",
       "    <tr>\n",
       "      <th>3</th>\n",
       "      <td>1_1_2012-11-23</td>\n",
       "      <td>8824.15</td>\n",
       "    </tr>\n",
       "    <tr>\n",
       "      <th>4</th>\n",
       "      <td>1_1_2012-11-30</td>\n",
       "      <td>8837.92</td>\n",
       "    </tr>\n",
       "    <tr>\n",
       "      <th>...</th>\n",
       "      <td>...</td>\n",
       "      <td>...</td>\n",
       "    </tr>\n",
       "    <tr>\n",
       "      <th>115059</th>\n",
       "      <td>45_98_2013-06-28</td>\n",
       "      <td>6713.03</td>\n",
       "    </tr>\n",
       "    <tr>\n",
       "      <th>115060</th>\n",
       "      <td>45_98_2013-07-05</td>\n",
       "      <td>6724.50</td>\n",
       "    </tr>\n",
       "    <tr>\n",
       "      <th>115061</th>\n",
       "      <td>45_98_2013-07-12</td>\n",
       "      <td>6735.99</td>\n",
       "    </tr>\n",
       "    <tr>\n",
       "      <th>115062</th>\n",
       "      <td>45_98_2013-07-19</td>\n",
       "      <td>6759.01</td>\n",
       "    </tr>\n",
       "    <tr>\n",
       "      <th>115063</th>\n",
       "      <td>45_98_2013-07-26</td>\n",
       "      <td>6770.53</td>\n",
       "    </tr>\n",
       "  </tbody>\n",
       "</table>\n",
       "<p>115064 rows × 2 columns</p>\n",
       "</div>"
      ],
      "text/plain": [
       "                      Id  Weekly_Sales\n",
       "0         1_1_2012-11-02       8782.93\n",
       "1         1_1_2012-11-09       8796.66\n",
       "2         1_1_2012-11-16       8810.40\n",
       "3         1_1_2012-11-23       8824.15\n",
       "4         1_1_2012-11-30       8837.92\n",
       "...                  ...           ...\n",
       "115059  45_98_2013-06-28       6713.03\n",
       "115060  45_98_2013-07-05       6724.50\n",
       "115061  45_98_2013-07-12       6735.99\n",
       "115062  45_98_2013-07-19       6759.01\n",
       "115063  45_98_2013-07-26       6770.53\n",
       "\n",
       "[115064 rows x 2 columns]"
      ]
     },
     "execution_count": 36,
     "metadata": {},
     "output_type": "execute_result"
    }
   ],
   "source": [
    "sub = {'Id':Id, 'Weekly_Sales':weekly_sales}\n",
    "linReg_submission2 = pd.DataFrame(data=sub)\n",
    "\n",
    "linReg_submission2['Weekly_Sales'] = round(linReg_submission['Weekly_Sales'], 2)\n",
    "\n",
    "linReg_submission2"
   ]
  },
  {
   "cell_type": "code",
   "execution_count": 37,
   "id": "5ef74bf3",
   "metadata": {},
   "outputs": [
    {
     "data": {
      "text/plain": [
       "7813.51     4\n",
       "8336.38     4\n",
       "7587.32     4\n",
       "8305.70     4\n",
       "14121.37    4\n",
       "           ..\n",
       "7360.52     1\n",
       "7348.33     1\n",
       "7311.85     1\n",
       "7287.59     1\n",
       "6770.53     1\n",
       "Name: Weekly_Sales, Length: 109235, dtype: int64"
      ]
     },
     "execution_count": 37,
     "metadata": {},
     "output_type": "execute_result"
    }
   ],
   "source": [
    "linReg_submission2['Weekly_Sales'].value_counts()"
   ]
  },
  {
   "cell_type": "code",
   "execution_count": 39,
   "id": "215d56e1",
   "metadata": {},
   "outputs": [],
   "source": [
    "linReg_submission2.to_csv('Submission Files/Linear Regression 2.csv', float_format='%.2f',index=False)"
   ]
  }
 ],
 "metadata": {
  "kernelspec": {
   "display_name": "Python 3.9.13 ('base')",
   "language": "python",
   "name": "python3"
  },
  "language_info": {
   "codemirror_mode": {
    "name": "ipython",
    "version": 3
   },
   "file_extension": ".py",
   "mimetype": "text/x-python",
   "name": "python",
   "nbconvert_exporter": "python",
   "pygments_lexer": "ipython3",
   "version": "3.9.13"
  },
  "vscode": {
   "interpreter": {
    "hash": "5f8929016d30f12a89eab5b5e02a6c1410fc73da4b23b89b4eb7a3bc58137fe5"
   }
  }
 },
 "nbformat": 4,
 "nbformat_minor": 5
}
