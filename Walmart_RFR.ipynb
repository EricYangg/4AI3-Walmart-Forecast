{
  "nbformat": 4,
  "nbformat_minor": 0,
  "metadata": {
    "colab": {
      "provenance": []
    },
    "kernelspec": {
      "name": "python3",
      "display_name": "Python 3"
    },
    "language_info": {
      "name": "python"
    }
  },
  "cells": [
    {
      "cell_type": "code",
      "source": [
        "import pandas as pd\n",
        "from sklearn.preprocessing import StandardScaler\n",
        "from sklearn.pipeline import make_pipeline\n",
        "from sklearn.model_selection import GridSearchCV\n",
        "from sklearn.metrics import classification_report, confusion_matrix"
      ],
      "metadata": {
        "id": "b7t3Aw9VcOQg"
      },
      "execution_count": 1,
      "outputs": []
    },
    {
      "cell_type": "code",
      "execution_count": 2,
      "metadata": {
        "id": "Av4RKgQocLg8"
      },
      "outputs": [],
      "source": [
        "url = 'https://media.githubusercontent.com/media/EricYangg/4AI3-Walmart-Forecast/main/Processed%20Dataset/x_train.csv'\n",
        "x_train = pd.read_csv(url)\n",
        "url = 'https://media.githubusercontent.com/media/EricYangg/4AI3-Walmart-Forecast/main/Processed%20Dataset/y_train.csv'\n",
        "y_train = pd.read_csv(url)\n",
        "url = 'https://media.githubusercontent.com/media/EricYangg/4AI3-Walmart-Forecast/main/Processed%20Dataset/x_test.csv'\n",
        "x_test = pd.read_csv(url)\n",
        "url = 'https://media.githubusercontent.com/media/EricYangg/4AI3-Walmart-Forecast/main/Processed%20Dataset/y_test.csv'\n",
        "y_test = pd.read_csv(url)\n",
        "url = 'https://media.githubusercontent.com/media/EricYangg/4AI3-Walmart-Forecast/main/Datasets/test.csv'\n",
        "test = pd.read_csv(url)\n",
        "url = 'https://media.githubusercontent.com/media/EricYangg/4AI3-Walmart-Forecast/main/Processed%20Dataset/Submission%20Test.csv'\n",
        "submission_test = pd.read_csv(url)"
      ]
    },
    {
      "cell_type": "code",
      "source": [
        "scaler = StandardScaler()\n",
        "X_train_scaled = scaler.fit_transform(x_train)\n",
        "X_test_scaled = scaler.fit_transform(x_test)"
      ],
      "metadata": {
        "id": "dwn0vGfNiny7"
      },
      "execution_count": 3,
      "outputs": []
    },
    {
      "cell_type": "code",
      "source": [
        "from sklearn.ensemble import RandomForestRegressor\n",
        "from sklearn.datasets import make_regression\n",
        "import numpy as np"
      ],
      "metadata": {
        "id": "rQP1TOLx0j7_"
      },
      "execution_count": 4,
      "outputs": []
    },
    {
      "cell_type": "code",
      "source": [
        "regr = RandomForestRegressor(max_depth=12, random_state=42)\n",
        "regr.fit(x_train.to_numpy(), y_train.to_numpy().ravel())\n",
        "rbfpredictions =  regr.predict(x_test.to_numpy())\n",
        "y_test = np.array(y_test)\n",
        "marks =  regr.score(x_test.to_numpy(), y_test)\n",
        "print(marks)"
      ],
      "metadata": {
        "id": "81vZa-OKs8rv",
        "colab": {
          "base_uri": "https://localhost:8080/"
        },
        "outputId": "b4ce2da0-4acf-42cc-8dae-e7c6d2192d3d"
      },
      "execution_count": 5,
      "outputs": [
        {
          "output_type": "stream",
          "name": "stdout",
          "text": [
            "0.8767545438277176\n"
          ]
        }
      ]
    },
    {
      "cell_type": "code",
      "source": [
        "param_grid = {'max_depth': [1, 10], 'max_features': ['auto', 'sqrt'], 'n_estimators': [100, 200]}\n",
        "grid = GridSearchCV(RandomForestRegressor(), param_grid, refit=True, verbose=2)\n",
        "grid.fit(x_train.to_numpy(), y_train.to_numpy().ravel())\n",
        "print(grid.best_estimator_)\n",
        "grid_predictions = grid.predict(x_test.to_numpy())\n",
        "print(grid_predictions)"
      ],
      "metadata": {
        "colab": {
          "base_uri": "https://localhost:8080/"
        },
        "id": "wU2WIbKvscpS",
        "outputId": "13a458a1-ffc6-41f4-e73f-10dc87607f0a"
      },
      "execution_count": 6,
      "outputs": [
        {
          "output_type": "stream",
          "name": "stdout",
          "text": [
            "Fitting 5 folds for each of 8 candidates, totalling 40 fits\n",
            "[CV] END ...max_depth=1, max_features=auto, n_estimators=100; total time=  18.7s\n",
            "[CV] END ...max_depth=1, max_features=auto, n_estimators=100; total time=  20.2s\n",
            "[CV] END ...max_depth=1, max_features=auto, n_estimators=100; total time=  18.1s\n",
            "[CV] END ...max_depth=1, max_features=auto, n_estimators=100; total time=  19.2s\n",
            "[CV] END ...max_depth=1, max_features=auto, n_estimators=100; total time=  20.9s\n",
            "[CV] END ...max_depth=1, max_features=auto, n_estimators=200; total time=  49.9s\n",
            "[CV] END ...max_depth=1, max_features=auto, n_estimators=200; total time=  36.1s\n",
            "[CV] END ...max_depth=1, max_features=auto, n_estimators=200; total time=  36.9s\n",
            "[CV] END ...max_depth=1, max_features=auto, n_estimators=200; total time=  38.4s\n",
            "[CV] END ...max_depth=1, max_features=auto, n_estimators=200; total time=  37.2s\n",
            "[CV] END ...max_depth=1, max_features=sqrt, n_estimators=100; total time=   5.9s\n",
            "[CV] END ...max_depth=1, max_features=sqrt, n_estimators=100; total time=   6.1s\n",
            "[CV] END ...max_depth=1, max_features=sqrt, n_estimators=100; total time=   6.1s\n",
            "[CV] END ...max_depth=1, max_features=sqrt, n_estimators=100; total time=   6.0s\n",
            "[CV] END ...max_depth=1, max_features=sqrt, n_estimators=100; total time=   6.0s\n",
            "[CV] END ...max_depth=1, max_features=sqrt, n_estimators=200; total time=  12.1s\n",
            "[CV] END ...max_depth=1, max_features=sqrt, n_estimators=200; total time=  12.0s\n",
            "[CV] END ...max_depth=1, max_features=sqrt, n_estimators=200; total time=  11.9s\n",
            "[CV] END ...max_depth=1, max_features=sqrt, n_estimators=200; total time=  12.2s\n",
            "[CV] END ...max_depth=1, max_features=sqrt, n_estimators=200; total time=  12.0s\n",
            "[CV] END ..max_depth=10, max_features=auto, n_estimators=100; total time= 2.4min\n",
            "[CV] END ..max_depth=10, max_features=auto, n_estimators=100; total time= 2.4min\n",
            "[CV] END ..max_depth=10, max_features=auto, n_estimators=100; total time= 2.4min\n",
            "[CV] END ..max_depth=10, max_features=auto, n_estimators=100; total time= 2.4min\n",
            "[CV] END ..max_depth=10, max_features=auto, n_estimators=100; total time= 2.5min\n",
            "[CV] END ..max_depth=10, max_features=auto, n_estimators=200; total time= 4.9min\n",
            "[CV] END ..max_depth=10, max_features=auto, n_estimators=200; total time= 4.9min\n",
            "[CV] END ..max_depth=10, max_features=auto, n_estimators=200; total time= 4.9min\n",
            "[CV] END ..max_depth=10, max_features=auto, n_estimators=200; total time= 4.9min\n",
            "[CV] END ..max_depth=10, max_features=auto, n_estimators=200; total time= 4.9min\n",
            "[CV] END ..max_depth=10, max_features=sqrt, n_estimators=100; total time=  32.8s\n",
            "[CV] END ..max_depth=10, max_features=sqrt, n_estimators=100; total time=  33.3s\n",
            "[CV] END ..max_depth=10, max_features=sqrt, n_estimators=100; total time=  34.1s\n",
            "[CV] END ..max_depth=10, max_features=sqrt, n_estimators=100; total time=  34.4s\n",
            "[CV] END ..max_depth=10, max_features=sqrt, n_estimators=100; total time=  32.6s\n",
            "[CV] END ..max_depth=10, max_features=sqrt, n_estimators=200; total time= 1.1min\n",
            "[CV] END ..max_depth=10, max_features=sqrt, n_estimators=200; total time= 1.1min\n",
            "[CV] END ..max_depth=10, max_features=sqrt, n_estimators=200; total time= 1.1min\n",
            "[CV] END ..max_depth=10, max_features=sqrt, n_estimators=200; total time= 1.1min\n",
            "[CV] END ..max_depth=10, max_features=sqrt, n_estimators=200; total time= 1.1min\n",
            "RandomForestRegressor(max_depth=10, n_estimators=200)\n",
            "[ 5.20739887 18.35165248 16.4799969  ... 13.50849983 12.40683108\n",
            " 25.48953634]\n"
          ]
        }
      ]
    },
    {
      "cell_type": "code",
      "source": [
        "RFR = RandomForestRegressor(max_depth=10, random_state=42)\n",
        "RFR.fit(x_train.to_numpy(), y_train.to_numpy().ravel())\n",
        "y_pred =  RFR.predict(x_test.to_numpy())\n",
        "y_test = np.array(y_test)\n",
        "test_score =  RFR.score(x_test.to_numpy(), y_test)\n",
        "test_score"
      ],
      "metadata": {
        "colab": {
          "base_uri": "https://localhost:8080/"
        },
        "id": "Tt6Kct9DKwXQ",
        "outputId": "34d2d552-0615-4442-bc0f-e953454e51c7"
      },
      "execution_count": 8,
      "outputs": [
        {
          "output_type": "execute_result",
          "data": {
            "text/plain": [
              "0.7874083348581493"
            ]
          },
          "metadata": {},
          "execution_count": 8
        }
      ]
    },
    {
      "cell_type": "code",
      "source": [
        "train_sizes = [1, 25, 50, 100, 500, 2500, 7500, 15000]"
      ],
      "metadata": {
        "colab": {
          "base_uri": "https://localhost:8080/"
        },
        "id": "GZTx8wdk9oOR",
        "outputId": "3b27b186-816f-40fa-f92a-29ffc89ba166"
      },
      "execution_count": 9,
      "outputs": [
        {
          "output_type": "stream",
          "name": "stderr",
          "text": [
            "/usr/local/lib/python3.8/dist-packages/sklearn/base.py:443: UserWarning: X has feature names, but RandomForestRegressor was fitted without feature names\n",
            "  warnings.warn(\n"
          ]
        }
      ]
    },
    {
      "cell_type": "code",
      "source": [
        "from sklearn.model_selection import learning_curve\n",
        "\n",
        "train_sizes, train_scores, validation_scores = learning_curve(\n",
        "estimator = RFR,\n",
        "X = x_train,\n",
        "y = y_train, train_sizes = train_sizes, cv = 5,\n",
        "scoring = 'neg_mean_absolute_error')"
      ],
      "metadata": {
        "colab": {
          "base_uri": "https://localhost:8080/"
        },
        "id": "SsIm6lw_-W6i",
        "outputId": "9542d2bb-4add-48ab-9c4e-78cd9a34cde1"
      },
      "execution_count": 15,
      "outputs": [
        {
          "output_type": "stream",
          "name": "stderr",
          "text": [
            "/usr/local/lib/python3.8/dist-packages/sklearn/model_selection/_validation.py:680: DataConversionWarning: A column-vector y was passed when a 1d array was expected. Please change the shape of y to (n_samples,), for example using ravel().\n",
            "  estimator.fit(X_train, y_train, **fit_params)\n",
            "/usr/local/lib/python3.8/dist-packages/sklearn/model_selection/_validation.py:680: DataConversionWarning: A column-vector y was passed when a 1d array was expected. Please change the shape of y to (n_samples,), for example using ravel().\n",
            "  estimator.fit(X_train, y_train, **fit_params)\n",
            "/usr/local/lib/python3.8/dist-packages/sklearn/model_selection/_validation.py:680: DataConversionWarning: A column-vector y was passed when a 1d array was expected. Please change the shape of y to (n_samples,), for example using ravel().\n",
            "  estimator.fit(X_train, y_train, **fit_params)\n",
            "/usr/local/lib/python3.8/dist-packages/sklearn/model_selection/_validation.py:680: DataConversionWarning: A column-vector y was passed when a 1d array was expected. Please change the shape of y to (n_samples,), for example using ravel().\n",
            "  estimator.fit(X_train, y_train, **fit_params)\n",
            "/usr/local/lib/python3.8/dist-packages/sklearn/model_selection/_validation.py:680: DataConversionWarning: A column-vector y was passed when a 1d array was expected. Please change the shape of y to (n_samples,), for example using ravel().\n",
            "  estimator.fit(X_train, y_train, **fit_params)\n",
            "/usr/local/lib/python3.8/dist-packages/sklearn/model_selection/_validation.py:680: DataConversionWarning: A column-vector y was passed when a 1d array was expected. Please change the shape of y to (n_samples,), for example using ravel().\n",
            "  estimator.fit(X_train, y_train, **fit_params)\n",
            "/usr/local/lib/python3.8/dist-packages/sklearn/model_selection/_validation.py:680: DataConversionWarning: A column-vector y was passed when a 1d array was expected. Please change the shape of y to (n_samples,), for example using ravel().\n",
            "  estimator.fit(X_train, y_train, **fit_params)\n",
            "/usr/local/lib/python3.8/dist-packages/sklearn/model_selection/_validation.py:680: DataConversionWarning: A column-vector y was passed when a 1d array was expected. Please change the shape of y to (n_samples,), for example using ravel().\n",
            "  estimator.fit(X_train, y_train, **fit_params)\n",
            "/usr/local/lib/python3.8/dist-packages/sklearn/model_selection/_validation.py:680: DataConversionWarning: A column-vector y was passed when a 1d array was expected. Please change the shape of y to (n_samples,), for example using ravel().\n",
            "  estimator.fit(X_train, y_train, **fit_params)\n",
            "/usr/local/lib/python3.8/dist-packages/sklearn/model_selection/_validation.py:680: DataConversionWarning: A column-vector y was passed when a 1d array was expected. Please change the shape of y to (n_samples,), for example using ravel().\n",
            "  estimator.fit(X_train, y_train, **fit_params)\n",
            "/usr/local/lib/python3.8/dist-packages/sklearn/model_selection/_validation.py:680: DataConversionWarning: A column-vector y was passed when a 1d array was expected. Please change the shape of y to (n_samples,), for example using ravel().\n",
            "  estimator.fit(X_train, y_train, **fit_params)\n",
            "/usr/local/lib/python3.8/dist-packages/sklearn/model_selection/_validation.py:680: DataConversionWarning: A column-vector y was passed when a 1d array was expected. Please change the shape of y to (n_samples,), for example using ravel().\n",
            "  estimator.fit(X_train, y_train, **fit_params)\n",
            "/usr/local/lib/python3.8/dist-packages/sklearn/model_selection/_validation.py:680: DataConversionWarning: A column-vector y was passed when a 1d array was expected. Please change the shape of y to (n_samples,), for example using ravel().\n",
            "  estimator.fit(X_train, y_train, **fit_params)\n",
            "/usr/local/lib/python3.8/dist-packages/sklearn/model_selection/_validation.py:680: DataConversionWarning: A column-vector y was passed when a 1d array was expected. Please change the shape of y to (n_samples,), for example using ravel().\n",
            "  estimator.fit(X_train, y_train, **fit_params)\n",
            "/usr/local/lib/python3.8/dist-packages/sklearn/model_selection/_validation.py:680: DataConversionWarning: A column-vector y was passed when a 1d array was expected. Please change the shape of y to (n_samples,), for example using ravel().\n",
            "  estimator.fit(X_train, y_train, **fit_params)\n",
            "/usr/local/lib/python3.8/dist-packages/sklearn/model_selection/_validation.py:680: DataConversionWarning: A column-vector y was passed when a 1d array was expected. Please change the shape of y to (n_samples,), for example using ravel().\n",
            "  estimator.fit(X_train, y_train, **fit_params)\n",
            "/usr/local/lib/python3.8/dist-packages/sklearn/model_selection/_validation.py:680: DataConversionWarning: A column-vector y was passed when a 1d array was expected. Please change the shape of y to (n_samples,), for example using ravel().\n",
            "  estimator.fit(X_train, y_train, **fit_params)\n",
            "/usr/local/lib/python3.8/dist-packages/sklearn/model_selection/_validation.py:680: DataConversionWarning: A column-vector y was passed when a 1d array was expected. Please change the shape of y to (n_samples,), for example using ravel().\n",
            "  estimator.fit(X_train, y_train, **fit_params)\n",
            "/usr/local/lib/python3.8/dist-packages/sklearn/model_selection/_validation.py:680: DataConversionWarning: A column-vector y was passed when a 1d array was expected. Please change the shape of y to (n_samples,), for example using ravel().\n",
            "  estimator.fit(X_train, y_train, **fit_params)\n",
            "/usr/local/lib/python3.8/dist-packages/sklearn/model_selection/_validation.py:680: DataConversionWarning: A column-vector y was passed when a 1d array was expected. Please change the shape of y to (n_samples,), for example using ravel().\n",
            "  estimator.fit(X_train, y_train, **fit_params)\n",
            "/usr/local/lib/python3.8/dist-packages/sklearn/model_selection/_validation.py:680: DataConversionWarning: A column-vector y was passed when a 1d array was expected. Please change the shape of y to (n_samples,), for example using ravel().\n",
            "  estimator.fit(X_train, y_train, **fit_params)\n",
            "/usr/local/lib/python3.8/dist-packages/sklearn/model_selection/_validation.py:680: DataConversionWarning: A column-vector y was passed when a 1d array was expected. Please change the shape of y to (n_samples,), for example using ravel().\n",
            "  estimator.fit(X_train, y_train, **fit_params)\n",
            "/usr/local/lib/python3.8/dist-packages/sklearn/model_selection/_validation.py:680: DataConversionWarning: A column-vector y was passed when a 1d array was expected. Please change the shape of y to (n_samples,), for example using ravel().\n",
            "  estimator.fit(X_train, y_train, **fit_params)\n",
            "/usr/local/lib/python3.8/dist-packages/sklearn/model_selection/_validation.py:680: DataConversionWarning: A column-vector y was passed when a 1d array was expected. Please change the shape of y to (n_samples,), for example using ravel().\n",
            "  estimator.fit(X_train, y_train, **fit_params)\n",
            "/usr/local/lib/python3.8/dist-packages/sklearn/model_selection/_validation.py:680: DataConversionWarning: A column-vector y was passed when a 1d array was expected. Please change the shape of y to (n_samples,), for example using ravel().\n",
            "  estimator.fit(X_train, y_train, **fit_params)\n",
            "/usr/local/lib/python3.8/dist-packages/sklearn/model_selection/_validation.py:680: DataConversionWarning: A column-vector y was passed when a 1d array was expected. Please change the shape of y to (n_samples,), for example using ravel().\n",
            "  estimator.fit(X_train, y_train, **fit_params)\n",
            "/usr/local/lib/python3.8/dist-packages/sklearn/model_selection/_validation.py:680: DataConversionWarning: A column-vector y was passed when a 1d array was expected. Please change the shape of y to (n_samples,), for example using ravel().\n",
            "  estimator.fit(X_train, y_train, **fit_params)\n",
            "/usr/local/lib/python3.8/dist-packages/sklearn/model_selection/_validation.py:680: DataConversionWarning: A column-vector y was passed when a 1d array was expected. Please change the shape of y to (n_samples,), for example using ravel().\n",
            "  estimator.fit(X_train, y_train, **fit_params)\n",
            "/usr/local/lib/python3.8/dist-packages/sklearn/model_selection/_validation.py:680: DataConversionWarning: A column-vector y was passed when a 1d array was expected. Please change the shape of y to (n_samples,), for example using ravel().\n",
            "  estimator.fit(X_train, y_train, **fit_params)\n",
            "/usr/local/lib/python3.8/dist-packages/sklearn/model_selection/_validation.py:680: DataConversionWarning: A column-vector y was passed when a 1d array was expected. Please change the shape of y to (n_samples,), for example using ravel().\n",
            "  estimator.fit(X_train, y_train, **fit_params)\n",
            "/usr/local/lib/python3.8/dist-packages/sklearn/model_selection/_validation.py:680: DataConversionWarning: A column-vector y was passed when a 1d array was expected. Please change the shape of y to (n_samples,), for example using ravel().\n",
            "  estimator.fit(X_train, y_train, **fit_params)\n",
            "/usr/local/lib/python3.8/dist-packages/sklearn/model_selection/_validation.py:680: DataConversionWarning: A column-vector y was passed when a 1d array was expected. Please change the shape of y to (n_samples,), for example using ravel().\n",
            "  estimator.fit(X_train, y_train, **fit_params)\n",
            "/usr/local/lib/python3.8/dist-packages/sklearn/model_selection/_validation.py:680: DataConversionWarning: A column-vector y was passed when a 1d array was expected. Please change the shape of y to (n_samples,), for example using ravel().\n",
            "  estimator.fit(X_train, y_train, **fit_params)\n",
            "/usr/local/lib/python3.8/dist-packages/sklearn/model_selection/_validation.py:680: DataConversionWarning: A column-vector y was passed when a 1d array was expected. Please change the shape of y to (n_samples,), for example using ravel().\n",
            "  estimator.fit(X_train, y_train, **fit_params)\n",
            "/usr/local/lib/python3.8/dist-packages/sklearn/model_selection/_validation.py:680: DataConversionWarning: A column-vector y was passed when a 1d array was expected. Please change the shape of y to (n_samples,), for example using ravel().\n",
            "  estimator.fit(X_train, y_train, **fit_params)\n",
            "/usr/local/lib/python3.8/dist-packages/sklearn/model_selection/_validation.py:680: DataConversionWarning: A column-vector y was passed when a 1d array was expected. Please change the shape of y to (n_samples,), for example using ravel().\n",
            "  estimator.fit(X_train, y_train, **fit_params)\n",
            "/usr/local/lib/python3.8/dist-packages/sklearn/model_selection/_validation.py:680: DataConversionWarning: A column-vector y was passed when a 1d array was expected. Please change the shape of y to (n_samples,), for example using ravel().\n",
            "  estimator.fit(X_train, y_train, **fit_params)\n",
            "/usr/local/lib/python3.8/dist-packages/sklearn/model_selection/_validation.py:680: DataConversionWarning: A column-vector y was passed when a 1d array was expected. Please change the shape of y to (n_samples,), for example using ravel().\n",
            "  estimator.fit(X_train, y_train, **fit_params)\n",
            "/usr/local/lib/python3.8/dist-packages/sklearn/model_selection/_validation.py:680: DataConversionWarning: A column-vector y was passed when a 1d array was expected. Please change the shape of y to (n_samples,), for example using ravel().\n",
            "  estimator.fit(X_train, y_train, **fit_params)\n",
            "/usr/local/lib/python3.8/dist-packages/sklearn/model_selection/_validation.py:680: DataConversionWarning: A column-vector y was passed when a 1d array was expected. Please change the shape of y to (n_samples,), for example using ravel().\n",
            "  estimator.fit(X_train, y_train, **fit_params)\n"
          ]
        }
      ]
    },
    {
      "cell_type": "code",
      "source": [
        "train_scores_mean = -train_scores.mean(axis = 1)\n",
        "validation_scores_mean = -validation_scores.mean(axis=1)\n",
        "print('Mean training scores\\n\\n', pd.Series(train_scores_mean, index = train_sizes))\n",
        "print('\\n', '-' * 20) # separator\n",
        "print('\\nMean validation scores\\n\\n',pd.Series(validation_scores_mean, index = train_sizes))"
      ],
      "metadata": {
        "colab": {
          "base_uri": "https://localhost:8080/"
        },
        "id": "KrpvW0fV_EZQ",
        "outputId": "7b2384cd-3bc3-4c29-955c-1120c2d853d2"
      },
      "execution_count": 16,
      "outputs": [
        {
          "output_type": "stream",
          "name": "stdout",
          "text": [
            "Mean training scores\n",
            "\n",
            " 1        2.700062e-14\n",
            "25       3.190086e+00\n",
            "50       2.912515e+00\n",
            "100      2.865245e+00\n",
            "500      3.133138e+00\n",
            "2500     2.853906e+00\n",
            "7500     3.064285e+00\n",
            "15000    3.126170e+00\n",
            "dtype: float64\n",
            "\n",
            " --------------------\n",
            "\n",
            "Mean validation scores\n",
            "\n",
            " 1        8.571787\n",
            "25       8.575514\n",
            "50       8.138348\n",
            "100      7.562962\n",
            "500      6.366424\n",
            "2500     4.568179\n",
            "7500     3.890957\n",
            "15000    3.591084\n",
            "dtype: float64\n"
          ]
        }
      ]
    },
    {
      "cell_type": "code",
      "source": [
        "from sklearn.metrics import mean_squared_error, r2_score\n",
        "from sklearn.metrics import mean_absolute_error\n",
        "# The mean squared error\n",
        "print(\"Mean squared error: %.2f\" % mean_squared_error(y_test, y_pred))\n",
        "# The coefficient of determination: 1 is perfect prediction\n",
        "print(\"Coefficient of determination: %.2f\" % r2_score(y_test, y_pred))\n",
        "print('Mean Abs Error:', mean_absolute_error(y_test, y_pred))"
      ],
      "metadata": {
        "colab": {
          "base_uri": "https://localhost:8080/"
        },
        "id": "JoxVVTJ1_I4_",
        "outputId": "5c0b2bc9-8a98-45f9-8704-998ac14cd87b"
      },
      "execution_count": 17,
      "outputs": [
        {
          "output_type": "stream",
          "name": "stdout",
          "text": [
            "Mean squared error: 20.99\n",
            "Coefficient of determination: 0.79\n",
            "Mean Abs Error: 3.3134270342874816\n"
          ]
        }
      ]
    },
    {
      "cell_type": "code",
      "source": [
        "import matplotlib.pyplot as plt\n",
        "plt.style.use('seaborn')\n",
        "plt.plot(train_sizes, train_scores_mean, label = 'Training error')\n",
        "plt.plot(train_sizes, validation_scores_mean, label = 'Validation error')\n",
        "plt.ylabel('MAE', fontsize = 14)\n",
        "plt.xlabel('Training set size', fontsize = 14)\n",
        "plt.title('Learning curves for a linear regression model', fontsize = 18, y = 1.03)\n",
        "plt.legend()"
      ],
      "metadata": {
        "colab": {
          "base_uri": "https://localhost:8080/",
          "height": 411
        },
        "id": "lgBaPlVX_LDi",
        "outputId": "019f6443-6064-4a40-ccfa-fb2feb0a4b93"
      },
      "execution_count": 18,
      "outputs": [
        {
          "output_type": "execute_result",
          "data": {
            "text/plain": [
              "<matplotlib.legend.Legend at 0x7fbc847f6c70>"
            ]
          },
          "metadata": {},
          "execution_count": 18
        },
        {
          "output_type": "display_data",
          "data": {
            "text/plain": [
              "<Figure size 576x396 with 1 Axes>"
            ],
            "image/png": "[encoded data removed]"
          },
          "metadata": {}
        }
      ]
    },
    {
      "cell_type": "code",
      "source": [
        "x_test"
      ],
      "metadata": {
        "colab": {
          "base_uri": "https://localhost:8080/",
          "height": 488
        },
        "id": "xzl0_t2Zj2Y3",
        "outputId": "e256f4b2-01ec-4830-a1cc-fc1550b5945b"
      },
      "execution_count": null,
      "outputs": [
        {
          "output_type": "execute_result",
          "data": {
            "text/plain": [
              "          Store      Dept      Date  IsHoliday  Temperature  Fuel_Price  \\\n",
              "0     -0.093901  1.762418  0.431348  -0.275106     0.274825   -0.017506   \n",
              "1     -0.328545 -1.254765 -1.724605  -0.275106    -2.101054   -1.249747   \n",
              "2     -1.032480  0.745759 -0.973655   3.634961     0.954577   -1.736101   \n",
              "3     -0.328545 -1.385947  1.133850  -0.275106    -0.143651    1.277984   \n",
              "4      0.531819  0.385008 -0.997879  -0.275106     0.854294   -1.365338   \n",
              "...         ...       ...       ...        ...          ...         ...   \n",
              "82540 -1.188910 -0.631651 -1.579260  -0.275106    -1.683121   -1.459119   \n",
              "82541  0.688249 -0.795628  0.891608  -0.275106    -0.042826    0.586620   \n",
              "82542 -0.406760  0.385008  0.431348  -0.275106    -0.694933    0.475391   \n",
              "82543  0.922894 -0.434878 -1.458139  -0.275106    -0.273747   -1.212671   \n",
              "82544  0.531819 -1.189174  0.334451  -0.275106     0.123046    0.865783   \n",
              "\n",
              "       MarkDown1  MarkDown2  MarkDown3  MarkDown4  MarkDown5       CPI  \\\n",
              "0      -0.427943  -0.173069  -0.084662  -0.278117  -0.395181  1.173748   \n",
              "1      -0.427943  -0.173069  -0.084662  -0.278117  -0.395181 -1.013147   \n",
              "2      -0.427943  -0.173069  -0.084662  -0.278117  -0.395181  1.119378   \n",
              "3       1.481708  -0.173069  -0.068486   0.125175   0.534460 -0.845616   \n",
              "4      -0.427943  -0.173069  -0.084662  -0.278117  -0.395181 -0.982581   \n",
              "...          ...        ...        ...        ...        ...       ...   \n",
              "82540  -0.427943  -0.173069  -0.084662  -0.278117  -0.395181  0.473255   \n",
              "82541   3.080816   0.031387  -0.079891   2.718102   1.493845  1.258573   \n",
              "82542  -0.427943  -0.173069  -0.084662  -0.278117  -0.395181 -1.057727   \n",
              "82543  -0.427943  -0.173069  -0.084662  -0.278117  -0.395181 -1.142275   \n",
              "82544  -0.427943  -0.173069  -0.084662  -0.278117  -0.395181 -0.889572   \n",
              "\n",
              "       Unemployment  MDAverage     MDSum     MDMin     MDMax  \n",
              "0         -0.278694  -0.271794 -1.358972 -0.427943 -0.084662  \n",
              "1          0.666407  -0.271794 -1.358972 -0.427943 -0.084662  \n",
              "2         -0.814841  -0.271794 -1.358972 -0.427943 -0.084662  \n",
              "3          0.184464   0.379958  1.899788 -0.173069  1.481708  \n",
              "4          1.314184  -0.271794 -1.358972 -0.427943 -0.084662  \n",
              "...             ...        ...       ...       ...       ...  \n",
              "82540      0.565510  -0.271794 -1.358972 -0.427943 -0.084662  \n",
              "82541     -0.484781   1.448852  7.244258 -0.079891  3.080816  \n",
              "82542     -0.720922  -0.271794 -1.358972 -0.427943 -0.084662  \n",
              "82543      0.876250  -0.271794 -1.358972 -0.427943 -0.084662  \n",
              "82544      1.021155  -0.271794 -1.358972 -0.427943 -0.084662  \n",
              "\n",
              "[82545 rows x 17 columns]"
            ],
            "text/html": [
              "\n",
              "  <div id=\"df-9ce76583-11f1-4b7f-985a-fefc4585dc23\">\n",
              "    <div class=\"colab-df-container\">\n",
              "      <div>\n",
              "<style scoped>\n",
              "    .dataframe tbody tr th:only-of-type {\n",
              "        vertical-align: middle;\n",
              "    }\n",
              "\n",
              "    .dataframe tbody tr th {\n",
              "        vertical-align: top;\n",
              "    }\n",
              "\n",
              "    .dataframe thead th {\n",
              "        text-align: right;\n",
              "    }\n",
              "</style>\n",
              "<table border=\"1\" class=\"dataframe\">\n",
              "  <thead>\n",
              "    <tr style=\"text-align: right;\">\n",
              "      <th></th>\n",
              "      <th>Store</th>\n",
              "      <th>Dept</th>\n",
              "      <th>Date</th>\n",
              "      <th>IsHoliday</th>\n",
              "      <th>Temperature</th>\n",
              "      <th>Fuel_Price</th>\n",
              "      <th>MarkDown1</th>\n",
              "      <th>MarkDown2</th>\n",
              "      <th>MarkDown3</th>\n",
              "      <th>MarkDown4</th>\n",
              "      <th>MarkDown5</th>\n",
              "      <th>CPI</th>\n",
              "      <th>Unemployment</th>\n",
              "      <th>MDAverage</th>\n",
              "      <th>MDSum</th>\n",
              "      <th>MDMin</th>\n",
              "      <th>MDMax</th>\n",
              "    </tr>\n",
              "  </thead>\n",
              "  <tbody>\n",
              "    <tr>\n",
              "      <th>0</th>\n",
              "      <td>-0.093901</td>\n",
              "      <td>1.762418</td>\n",
              "      <td>0.431348</td>\n",
              "      <td>-0.275106</td>\n",
              "      <td>0.274825</td>\n",
              "      <td>-0.017506</td>\n",
              "      <td>-0.427943</td>\n",
              "      <td>-0.173069</td>\n",
              "      <td>-0.084662</td>\n",
              "      <td>-0.278117</td>\n",
              "      <td>-0.395181</td>\n",
              "      <td>1.173748</td>\n",
              "      <td>-0.278694</td>\n",
              "      <td>-0.271794</td>\n",
              "      <td>-1.358972</td>\n",
              "      <td>-0.427943</td>\n",
              "      <td>-0.084662</td>\n",
              "    </tr>\n",
              "    <tr>\n",
              "      <th>1</th>\n",
              "      <td>-0.328545</td>\n",
              "      <td>-1.254765</td>\n",
              "      <td>-1.724605</td>\n",
              "      <td>-0.275106</td>\n",
              "      <td>-2.101054</td>\n",
              "      <td>-1.249747</td>\n",
              "      <td>-0.427943</td>\n",
              "      <td>-0.173069</td>\n",
              "      <td>-0.084662</td>\n",
              "      <td>-0.278117</td>\n",
              "      <td>-0.395181</td>\n",
              "      <td>-1.013147</td>\n",
              "      <td>0.666407</td>\n",
              "      <td>-0.271794</td>\n",
              "      <td>-1.358972</td>\n",
              "      <td>-0.427943</td>\n",
              "      <td>-0.084662</td>\n",
              "    </tr>\n",
              "    <tr>\n",
              "      <th>2</th>\n",
              "      <td>-1.032480</td>\n",
              "      <td>0.745759</td>\n",
              "      <td>-0.973655</td>\n",
              "      <td>3.634961</td>\n",
              "      <td>0.954577</td>\n",
              "      <td>-1.736101</td>\n",
              "      <td>-0.427943</td>\n",
              "      <td>-0.173069</td>\n",
              "      <td>-0.084662</td>\n",
              "      <td>-0.278117</td>\n",
              "      <td>-0.395181</td>\n",
              "      <td>1.119378</td>\n",
              "      <td>-0.814841</td>\n",
              "      <td>-0.271794</td>\n",
              "      <td>-1.358972</td>\n",
              "      <td>-0.427943</td>\n",
              "      <td>-0.084662</td>\n",
              "    </tr>\n",
              "    <tr>\n",
              "      <th>3</th>\n",
              "      <td>-0.328545</td>\n",
              "      <td>-1.385947</td>\n",
              "      <td>1.133850</td>\n",
              "      <td>-0.275106</td>\n",
              "      <td>-0.143651</td>\n",
              "      <td>1.277984</td>\n",
              "      <td>1.481708</td>\n",
              "      <td>-0.173069</td>\n",
              "      <td>-0.068486</td>\n",
              "      <td>0.125175</td>\n",
              "      <td>0.534460</td>\n",
              "      <td>-0.845616</td>\n",
              "      <td>0.184464</td>\n",
              "      <td>0.379958</td>\n",
              "      <td>1.899788</td>\n",
              "      <td>-0.173069</td>\n",
              "      <td>1.481708</td>\n",
              "    </tr>\n",
              "    <tr>\n",
              "      <th>4</th>\n",
              "      <td>0.531819</td>\n",
              "      <td>0.385008</td>\n",
              "      <td>-0.997879</td>\n",
              "      <td>-0.275106</td>\n",
              "      <td>0.854294</td>\n",
              "      <td>-1.365338</td>\n",
              "      <td>-0.427943</td>\n",
              "      <td>-0.173069</td>\n",
              "      <td>-0.084662</td>\n",
              "      <td>-0.278117</td>\n",
              "      <td>-0.395181</td>\n",
              "      <td>-0.982581</td>\n",
              "      <td>1.314184</td>\n",
              "      <td>-0.271794</td>\n",
              "      <td>-1.358972</td>\n",
              "      <td>-0.427943</td>\n",
              "      <td>-0.084662</td>\n",
              "    </tr>\n",
              "    <tr>\n",
              "      <th>...</th>\n",
              "      <td>...</td>\n",
              "      <td>...</td>\n",
              "      <td>...</td>\n",
              "      <td>...</td>\n",
              "      <td>...</td>\n",
              "      <td>...</td>\n",
              "      <td>...</td>\n",
              "      <td>...</td>\n",
              "      <td>...</td>\n",
              "      <td>...</td>\n",
              "      <td>...</td>\n",
              "      <td>...</td>\n",
              "      <td>...</td>\n",
              "      <td>...</td>\n",
              "      <td>...</td>\n",
              "      <td>...</td>\n",
              "      <td>...</td>\n",
              "    </tr>\n",
              "    <tr>\n",
              "      <th>82540</th>\n",
              "      <td>-1.188910</td>\n",
              "      <td>-0.631651</td>\n",
              "      <td>-1.579260</td>\n",
              "      <td>-0.275106</td>\n",
              "      <td>-1.683121</td>\n",
              "      <td>-1.459119</td>\n",
              "      <td>-0.427943</td>\n",
              "      <td>-0.173069</td>\n",
              "      <td>-0.084662</td>\n",
              "      <td>-0.278117</td>\n",
              "      <td>-0.395181</td>\n",
              "      <td>0.473255</td>\n",
              "      <td>0.565510</td>\n",
              "      <td>-0.271794</td>\n",
              "      <td>-1.358972</td>\n",
              "      <td>-0.427943</td>\n",
              "      <td>-0.084662</td>\n",
              "    </tr>\n",
              "    <tr>\n",
              "      <th>82541</th>\n",
              "      <td>0.688249</td>\n",
              "      <td>-0.795628</td>\n",
              "      <td>0.891608</td>\n",
              "      <td>-0.275106</td>\n",
              "      <td>-0.042826</td>\n",
              "      <td>0.586620</td>\n",
              "      <td>3.080816</td>\n",
              "      <td>0.031387</td>\n",
              "      <td>-0.079891</td>\n",
              "      <td>2.718102</td>\n",
              "      <td>1.493845</td>\n",
              "      <td>1.258573</td>\n",
              "      <td>-0.484781</td>\n",
              "      <td>1.448852</td>\n",
              "      <td>7.244258</td>\n",
              "      <td>-0.079891</td>\n",
              "      <td>3.080816</td>\n",
              "    </tr>\n",
              "    <tr>\n",
              "      <th>82542</th>\n",
              "      <td>-0.406760</td>\n",
              "      <td>0.385008</td>\n",
              "      <td>0.431348</td>\n",
              "      <td>-0.275106</td>\n",
              "      <td>-0.694933</td>\n",
              "      <td>0.475391</td>\n",
              "      <td>-0.427943</td>\n",
              "      <td>-0.173069</td>\n",
              "      <td>-0.084662</td>\n",
              "      <td>-0.278117</td>\n",
              "      <td>-0.395181</td>\n",
              "      <td>-1.057727</td>\n",
              "      <td>-0.720922</td>\n",
              "      <td>-0.271794</td>\n",
              "      <td>-1.358972</td>\n",
              "      <td>-0.427943</td>\n",
              "      <td>-0.084662</td>\n",
              "    </tr>\n",
              "    <tr>\n",
              "      <th>82543</th>\n",
              "      <td>0.922894</td>\n",
              "      <td>-0.434878</td>\n",
              "      <td>-1.458139</td>\n",
              "      <td>-0.275106</td>\n",
              "      <td>-0.273747</td>\n",
              "      <td>-1.212671</td>\n",
              "      <td>-0.427943</td>\n",
              "      <td>-0.173069</td>\n",
              "      <td>-0.084662</td>\n",
              "      <td>-0.278117</td>\n",
              "      <td>-0.395181</td>\n",
              "      <td>-1.142275</td>\n",
              "      <td>0.876250</td>\n",
              "      <td>-0.271794</td>\n",
              "      <td>-1.358972</td>\n",
              "      <td>-0.427943</td>\n",
              "      <td>-0.084662</td>\n",
              "    </tr>\n",
              "    <tr>\n",
              "      <th>82544</th>\n",
              "      <td>0.531819</td>\n",
              "      <td>-1.189174</td>\n",
              "      <td>0.334451</td>\n",
              "      <td>-0.275106</td>\n",
              "      <td>0.123046</td>\n",
              "      <td>0.865783</td>\n",
              "      <td>-0.427943</td>\n",
              "      <td>-0.173069</td>\n",
              "      <td>-0.084662</td>\n",
              "      <td>-0.278117</td>\n",
              "      <td>-0.395181</td>\n",
              "      <td>-0.889572</td>\n",
              "      <td>1.021155</td>\n",
              "      <td>-0.271794</td>\n",
              "      <td>-1.358972</td>\n",
              "      <td>-0.427943</td>\n",
              "      <td>-0.084662</td>\n",
              "    </tr>\n",
              "  </tbody>\n",
              "</table>\n",
              "<p>82545 rows × 17 columns</p>\n",
              "</div>\n",
              "      <button class=\"colab-df-convert\" onclick=\"convertToInteractive('df-9ce76583-11f1-4b7f-985a-fefc4585dc23')\"\n",
              "              title=\"Convert this dataframe to an interactive table.\"\n",
              "              style=\"display:none;\">\n",
              "        \n",
              "  <svg xmlns=\"http://www.w3.org/2000/svg\" height=\"24px\"viewBox=\"0 0 24 24\"\n",
              "       width=\"24px\">\n",
              "    <path d=\"M0 0h24v24H0V0z\" fill=\"none\"/>\n",
              "    <path d=\"M18.56 5.44l.94 2.06.94-2.06 2.06-.94-2.06-.94-.94-2.06-.94 2.06-2.06.94zm-11 1L8.5 8.5l.94-2.06 2.06-.94-2.06-.94L8.5 2.5l-.94 2.06-2.06.94zm10 10l.94 2.06.94-2.06 2.06-.94-2.06-.94-.94-2.06-.94 2.06-2.06.94z\"/><path d=\"M17.41 7.96l-1.37-1.37c-.4-.4-.92-.59-1.43-.59-.52 0-1.04.2-1.43.59L10.3 9.45l-7.72 7.72c-.78.78-.78 2.05 0 2.83L4 21.41c.39.39.9.59 1.41.59.51 0 1.02-.2 1.41-.59l7.78-7.78 2.81-2.81c.8-.78.8-2.07 0-2.86zM5.41 20L4 18.59l7.72-7.72 1.47 1.35L5.41 20z\"/>\n",
              "  </svg>\n",
              "      </button>\n",
              "      \n",
              "  <style>\n",
              "    .colab-df-container {\n",
              "      display:flex;\n",
              "      flex-wrap:wrap;\n",
              "      gap: 12px;\n",
              "    }\n",
              "\n",
              "    .colab-df-convert {\n",
              "      background-color: #E8F0FE;\n",
              "      border: none;\n",
              "      border-radius: 50%;\n",
              "      cursor: pointer;\n",
              "      display: none;\n",
              "      fill: #1967D2;\n",
              "      height: 32px;\n",
              "      padding: 0 0 0 0;\n",
              "      width: 32px;\n",
              "    }\n",
              "\n",
              "    .colab-df-convert:hover {\n",
              "      background-color: #E2EBFA;\n",
              "      box-shadow: 0px 1px 2px rgba(60, 64, 67, 0.3), 0px 1px 3px 1px rgba(60, 64, 67, 0.15);\n",
              "      fill: #174EA6;\n",
              "    }\n",
              "\n",
              "    [theme=dark] .colab-df-convert {\n",
              "      background-color: #3B4455;\n",
              "      fill: #D2E3FC;\n",
              "    }\n",
              "\n",
              "    [theme=dark] .colab-df-convert:hover {\n",
              "      background-color: #434B5C;\n",
              "      box-shadow: 0px 1px 3px 1px rgba(0, 0, 0, 0.15);\n",
              "      filter: drop-shadow(0px 1px 2px rgba(0, 0, 0, 0.3));\n",
              "      fill: #FFFFFF;\n",
              "    }\n",
              "  </style>\n",
              "\n",
              "      <script>\n",
              "        const buttonEl =\n",
              "          document.querySelector('#df-9ce76583-11f1-4b7f-985a-fefc4585dc23 button.colab-df-convert');\n",
              "        buttonEl.style.display =\n",
              "          google.colab.kernel.accessAllowed ? 'block' : 'none';\n",
              "\n",
              "        async function convertToInteractive(key) {\n",
              "          const element = document.querySelector('#df-9ce76583-11f1-4b7f-985a-fefc4585dc23');\n",
              "          const dataTable =\n",
              "            await google.colab.kernel.invokeFunction('convertToInteractive',\n",
              "                                                     [key], {});\n",
              "          if (!dataTable) return;\n",
              "\n",
              "          const docLinkHtml = 'Like what you see? Visit the ' +\n",
              "            '<a target=\"_blank\" href=https://colab.research.google.com/notebooks/data_table.ipynb>data table notebook</a>'\n",
              "            + ' to learn more about interactive tables.';\n",
              "          element.innerHTML = '';\n",
              "          dataTable['output_type'] = 'display_data';\n",
              "          await google.colab.output.renderOutput(dataTable, element);\n",
              "          const docLink = document.createElement('div');\n",
              "          docLink.innerHTML = docLinkHtml;\n",
              "          element.appendChild(docLink);\n",
              "        }\n",
              "      </script>\n",
              "    </div>\n",
              "  </div>\n",
              "  "
            ]
          },
          "metadata": {},
          "execution_count": 10
        }
      ]
    },
    {
      "cell_type": "code",
      "source": [
        "Id = test['Store'].astype('string') + '_' + test['Dept'].astype('string') + '_' + test['Date'].astype('string')\n",
        "Id"
      ],
      "metadata": {
        "colab": {
          "base_uri": "https://localhost:8080/"
        },
        "id": "VfjSnc11WFml",
        "outputId": "b1ea8670-98c2-4bc0-ea04-3ec83ab65b84"
      },
      "execution_count": null,
      "outputs": [
        {
          "output_type": "execute_result",
          "data": {
            "text/plain": [
              "0           1_1_2012-11-02\n",
              "1           1_1_2012-11-09\n",
              "2           1_1_2012-11-16\n",
              "3           1_1_2012-11-23\n",
              "4           1_1_2012-11-30\n",
              "                ...       \n",
              "115059    45_98_2013-06-28\n",
              "115060    45_98_2013-07-05\n",
              "115061    45_98_2013-07-12\n",
              "115062    45_98_2013-07-19\n",
              "115063    45_98_2013-07-26\n",
              "Length: 115064, dtype: string"
            ]
          },
          "metadata": {},
          "execution_count": 41
        }
      ]
    },
    {
      "cell_type": "code",
      "source": [
        "y_pred = grid.predict(submission_test)\n",
        "y_pred"
      ],
      "metadata": {
        "colab": {
          "base_uri": "https://localhost:8080/"
        },
        "id": "w23BkcOTtM-r",
        "outputId": "c3c3647f-39d5-4332-b518-8c2d86a4cf12"
      },
      "execution_count": null,
      "outputs": [
        {
          "output_type": "stream",
          "name": "stderr",
          "text": [
            "/usr/local/lib/python3.8/dist-packages/sklearn/base.py:443: UserWarning: X has feature names, but RandomForestRegressor was fitted without feature names\n",
            "  warnings.warn(\n"
          ]
        },
        {
          "output_type": "execute_result",
          "data": {
            "text/plain": [
              "array([30.65010319, 35.68213481, 23.12887563, ..., 31.87250558,\n",
              "       19.1840608 ,  7.68295801])"
            ]
          },
          "metadata": {},
          "execution_count": 42
        }
      ]
    },
    {
      "cell_type": "code",
      "source": [
        "weekly_sales = np.round(y_pred**3, 2)\n",
        "weekly_sales"
      ],
      "metadata": {
        "colab": {
          "base_uri": "https://localhost:8080/"
        },
        "id": "lRRrnt2aWp5_",
        "outputId": "5cf39b65-a7e1-45ea-c4c0-1e333c338c17"
      },
      "execution_count": null,
      "outputs": [
        {
          "output_type": "execute_result",
          "data": {
            "text/plain": [
              "array([28793.59, 45431.02, 12372.67, ..., 32377.9 ,  7060.28,   453.51])"
            ]
          },
          "metadata": {},
          "execution_count": 44
        }
      ]
    },
    {
      "cell_type": "code",
      "source": [
        "sub = {'Id':Id, 'Weekly_Sales':weekly_sales}\n",
        "RFR_submission = pd.DataFrame(data=sub)\n",
        "RFR_submission"
      ],
      "metadata": {
        "colab": {
          "base_uri": "https://localhost:8080/",
          "height": 424
        },
        "id": "YQQAE8Y-W45G",
        "outputId": "8a84babc-55b0-4007-cefd-07d027993306"
      },
      "execution_count": null,
      "outputs": [
        {
          "output_type": "execute_result",
          "data": {
            "text/plain": [
              "                      Id  Weekly_Sales\n",
              "0         1_1_2012-11-02      28793.59\n",
              "1         1_1_2012-11-09      45431.02\n",
              "2         1_1_2012-11-16      12372.67\n",
              "3         1_1_2012-11-23      40131.68\n",
              "4         1_1_2012-11-30      24959.73\n",
              "...                  ...           ...\n",
              "115059  45_98_2013-06-28      18226.20\n",
              "115060  45_98_2013-07-05      21866.65\n",
              "115061  45_98_2013-07-12      32377.90\n",
              "115062  45_98_2013-07-19       7060.28\n",
              "115063  45_98_2013-07-26        453.51\n",
              "\n",
              "[115064 rows x 2 columns]"
            ],
            "text/html": [
              "\n",
              "  <div id=\"df-6e8590b1-d582-479f-b560-607e1cda2eee\">\n",
              "    <div class=\"colab-df-container\">\n",
              "      <div>\n",
              "<style scoped>\n",
              "    .dataframe tbody tr th:only-of-type {\n",
              "        vertical-align: middle;\n",
              "    }\n",
              "\n",
              "    .dataframe tbody tr th {\n",
              "        vertical-align: top;\n",
              "    }\n",
              "\n",
              "    .dataframe thead th {\n",
              "        text-align: right;\n",
              "    }\n",
              "</style>\n",
              "<table border=\"1\" class=\"dataframe\">\n",
              "  <thead>\n",
              "    <tr style=\"text-align: right;\">\n",
              "      <th></th>\n",
              "      <th>Id</th>\n",
              "      <th>Weekly_Sales</th>\n",
              "    </tr>\n",
              "  </thead>\n",
              "  <tbody>\n",
              "    <tr>\n",
              "      <th>0</th>\n",
              "      <td>1_1_2012-11-02</td>\n",
              "      <td>28793.59</td>\n",
              "    </tr>\n",
              "    <tr>\n",
              "      <th>1</th>\n",
              "      <td>1_1_2012-11-09</td>\n",
              "      <td>45431.02</td>\n",
              "    </tr>\n",
              "    <tr>\n",
              "      <th>2</th>\n",
              "      <td>1_1_2012-11-16</td>\n",
              "      <td>12372.67</td>\n",
              "    </tr>\n",
              "    <tr>\n",
              "      <th>3</th>\n",
              "      <td>1_1_2012-11-23</td>\n",
              "      <td>40131.68</td>\n",
              "    </tr>\n",
              "    <tr>\n",
              "      <th>4</th>\n",
              "      <td>1_1_2012-11-30</td>\n",
              "      <td>24959.73</td>\n",
              "    </tr>\n",
              "    <tr>\n",
              "      <th>...</th>\n",
              "      <td>...</td>\n",
              "      <td>...</td>\n",
              "    </tr>\n",
              "    <tr>\n",
              "      <th>115059</th>\n",
              "      <td>45_98_2013-06-28</td>\n",
              "      <td>18226.20</td>\n",
              "    </tr>\n",
              "    <tr>\n",
              "      <th>115060</th>\n",
              "      <td>45_98_2013-07-05</td>\n",
              "      <td>21866.65</td>\n",
              "    </tr>\n",
              "    <tr>\n",
              "      <th>115061</th>\n",
              "      <td>45_98_2013-07-12</td>\n",
              "      <td>32377.90</td>\n",
              "    </tr>\n",
              "    <tr>\n",
              "      <th>115062</th>\n",
              "      <td>45_98_2013-07-19</td>\n",
              "      <td>7060.28</td>\n",
              "    </tr>\n",
              "    <tr>\n",
              "      <th>115063</th>\n",
              "      <td>45_98_2013-07-26</td>\n",
              "      <td>453.51</td>\n",
              "    </tr>\n",
              "  </tbody>\n",
              "</table>\n",
              "<p>115064 rows × 2 columns</p>\n",
              "</div>\n",
              "      <button class=\"colab-df-convert\" onclick=\"convertToInteractive('df-6e8590b1-d582-479f-b560-607e1cda2eee')\"\n",
              "              title=\"Convert this dataframe to an interactive table.\"\n",
              "              style=\"display:none;\">\n",
              "        \n",
              "  <svg xmlns=\"http://www.w3.org/2000/svg\" height=\"24px\"viewBox=\"0 0 24 24\"\n",
              "       width=\"24px\">\n",
              "    <path d=\"M0 0h24v24H0V0z\" fill=\"none\"/>\n",
              "    <path d=\"M18.56 5.44l.94 2.06.94-2.06 2.06-.94-2.06-.94-.94-2.06-.94 2.06-2.06.94zm-11 1L8.5 8.5l.94-2.06 2.06-.94-2.06-.94L8.5 2.5l-.94 2.06-2.06.94zm10 10l.94 2.06.94-2.06 2.06-.94-2.06-.94-.94-2.06-.94 2.06-2.06.94z\"/><path d=\"M17.41 7.96l-1.37-1.37c-.4-.4-.92-.59-1.43-.59-.52 0-1.04.2-1.43.59L10.3 9.45l-7.72 7.72c-.78.78-.78 2.05 0 2.83L4 21.41c.39.39.9.59 1.41.59.51 0 1.02-.2 1.41-.59l7.78-7.78 2.81-2.81c.8-.78.8-2.07 0-2.86zM5.41 20L4 18.59l7.72-7.72 1.47 1.35L5.41 20z\"/>\n",
              "  </svg>\n",
              "      </button>\n",
              "      \n",
              "  <style>\n",
              "    .colab-df-container {\n",
              "      display:flex;\n",
              "      flex-wrap:wrap;\n",
              "      gap: 12px;\n",
              "    }\n",
              "\n",
              "    .colab-df-convert {\n",
              "      background-color: #E8F0FE;\n",
              "      border: none;\n",
              "      border-radius: 50%;\n",
              "      cursor: pointer;\n",
              "      display: none;\n",
              "      fill: #1967D2;\n",
              "      height: 32px;\n",
              "      padding: 0 0 0 0;\n",
              "      width: 32px;\n",
              "    }\n",
              "\n",
              "    .colab-df-convert:hover {\n",
              "      background-color: #E2EBFA;\n",
              "      box-shadow: 0px 1px 2px rgba(60, 64, 67, 0.3), 0px 1px 3px 1px rgba(60, 64, 67, 0.15);\n",
              "      fill: #174EA6;\n",
              "    }\n",
              "\n",
              "    [theme=dark] .colab-df-convert {\n",
              "      background-color: #3B4455;\n",
              "      fill: #D2E3FC;\n",
              "    }\n",
              "\n",
              "    [theme=dark] .colab-df-convert:hover {\n",
              "      background-color: #434B5C;\n",
              "      box-shadow: 0px 1px 3px 1px rgba(0, 0, 0, 0.15);\n",
              "      filter: drop-shadow(0px 1px 2px rgba(0, 0, 0, 0.3));\n",
              "      fill: #FFFFFF;\n",
              "    }\n",
              "  </style>\n",
              "\n",
              "      <script>\n",
              "        const buttonEl =\n",
              "          document.querySelector('#df-6e8590b1-d582-479f-b560-607e1cda2eee button.colab-df-convert');\n",
              "        buttonEl.style.display =\n",
              "          google.colab.kernel.accessAllowed ? 'block' : 'none';\n",
              "\n",
              "        async function convertToInteractive(key) {\n",
              "          const element = document.querySelector('#df-6e8590b1-d582-479f-b560-607e1cda2eee');\n",
              "          const dataTable =\n",
              "            await google.colab.kernel.invokeFunction('convertToInteractive',\n",
              "                                                     [key], {});\n",
              "          if (!dataTable) return;\n",
              "\n",
              "          const docLinkHtml = 'Like what you see? Visit the ' +\n",
              "            '<a target=\"_blank\" href=https://colab.research.google.com/notebooks/data_table.ipynb>data table notebook</a>'\n",
              "            + ' to learn more about interactive tables.';\n",
              "          element.innerHTML = '';\n",
              "          dataTable['output_type'] = 'display_data';\n",
              "          await google.colab.output.renderOutput(dataTable, element);\n",
              "          const docLink = document.createElement('div');\n",
              "          docLink.innerHTML = docLinkHtml;\n",
              "          element.appendChild(docLink);\n",
              "        }\n",
              "      </script>\n",
              "    </div>\n",
              "  </div>\n",
              "  "
            ]
          },
          "metadata": {},
          "execution_count": 45
        }
      ]
    },
    {
      "cell_type": "code",
      "source": [
        "from google.colab import drive\n",
        "drive.mount('drive')\n",
        "RFR_submission.to_csv('RFR_submission2.csv')\n",
        "!cp RFR_submission2.csv \"drive/My Drive/\""
      ],
      "metadata": {
        "colab": {
          "base_uri": "https://localhost:8080/"
        },
        "id": "Asts_DjLrC8h",
        "outputId": "a5e34f05-ec91-464f-cb56-e095f393f3f9"
      },
      "execution_count": null,
      "outputs": [
        {
          "output_type": "stream",
          "name": "stdout",
          "text": [
            "Drive already mounted at drive; to attempt to forcibly remount, call drive.mount(\"drive\", force_remount=True).\n"
          ]
        }
      ]
    }
  ]
}