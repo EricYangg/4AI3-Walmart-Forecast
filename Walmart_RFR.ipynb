{
  "nbformat": 4,
  "nbformat_minor": 0,
  "metadata": {
    "colab": {
      "provenance": []
    },
    "kernelspec": {
      "name": "python3",
      "display_name": "Python 3"
    },
    "language_info": {
      "name": "python"
    }
  },
  "cells": [
    {
      "cell_type": "code",
      "source": [
        "import pandas as pd\n",
        "from sklearn.preprocessing import StandardScaler\n",
        "from sklearn.pipeline import make_pipeline\n",
        "from sklearn.model_selection import GridSearchCV\n",
        "from sklearn.metrics import classification_report, confusion_matrix"
      ],
      "metadata": {
        "id": "b7t3Aw9VcOQg"
      },
      "execution_count": 20,
      "outputs": []
    },
    {
      "cell_type": "code",
      "execution_count": 21,
      "metadata": {
        "id": "Av4RKgQocLg8"
      },
      "outputs": [],
      "source": [
        "url = 'https://media.githubusercontent.com/media/EricYangg/4AI3-Walmart-Forecast/main/Processed%20Dataset%20Update/x_train.csv'\n",
        "x_train = pd.read_csv(url)\n",
        "url = 'https://media.githubusercontent.com/media/EricYangg/4AI3-Walmart-Forecast/main/Processed%20Dataset%20Update/y_train.csv'\n",
        "y_train = pd.read_csv(url)\n",
        "url = 'https://media.githubusercontent.com/media/EricYangg/4AI3-Walmart-Forecast/main/Processed%20Dataset%20Update/x_test.csv'\n",
        "x_test = pd.read_csv(url)\n",
        "url = 'https://media.githubusercontent.com/media/EricYangg/4AI3-Walmart-Forecast/main/Processed%20Dataset%20Update/y_test.csv'\n",
        "y_test = pd.read_csv(url)\n",
        "url = 'https://media.githubusercontent.com/media/EricYangg/4AI3-Walmart-Forecast/main/Datasets/test.csv'\n",
        "test = pd.read_csv(url)\n",
        "url = 'https://media.githubusercontent.com/media/EricYangg/4AI3-Walmart-Forecast/main/Processed%20Dataset%20Update/Submission%20Test.csv'\n",
        "submission_test = pd.read_csv(url)"
      ]
    },
    {
      "cell_type": "code",
      "source": [
        "scaler = StandardScaler()\n",
        "X_train_scaled = scaler.fit_transform(x_train)\n",
        "X_test_scaled = scaler.fit_transform(x_test)"
      ],
      "metadata": {
        "id": "dwn0vGfNiny7"
      },
      "execution_count": 22,
      "outputs": []
    },
    {
      "cell_type": "code",
      "source": [
        "from sklearn.ensemble import RandomForestRegressor\n",
        "from sklearn.datasets import make_regression\n",
        "import numpy as np"
      ],
      "metadata": {
        "id": "rQP1TOLx0j7_"
      },
      "execution_count": 23,
      "outputs": []
    },
    {
      "cell_type": "code",
      "source": [
        "regr = RandomForestRegressor(max_depth=10, random_state=42)\n",
        "regr.fit(x_train.to_numpy(), y_train.to_numpy().ravel())\n",
        "rbfpredictions =  regr.predict(x_test.to_numpy())\n",
        "y_test = np.array(y_test)\n",
        "marks =  regr.score(x_test.to_numpy(), y_test)\n",
        "print(marks)"
      ],
      "metadata": {
        "id": "81vZa-OKs8rv",
        "colab": {
          "base_uri": "https://localhost:8080/"
        },
        "outputId": "14ed36e8-78dc-44a4-f5e9-bf329d71d1f5"
      },
      "execution_count": 24,
      "outputs": [
        {
          "output_type": "stream",
          "name": "stdout",
          "text": [
            "0.9299353925817136\n"
          ]
        }
      ]
    },
    {
      "cell_type": "code",
      "source": [
        "param_grid = {'max_depth': [1, 10], 'max_features': ['auto', 'sqrt'], 'n_estimators': [100, 200]}\n",
        "grid = GridSearchCV(RandomForestRegressor(), param_grid, refit=True, verbose=2)\n",
        "grid.fit(x_train.to_numpy(), y_train.to_numpy().ravel())\n",
        "print(grid.best_estimator_)\n",
        "grid_predictions = grid.predict(x_test.to_numpy())\n",
        "print(grid_predictions)"
      ],
      "metadata": {
        "colab": {
          "base_uri": "https://localhost:8080/"
        },
        "id": "wU2WIbKvscpS",
        "outputId": "ac55c1a3-37ce-4493-86a8-eee2744fdf76"
      },
      "execution_count": 25,
      "outputs": [
        {
          "output_type": "stream",
          "name": "stdout",
          "text": [
            "Fitting 5 folds for each of 8 candidates, totalling 40 fits\n",
            "[CV] END ...max_depth=1, max_features=auto, n_estimators=100; total time=  19.2s\n",
            "[CV] END ...max_depth=1, max_features=auto, n_estimators=100; total time=  22.2s\n",
            "[CV] END ...max_depth=1, max_features=auto, n_estimators=100; total time=  19.8s\n",
            "[CV] END ...max_depth=1, max_features=auto, n_estimators=100; total time=  19.0s\n",
            "[CV] END ...max_depth=1, max_features=auto, n_estimators=100; total time=  18.9s\n",
            "[CV] END ...max_depth=1, max_features=auto, n_estimators=200; total time=  39.7s\n",
            "[CV] END ...max_depth=1, max_features=auto, n_estimators=200; total time=  38.5s\n",
            "[CV] END ...max_depth=1, max_features=auto, n_estimators=200; total time=  37.9s\n",
            "[CV] END ...max_depth=1, max_features=auto, n_estimators=200; total time=  37.6s\n",
            "[CV] END ...max_depth=1, max_features=auto, n_estimators=200; total time=  38.3s\n",
            "[CV] END ...max_depth=1, max_features=sqrt, n_estimators=100; total time=   6.1s\n",
            "[CV] END ...max_depth=1, max_features=sqrt, n_estimators=100; total time=   6.1s\n",
            "[CV] END ...max_depth=1, max_features=sqrt, n_estimators=100; total time=   5.9s\n",
            "[CV] END ...max_depth=1, max_features=sqrt, n_estimators=100; total time=   6.7s\n",
            "[CV] END ...max_depth=1, max_features=sqrt, n_estimators=100; total time=   6.0s\n",
            "[CV] END ...max_depth=1, max_features=sqrt, n_estimators=200; total time=  11.9s\n",
            "[CV] END ...max_depth=1, max_features=sqrt, n_estimators=200; total time=  11.8s\n",
            "[CV] END ...max_depth=1, max_features=sqrt, n_estimators=200; total time=  12.4s\n",
            "[CV] END ...max_depth=1, max_features=sqrt, n_estimators=200; total time=  11.6s\n",
            "[CV] END ...max_depth=1, max_features=sqrt, n_estimators=200; total time=  11.7s\n",
            "[CV] END ..max_depth=10, max_features=auto, n_estimators=100; total time= 2.6min\n",
            "[CV] END ..max_depth=10, max_features=auto, n_estimators=100; total time= 2.6min\n",
            "[CV] END ..max_depth=10, max_features=auto, n_estimators=100; total time= 2.6min\n",
            "[CV] END ..max_depth=10, max_features=auto, n_estimators=100; total time= 2.6min\n",
            "[CV] END ..max_depth=10, max_features=auto, n_estimators=100; total time= 2.7min\n",
            "[CV] END ..max_depth=10, max_features=auto, n_estimators=200; total time= 5.3min\n",
            "[CV] END ..max_depth=10, max_features=auto, n_estimators=200; total time= 5.3min\n",
            "[CV] END ..max_depth=10, max_features=auto, n_estimators=200; total time= 5.3min\n",
            "[CV] END ..max_depth=10, max_features=auto, n_estimators=200; total time= 5.3min\n",
            "[CV] END ..max_depth=10, max_features=auto, n_estimators=200; total time= 5.3min\n",
            "[CV] END ..max_depth=10, max_features=sqrt, n_estimators=100; total time=  32.9s\n",
            "[CV] END ..max_depth=10, max_features=sqrt, n_estimators=100; total time=  34.9s\n",
            "[CV] END ..max_depth=10, max_features=sqrt, n_estimators=100; total time=  34.4s\n",
            "[CV] END ..max_depth=10, max_features=sqrt, n_estimators=100; total time=  33.5s\n",
            "[CV] END ..max_depth=10, max_features=sqrt, n_estimators=100; total time=  32.3s\n",
            "[CV] END ..max_depth=10, max_features=sqrt, n_estimators=200; total time= 1.1min\n",
            "[CV] END ..max_depth=10, max_features=sqrt, n_estimators=200; total time= 1.1min\n",
            "[CV] END ..max_depth=10, max_features=sqrt, n_estimators=200; total time= 1.1min\n",
            "[CV] END ..max_depth=10, max_features=sqrt, n_estimators=200; total time= 1.1min\n",
            "[CV] END ..max_depth=10, max_features=sqrt, n_estimators=200; total time= 1.1min\n",
            "RandomForestRegressor(max_depth=10, n_estimators=200)\n",
            "[ 7.08735536 25.55393986 15.14401637 ... 12.22586917 15.86279418\n",
            " 26.58873116]\n"
          ]
        }
      ]
    },
    {
      "cell_type": "code",
      "source": [
        "RFR = RandomForestRegressor(max_depth=10, random_state=42)\n",
        "RFR.fit(x_train.to_numpy(), y_train.to_numpy().ravel())\n",
        "y_pred =  RFR.predict(x_test.to_numpy())\n",
        "y_test = np.array(y_test)\n",
        "test_score =  RFR.score(x_test.to_numpy(), y_test)\n",
        "test_score"
      ],
      "metadata": {
        "colab": {
          "base_uri": "https://localhost:8080/"
        },
        "id": "Tt6Kct9DKwXQ",
        "outputId": "58b3784b-4c73-4d85-a272-e8137e283e2e"
      },
      "execution_count": 26,
      "outputs": [
        {
          "output_type": "execute_result",
          "data": {
            "text/plain": [
              "0.8755019474376686"
            ]
          },
          "metadata": {},
          "execution_count": 26
        }
      ]
    },
    {
      "cell_type": "code",
      "source": [
        "train_sizes = [1, 25, 50, 100, 500, 2500, 7500, 15000]"
      ],
      "metadata": {
        "id": "GZTx8wdk9oOR"
      },
      "execution_count": 27,
      "outputs": []
    },
    {
      "cell_type": "code",
      "source": [
        "from sklearn.model_selection import learning_curve\n",
        "\n",
        "train_sizes, train_scores, validation_scores = learning_curve(\n",
        "estimator = RFR,\n",
        "X = x_train,\n",
        "y = y_train, train_sizes = train_sizes, cv = 5,\n",
        "scoring = 'neg_mean_absolute_error')"
      ],
      "metadata": {
        "colab": {
          "base_uri": "https://localhost:8080/"
        },
        "id": "SsIm6lw_-W6i",
        "outputId": "3239fd2a-e9d3-448c-f766-e47137aed909"
      },
      "execution_count": 28,
      "outputs": [
        {
          "output_type": "stream",
          "name": "stderr",
          "text": [
            "/usr/local/lib/python3.8/dist-packages/sklearn/model_selection/_validation.py:680: DataConversionWarning: A column-vector y was passed when a 1d array was expected. Please change the shape of y to (n_samples,), for example using ravel().\n",
            "  estimator.fit(X_train, y_train, **fit_params)\n",
            "/usr/local/lib/python3.8/dist-packages/sklearn/model_selection/_validation.py:680: DataConversionWarning: A column-vector y was passed when a 1d array was expected. Please change the shape of y to (n_samples,), for example using ravel().\n",
            "  estimator.fit(X_train, y_train, **fit_params)\n",
            "/usr/local/lib/python3.8/dist-packages/sklearn/model_selection/_validation.py:680: DataConversionWarning: A column-vector y was passed when a 1d array was expected. Please change the shape of y to (n_samples,), for example using ravel().\n",
            "  estimator.fit(X_train, y_train, **fit_params)\n",
            "/usr/local/lib/python3.8/dist-packages/sklearn/model_selection/_validation.py:680: DataConversionWarning: A column-vector y was passed when a 1d array was expected. Please change the shape of y to (n_samples,), for example using ravel().\n",
            "  estimator.fit(X_train, y_train, **fit_params)\n",
            "/usr/local/lib/python3.8/dist-packages/sklearn/model_selection/_validation.py:680: DataConversionWarning: A column-vector y was passed when a 1d array was expected. Please change the shape of y to (n_samples,), for example using ravel().\n",
            "  estimator.fit(X_train, y_train, **fit_params)\n",
            "/usr/local/lib/python3.8/dist-packages/sklearn/model_selection/_validation.py:680: DataConversionWarning: A column-vector y was passed when a 1d array was expected. Please change the shape of y to (n_samples,), for example using ravel().\n",
            "  estimator.fit(X_train, y_train, **fit_params)\n",
            "/usr/local/lib/python3.8/dist-packages/sklearn/model_selection/_validation.py:680: DataConversionWarning: A column-vector y was passed when a 1d array was expected. Please change the shape of y to (n_samples,), for example using ravel().\n",
            "  estimator.fit(X_train, y_train, **fit_params)\n",
            "/usr/local/lib/python3.8/dist-packages/sklearn/model_selection/_validation.py:680: DataConversionWarning: A column-vector y was passed when a 1d array was expected. Please change the shape of y to (n_samples,), for example using ravel().\n",
            "  estimator.fit(X_train, y_train, **fit_params)\n",
            "/usr/local/lib/python3.8/dist-packages/sklearn/model_selection/_validation.py:680: DataConversionWarning: A column-vector y was passed when a 1d array was expected. Please change the shape of y to (n_samples,), for example using ravel().\n",
            "  estimator.fit(X_train, y_train, **fit_params)\n",
            "/usr/local/lib/python3.8/dist-packages/sklearn/model_selection/_validation.py:680: DataConversionWarning: A column-vector y was passed when a 1d array was expected. Please change the shape of y to (n_samples,), for example using ravel().\n",
            "  estimator.fit(X_train, y_train, **fit_params)\n",
            "/usr/local/lib/python3.8/dist-packages/sklearn/model_selection/_validation.py:680: DataConversionWarning: A column-vector y was passed when a 1d array was expected. Please change the shape of y to (n_samples,), for example using ravel().\n",
            "  estimator.fit(X_train, y_train, **fit_params)\n",
            "/usr/local/lib/python3.8/dist-packages/sklearn/model_selection/_validation.py:680: DataConversionWarning: A column-vector y was passed when a 1d array was expected. Please change the shape of y to (n_samples,), for example using ravel().\n",
            "  estimator.fit(X_train, y_train, **fit_params)\n",
            "/usr/local/lib/python3.8/dist-packages/sklearn/model_selection/_validation.py:680: DataConversionWarning: A column-vector y was passed when a 1d array was expected. Please change the shape of y to (n_samples,), for example using ravel().\n",
            "  estimator.fit(X_train, y_train, **fit_params)\n",
            "/usr/local/lib/python3.8/dist-packages/sklearn/model_selection/_validation.py:680: DataConversionWarning: A column-vector y was passed when a 1d array was expected. Please change the shape of y to (n_samples,), for example using ravel().\n",
            "  estimator.fit(X_train, y_train, **fit_params)\n",
            "/usr/local/lib/python3.8/dist-packages/sklearn/model_selection/_validation.py:680: DataConversionWarning: A column-vector y was passed when a 1d array was expected. Please change the shape of y to (n_samples,), for example using ravel().\n",
            "  estimator.fit(X_train, y_train, **fit_params)\n",
            "/usr/local/lib/python3.8/dist-packages/sklearn/model_selection/_validation.py:680: DataConversionWarning: A column-vector y was passed when a 1d array was expected. Please change the shape of y to (n_samples,), for example using ravel().\n",
            "  estimator.fit(X_train, y_train, **fit_params)\n",
            "/usr/local/lib/python3.8/dist-packages/sklearn/model_selection/_validation.py:680: DataConversionWarning: A column-vector y was passed when a 1d array was expected. Please change the shape of y to (n_samples,), for example using ravel().\n",
            "  estimator.fit(X_train, y_train, **fit_params)\n",
            "/usr/local/lib/python3.8/dist-packages/sklearn/model_selection/_validation.py:680: DataConversionWarning: A column-vector y was passed when a 1d array was expected. Please change the shape of y to (n_samples,), for example using ravel().\n",
            "  estimator.fit(X_train, y_train, **fit_params)\n",
            "/usr/local/lib/python3.8/dist-packages/sklearn/model_selection/_validation.py:680: DataConversionWarning: A column-vector y was passed when a 1d array was expected. Please change the shape of y to (n_samples,), for example using ravel().\n",
            "  estimator.fit(X_train, y_train, **fit_params)\n",
            "/usr/local/lib/python3.8/dist-packages/sklearn/model_selection/_validation.py:680: DataConversionWarning: A column-vector y was passed when a 1d array was expected. Please change the shape of y to (n_samples,), for example using ravel().\n",
            "  estimator.fit(X_train, y_train, **fit_params)\n",
            "/usr/local/lib/python3.8/dist-packages/sklearn/model_selection/_validation.py:680: DataConversionWarning: A column-vector y was passed when a 1d array was expected. Please change the shape of y to (n_samples,), for example using ravel().\n",
            "  estimator.fit(X_train, y_train, **fit_params)\n",
            "/usr/local/lib/python3.8/dist-packages/sklearn/model_selection/_validation.py:680: DataConversionWarning: A column-vector y was passed when a 1d array was expected. Please change the shape of y to (n_samples,), for example using ravel().\n",
            "  estimator.fit(X_train, y_train, **fit_params)\n",
            "/usr/local/lib/python3.8/dist-packages/sklearn/model_selection/_validation.py:680: DataConversionWarning: A column-vector y was passed when a 1d array was expected. Please change the shape of y to (n_samples,), for example using ravel().\n",
            "  estimator.fit(X_train, y_train, **fit_params)\n",
            "/usr/local/lib/python3.8/dist-packages/sklearn/model_selection/_validation.py:680: DataConversionWarning: A column-vector y was passed when a 1d array was expected. Please change the shape of y to (n_samples,), for example using ravel().\n",
            "  estimator.fit(X_train, y_train, **fit_params)\n",
            "/usr/local/lib/python3.8/dist-packages/sklearn/model_selection/_validation.py:680: DataConversionWarning: A column-vector y was passed when a 1d array was expected. Please change the shape of y to (n_samples,), for example using ravel().\n",
            "  estimator.fit(X_train, y_train, **fit_params)\n",
            "/usr/local/lib/python3.8/dist-packages/sklearn/model_selection/_validation.py:680: DataConversionWarning: A column-vector y was passed when a 1d array was expected. Please change the shape of y to (n_samples,), for example using ravel().\n",
            "  estimator.fit(X_train, y_train, **fit_params)\n",
            "/usr/local/lib/python3.8/dist-packages/sklearn/model_selection/_validation.py:680: DataConversionWarning: A column-vector y was passed when a 1d array was expected. Please change the shape of y to (n_samples,), for example using ravel().\n",
            "  estimator.fit(X_train, y_train, **fit_params)\n",
            "/usr/local/lib/python3.8/dist-packages/sklearn/model_selection/_validation.py:680: DataConversionWarning: A column-vector y was passed when a 1d array was expected. Please change the shape of y to (n_samples,), for example using ravel().\n",
            "  estimator.fit(X_train, y_train, **fit_params)\n",
            "/usr/local/lib/python3.8/dist-packages/sklearn/model_selection/_validation.py:680: DataConversionWarning: A column-vector y was passed when a 1d array was expected. Please change the shape of y to (n_samples,), for example using ravel().\n",
            "  estimator.fit(X_train, y_train, **fit_params)\n",
            "/usr/local/lib/python3.8/dist-packages/sklearn/model_selection/_validation.py:680: DataConversionWarning: A column-vector y was passed when a 1d array was expected. Please change the shape of y to (n_samples,), for example using ravel().\n",
            "  estimator.fit(X_train, y_train, **fit_params)\n",
            "/usr/local/lib/python3.8/dist-packages/sklearn/model_selection/_validation.py:680: DataConversionWarning: A column-vector y was passed when a 1d array was expected. Please change the shape of y to (n_samples,), for example using ravel().\n",
            "  estimator.fit(X_train, y_train, **fit_params)\n",
            "/usr/local/lib/python3.8/dist-packages/sklearn/model_selection/_validation.py:680: DataConversionWarning: A column-vector y was passed when a 1d array was expected. Please change the shape of y to (n_samples,), for example using ravel().\n",
            "  estimator.fit(X_train, y_train, **fit_params)\n",
            "/usr/local/lib/python3.8/dist-packages/sklearn/model_selection/_validation.py:680: DataConversionWarning: A column-vector y was passed when a 1d array was expected. Please change the shape of y to (n_samples,), for example using ravel().\n",
            "  estimator.fit(X_train, y_train, **fit_params)\n",
            "/usr/local/lib/python3.8/dist-packages/sklearn/model_selection/_validation.py:680: DataConversionWarning: A column-vector y was passed when a 1d array was expected. Please change the shape of y to (n_samples,), for example using ravel().\n",
            "  estimator.fit(X_train, y_train, **fit_params)\n",
            "/usr/local/lib/python3.8/dist-packages/sklearn/model_selection/_validation.py:680: DataConversionWarning: A column-vector y was passed when a 1d array was expected. Please change the shape of y to (n_samples,), for example using ravel().\n",
            "  estimator.fit(X_train, y_train, **fit_params)\n",
            "/usr/local/lib/python3.8/dist-packages/sklearn/model_selection/_validation.py:680: DataConversionWarning: A column-vector y was passed when a 1d array was expected. Please change the shape of y to (n_samples,), for example using ravel().\n",
            "  estimator.fit(X_train, y_train, **fit_params)\n",
            "/usr/local/lib/python3.8/dist-packages/sklearn/model_selection/_validation.py:680: DataConversionWarning: A column-vector y was passed when a 1d array was expected. Please change the shape of y to (n_samples,), for example using ravel().\n",
            "  estimator.fit(X_train, y_train, **fit_params)\n",
            "/usr/local/lib/python3.8/dist-packages/sklearn/model_selection/_validation.py:680: DataConversionWarning: A column-vector y was passed when a 1d array was expected. Please change the shape of y to (n_samples,), for example using ravel().\n",
            "  estimator.fit(X_train, y_train, **fit_params)\n",
            "/usr/local/lib/python3.8/dist-packages/sklearn/model_selection/_validation.py:680: DataConversionWarning: A column-vector y was passed when a 1d array was expected. Please change the shape of y to (n_samples,), for example using ravel().\n",
            "  estimator.fit(X_train, y_train, **fit_params)\n",
            "/usr/local/lib/python3.8/dist-packages/sklearn/model_selection/_validation.py:680: DataConversionWarning: A column-vector y was passed when a 1d array was expected. Please change the shape of y to (n_samples,), for example using ravel().\n",
            "  estimator.fit(X_train, y_train, **fit_params)\n"
          ]
        }
      ]
    },
    {
      "cell_type": "code",
      "source": [
        "train_scores_mean = -train_scores.mean(axis = 1)\n",
        "validation_scores_mean = -validation_scores.mean(axis=1)\n",
        "print('Mean training scores\\n\\n', pd.Series(train_scores_mean, index = train_sizes))\n",
        "print('\\n', '-' * 20) # separator\n",
        "print('\\nMean validation scores\\n\\n',pd.Series(validation_scores_mean, index = train_sizes))"
      ],
      "metadata": {
        "colab": {
          "base_uri": "https://localhost:8080/"
        },
        "id": "KrpvW0fV_EZQ",
        "outputId": "6eeaa750-82ba-474a-e490-a89c9a01ca94"
      },
      "execution_count": 29,
      "outputs": [
        {
          "output_type": "stream",
          "name": "stdout",
          "text": [
            "Mean training scores\n",
            "\n",
            " 1        2.700062e-14\n",
            "25       3.164622e+00\n",
            "50       2.948781e+00\n",
            "100      2.808417e+00\n",
            "500      2.769130e+00\n",
            "2500     2.233207e+00\n",
            "7500     2.259206e+00\n",
            "15000    2.274230e+00\n",
            "dtype: float64\n",
            "\n",
            " --------------------\n",
            "\n",
            "Mean validation scores\n",
            "\n",
            " 1        8.571787\n",
            "25       8.370426\n",
            "50       8.042325\n",
            "100      7.145953\n",
            "500      5.736325\n",
            "2500     3.439802\n",
            "7500     2.761210\n",
            "15000    2.561638\n",
            "dtype: float64\n"
          ]
        }
      ]
    },
    {
      "cell_type": "code",
      "source": [
        "from sklearn.metrics import mean_squared_error, r2_score\n",
        "from sklearn.metrics import mean_absolute_error\n",
        "# The mean squared error\n",
        "print(\"Mean squared error: %.2f\" % mean_squared_error(y_test, y_pred))\n",
        "# The coefficient of determination: 1 is perfect prediction\n",
        "print(\"Coefficient of determination: %.2f\" % r2_score(y_test, y_pred))\n",
        "print('Mean Abs Error:', mean_absolute_error(y_test, y_pred))"
      ],
      "metadata": {
        "colab": {
          "base_uri": "https://localhost:8080/"
        },
        "id": "JoxVVTJ1_I4_",
        "outputId": "fee82ff9-1456-4a96-9575-b95927cf3cf2"
      },
      "execution_count": 30,
      "outputs": [
        {
          "output_type": "stream",
          "name": "stdout",
          "text": [
            "Mean squared error: 12.29\n",
            "Coefficient of determination: 0.88\n",
            "Mean Abs Error: 2.428965940623149\n"
          ]
        }
      ]
    },
    {
      "cell_type": "code",
      "source": [
        "import matplotlib.pyplot as plt\n",
        "plt.style.use('seaborn')\n",
        "plt.plot(train_sizes, train_scores_mean, label = 'Training error')\n",
        "plt.plot(train_sizes, validation_scores_mean, label = 'Validation error')\n",
        "plt.ylabel('MAE', fontsize = 14)\n",
        "plt.xlabel('Training set size', fontsize = 14)\n",
        "plt.title('Learning curves for a linear regression model', fontsize = 18, y = 1.03)\n",
        "plt.legend()"
      ],
      "metadata": {
        "colab": {
          "base_uri": "https://localhost:8080/",
          "height": 411
        },
        "id": "lgBaPlVX_LDi",
        "outputId": "39ead972-a527-4e96-8469-271af47aaec7"
      },
      "execution_count": 31,
      "outputs": [
        {
          "output_type": "execute_result",
          "data": {
            "text/plain": [
              "<matplotlib.legend.Legend at 0x7fbc85983190>"
            ]
          },
          "metadata": {},
          "execution_count": 31
        },
        {
          "output_type": "display_data",
          "data": {
            "text/plain": [
              "<Figure size 576x396 with 1 Axes>"
            ],
            "image/png": "[encoded data removed]"
          },
          "metadata": {}
        }
      ]
    },
    {
      "cell_type": "code",
      "source": [
        "x_test"
      ],
      "metadata": {
        "colab": {
          "base_uri": "https://localhost:8080/",
          "height": 488
        },
        "id": "xzl0_t2Zj2Y3",
        "outputId": "0f2c36a4-29cd-42f7-fcee-aeef08986b97"
      },
      "execution_count": 32,
      "outputs": [
        {
          "output_type": "execute_result",
          "data": {
            "text/plain": [
              "          Store      Dept      Date  IsHoliday  Temperature  Fuel_Price  \\\n",
              "0     -0.093901  1.762418  0.431348  -0.275106     0.274825   -0.017506   \n",
              "1     -0.328545 -1.254765 -1.724605  -0.275106    -2.101054   -1.249747   \n",
              "2     -1.032480  0.745759 -0.973655   3.634961     0.954577   -1.736101   \n",
              "3     -0.328545 -1.385947  1.133850  -0.275106    -0.143651    1.277984   \n",
              "4      0.531819  0.385008 -0.997879  -0.275106     0.854294   -1.365338   \n",
              "...         ...       ...       ...        ...          ...         ...   \n",
              "82540 -1.188910 -0.631651 -1.579260  -0.275106    -1.683121   -1.459119   \n",
              "82541  0.688249 -0.795628  0.891608  -0.275106    -0.042826    0.586620   \n",
              "82542 -0.406760  0.385008  0.431348  -0.275106    -0.694933    0.475391   \n",
              "82543  0.922894 -0.434878 -1.458139  -0.275106    -0.273747   -1.212671   \n",
              "82544  0.531819 -1.189174  0.334451  -0.275106     0.123046    0.865783   \n",
              "\n",
              "       MarkDown1  MarkDown2  MarkDown3  MarkDown4  MarkDown5       CPI  \\\n",
              "0      -0.427943  -0.173069  -0.084662  -0.278117  -0.395181  1.173748   \n",
              "1      -0.427943  -0.173069  -0.084662  -0.278117  -0.395181 -1.013147   \n",
              "2      -0.427943  -0.173069  -0.084662  -0.278117  -0.395181  1.119378   \n",
              "3       1.481708  -0.173069  -0.068486   0.125175   0.534460 -0.845616   \n",
              "4      -0.427943  -0.173069  -0.084662  -0.278117  -0.395181 -0.982581   \n",
              "...          ...        ...        ...        ...        ...       ...   \n",
              "82540  -0.427943  -0.173069  -0.084662  -0.278117  -0.395181  0.473255   \n",
              "82541   3.080816   0.031387  -0.079891   2.718102   1.493845  1.258573   \n",
              "82542  -0.427943  -0.173069  -0.084662  -0.278117  -0.395181 -1.057727   \n",
              "82543  -0.427943  -0.173069  -0.084662  -0.278117  -0.395181 -1.142275   \n",
              "82544  -0.427943  -0.173069  -0.084662  -0.278117  -0.395181 -0.889572   \n",
              "\n",
              "       Unemployment      Type      Size  MDAverage     MDSum     MDMin  \\\n",
              "0         -0.278694  0.615438  0.056396  -0.271794 -1.358972 -0.427943   \n",
              "1          0.666407  0.615438 -0.263607  -0.271794 -1.358972 -0.427943   \n",
              "2         -0.814841  0.615438 -0.178662  -0.271794 -1.358972 -0.427943   \n",
              "3          0.184464  0.615438 -0.263607   0.379958  1.899788 -0.173069   \n",
              "4          1.314184  0.615438 -0.706618  -0.271794 -1.358972 -0.427943   \n",
              "...             ...       ...       ...        ...       ...       ...   \n",
              "82540      0.565510  0.615438 -1.082558  -0.271794 -1.358972 -0.427943   \n",
              "82541     -0.484781 -0.885307  1.099074   1.448852  7.244258 -0.079891   \n",
              "82542     -0.720922  0.615438 -0.713997  -0.271794 -1.358972 -0.427943   \n",
              "82543      0.876250 -0.885307  0.350704  -0.271794 -1.358972 -0.427943   \n",
              "82544      1.021155  0.615438 -0.706618  -0.271794 -1.358972 -0.427943   \n",
              "\n",
              "          MDMax  \n",
              "0     -0.084662  \n",
              "1     -0.084662  \n",
              "2     -0.084662  \n",
              "3      1.481708  \n",
              "4     -0.084662  \n",
              "...         ...  \n",
              "82540 -0.084662  \n",
              "82541  3.080816  \n",
              "82542 -0.084662  \n",
              "82543 -0.084662  \n",
              "82544 -0.084662  \n",
              "\n",
              "[82545 rows x 19 columns]"
            ],
            "text/html": [
              "\n",
              "  <div id=\"df-2ed98a77-1a4c-4355-9a85-520ff6e41da4\">\n",
              "    <div class=\"colab-df-container\">\n",
              "      <div>\n",
              "<style scoped>\n",
              "    .dataframe tbody tr th:only-of-type {\n",
              "        vertical-align: middle;\n",
              "    }\n",
              "\n",
              "    .dataframe tbody tr th {\n",
              "        vertical-align: top;\n",
              "    }\n",
              "\n",
              "    .dataframe thead th {\n",
              "        text-align: right;\n",
              "    }\n",
              "</style>\n",
              "<table border=\"1\" class=\"dataframe\">\n",
              "  <thead>\n",
              "    <tr style=\"text-align: right;\">\n",
              "      <th></th>\n",
              "      <th>Store</th>\n",
              "      <th>Dept</th>\n",
              "      <th>Date</th>\n",
              "      <th>IsHoliday</th>\n",
              "      <th>Temperature</th>\n",
              "      <th>Fuel_Price</th>\n",
              "      <th>MarkDown1</th>\n",
              "      <th>MarkDown2</th>\n",
              "      <th>MarkDown3</th>\n",
              "      <th>MarkDown4</th>\n",
              "      <th>MarkDown5</th>\n",
              "      <th>CPI</th>\n",
              "      <th>Unemployment</th>\n",
              "      <th>Type</th>\n",
              "      <th>Size</th>\n",
              "      <th>MDAverage</th>\n",
              "      <th>MDSum</th>\n",
              "      <th>MDMin</th>\n",
              "      <th>MDMax</th>\n",
              "    </tr>\n",
              "  </thead>\n",
              "  <tbody>\n",
              "    <tr>\n",
              "      <th>0</th>\n",
              "      <td>-0.093901</td>\n",
              "      <td>1.762418</td>\n",
              "      <td>0.431348</td>\n",
              "      <td>-0.275106</td>\n",
              "      <td>0.274825</td>\n",
              "      <td>-0.017506</td>\n",
              "      <td>-0.427943</td>\n",
              "      <td>-0.173069</td>\n",
              "      <td>-0.084662</td>\n",
              "      <td>-0.278117</td>\n",
              "      <td>-0.395181</td>\n",
              "      <td>1.173748</td>\n",
              "      <td>-0.278694</td>\n",
              "      <td>0.615438</td>\n",
              "      <td>0.056396</td>\n",
              "      <td>-0.271794</td>\n",
              "      <td>-1.358972</td>\n",
              "      <td>-0.427943</td>\n",
              "      <td>-0.084662</td>\n",
              "    </tr>\n",
              "    <tr>\n",
              "      <th>1</th>\n",
              "      <td>-0.328545</td>\n",
              "      <td>-1.254765</td>\n",
              "      <td>-1.724605</td>\n",
              "      <td>-0.275106</td>\n",
              "      <td>-2.101054</td>\n",
              "      <td>-1.249747</td>\n",
              "      <td>-0.427943</td>\n",
              "      <td>-0.173069</td>\n",
              "      <td>-0.084662</td>\n",
              "      <td>-0.278117</td>\n",
              "      <td>-0.395181</td>\n",
              "      <td>-1.013147</td>\n",
              "      <td>0.666407</td>\n",
              "      <td>0.615438</td>\n",
              "      <td>-0.263607</td>\n",
              "      <td>-0.271794</td>\n",
              "      <td>-1.358972</td>\n",
              "      <td>-0.427943</td>\n",
              "      <td>-0.084662</td>\n",
              "    </tr>\n",
              "    <tr>\n",
              "      <th>2</th>\n",
              "      <td>-1.032480</td>\n",
              "      <td>0.745759</td>\n",
              "      <td>-0.973655</td>\n",
              "      <td>3.634961</td>\n",
              "      <td>0.954577</td>\n",
              "      <td>-1.736101</td>\n",
              "      <td>-0.427943</td>\n",
              "      <td>-0.173069</td>\n",
              "      <td>-0.084662</td>\n",
              "      <td>-0.278117</td>\n",
              "      <td>-0.395181</td>\n",
              "      <td>1.119378</td>\n",
              "      <td>-0.814841</td>\n",
              "      <td>0.615438</td>\n",
              "      <td>-0.178662</td>\n",
              "      <td>-0.271794</td>\n",
              "      <td>-1.358972</td>\n",
              "      <td>-0.427943</td>\n",
              "      <td>-0.084662</td>\n",
              "    </tr>\n",
              "    <tr>\n",
              "      <th>3</th>\n",
              "      <td>-0.328545</td>\n",
              "      <td>-1.385947</td>\n",
              "      <td>1.133850</td>\n",
              "      <td>-0.275106</td>\n",
              "      <td>-0.143651</td>\n",
              "      <td>1.277984</td>\n",
              "      <td>1.481708</td>\n",
              "      <td>-0.173069</td>\n",
              "      <td>-0.068486</td>\n",
              "      <td>0.125175</td>\n",
              "      <td>0.534460</td>\n",
              "      <td>-0.845616</td>\n",
              "      <td>0.184464</td>\n",
              "      <td>0.615438</td>\n",
              "      <td>-0.263607</td>\n",
              "      <td>0.379958</td>\n",
              "      <td>1.899788</td>\n",
              "      <td>-0.173069</td>\n",
              "      <td>1.481708</td>\n",
              "    </tr>\n",
              "    <tr>\n",
              "      <th>4</th>\n",
              "      <td>0.531819</td>\n",
              "      <td>0.385008</td>\n",
              "      <td>-0.997879</td>\n",
              "      <td>-0.275106</td>\n",
              "      <td>0.854294</td>\n",
              "      <td>-1.365338</td>\n",
              "      <td>-0.427943</td>\n",
              "      <td>-0.173069</td>\n",
              "      <td>-0.084662</td>\n",
              "      <td>-0.278117</td>\n",
              "      <td>-0.395181</td>\n",
              "      <td>-0.982581</td>\n",
              "      <td>1.314184</td>\n",
              "      <td>0.615438</td>\n",
              "      <td>-0.706618</td>\n",
              "      <td>-0.271794</td>\n",
              "      <td>-1.358972</td>\n",
              "      <td>-0.427943</td>\n",
              "      <td>-0.084662</td>\n",
              "    </tr>\n",
              "    <tr>\n",
              "      <th>...</th>\n",
              "      <td>...</td>\n",
              "      <td>...</td>\n",
              "      <td>...</td>\n",
              "      <td>...</td>\n",
              "      <td>...</td>\n",
              "      <td>...</td>\n",
              "      <td>...</td>\n",
              "      <td>...</td>\n",
              "      <td>...</td>\n",
              "      <td>...</td>\n",
              "      <td>...</td>\n",
              "      <td>...</td>\n",
              "      <td>...</td>\n",
              "      <td>...</td>\n",
              "      <td>...</td>\n",
              "      <td>...</td>\n",
              "      <td>...</td>\n",
              "      <td>...</td>\n",
              "      <td>...</td>\n",
              "    </tr>\n",
              "    <tr>\n",
              "      <th>82540</th>\n",
              "      <td>-1.188910</td>\n",
              "      <td>-0.631651</td>\n",
              "      <td>-1.579260</td>\n",
              "      <td>-0.275106</td>\n",
              "      <td>-1.683121</td>\n",
              "      <td>-1.459119</td>\n",
              "      <td>-0.427943</td>\n",
              "      <td>-0.173069</td>\n",
              "      <td>-0.084662</td>\n",
              "      <td>-0.278117</td>\n",
              "      <td>-0.395181</td>\n",
              "      <td>0.473255</td>\n",
              "      <td>0.565510</td>\n",
              "      <td>0.615438</td>\n",
              "      <td>-1.082558</td>\n",
              "      <td>-0.271794</td>\n",
              "      <td>-1.358972</td>\n",
              "      <td>-0.427943</td>\n",
              "      <td>-0.084662</td>\n",
              "    </tr>\n",
              "    <tr>\n",
              "      <th>82541</th>\n",
              "      <td>0.688249</td>\n",
              "      <td>-0.795628</td>\n",
              "      <td>0.891608</td>\n",
              "      <td>-0.275106</td>\n",
              "      <td>-0.042826</td>\n",
              "      <td>0.586620</td>\n",
              "      <td>3.080816</td>\n",
              "      <td>0.031387</td>\n",
              "      <td>-0.079891</td>\n",
              "      <td>2.718102</td>\n",
              "      <td>1.493845</td>\n",
              "      <td>1.258573</td>\n",
              "      <td>-0.484781</td>\n",
              "      <td>-0.885307</td>\n",
              "      <td>1.099074</td>\n",
              "      <td>1.448852</td>\n",
              "      <td>7.244258</td>\n",
              "      <td>-0.079891</td>\n",
              "      <td>3.080816</td>\n",
              "    </tr>\n",
              "    <tr>\n",
              "      <th>82542</th>\n",
              "      <td>-0.406760</td>\n",
              "      <td>0.385008</td>\n",
              "      <td>0.431348</td>\n",
              "      <td>-0.275106</td>\n",
              "      <td>-0.694933</td>\n",
              "      <td>0.475391</td>\n",
              "      <td>-0.427943</td>\n",
              "      <td>-0.173069</td>\n",
              "      <td>-0.084662</td>\n",
              "      <td>-0.278117</td>\n",
              "      <td>-0.395181</td>\n",
              "      <td>-1.057727</td>\n",
              "      <td>-0.720922</td>\n",
              "      <td>0.615438</td>\n",
              "      <td>-0.713997</td>\n",
              "      <td>-0.271794</td>\n",
              "      <td>-1.358972</td>\n",
              "      <td>-0.427943</td>\n",
              "      <td>-0.084662</td>\n",
              "    </tr>\n",
              "    <tr>\n",
              "      <th>82543</th>\n",
              "      <td>0.922894</td>\n",
              "      <td>-0.434878</td>\n",
              "      <td>-1.458139</td>\n",
              "      <td>-0.275106</td>\n",
              "      <td>-0.273747</td>\n",
              "      <td>-1.212671</td>\n",
              "      <td>-0.427943</td>\n",
              "      <td>-0.173069</td>\n",
              "      <td>-0.084662</td>\n",
              "      <td>-0.278117</td>\n",
              "      <td>-0.395181</td>\n",
              "      <td>-1.142275</td>\n",
              "      <td>0.876250</td>\n",
              "      <td>-0.885307</td>\n",
              "      <td>0.350704</td>\n",
              "      <td>-0.271794</td>\n",
              "      <td>-1.358972</td>\n",
              "      <td>-0.427943</td>\n",
              "      <td>-0.084662</td>\n",
              "    </tr>\n",
              "    <tr>\n",
              "      <th>82544</th>\n",
              "      <td>0.531819</td>\n",
              "      <td>-1.189174</td>\n",
              "      <td>0.334451</td>\n",
              "      <td>-0.275106</td>\n",
              "      <td>0.123046</td>\n",
              "      <td>0.865783</td>\n",
              "      <td>-0.427943</td>\n",
              "      <td>-0.173069</td>\n",
              "      <td>-0.084662</td>\n",
              "      <td>-0.278117</td>\n",
              "      <td>-0.395181</td>\n",
              "      <td>-0.889572</td>\n",
              "      <td>1.021155</td>\n",
              "      <td>0.615438</td>\n",
              "      <td>-0.706618</td>\n",
              "      <td>-0.271794</td>\n",
              "      <td>-1.358972</td>\n",
              "      <td>-0.427943</td>\n",
              "      <td>-0.084662</td>\n",
              "    </tr>\n",
              "  </tbody>\n",
              "</table>\n",
              "<p>82545 rows × 19 columns</p>\n",
              "</div>\n",
              "      <button class=\"colab-df-convert\" onclick=\"convertToInteractive('df-2ed98a77-1a4c-4355-9a85-520ff6e41da4')\"\n",
              "              title=\"Convert this dataframe to an interactive table.\"\n",
              "              style=\"display:none;\">\n",
              "        \n",
              "  <svg xmlns=\"http://www.w3.org/2000/svg\" height=\"24px\"viewBox=\"0 0 24 24\"\n",
              "       width=\"24px\">\n",
              "    <path d=\"M0 0h24v24H0V0z\" fill=\"none\"/>\n",
              "    <path d=\"M18.56 5.44l.94 2.06.94-2.06 2.06-.94-2.06-.94-.94-2.06-.94 2.06-2.06.94zm-11 1L8.5 8.5l.94-2.06 2.06-.94-2.06-.94L8.5 2.5l-.94 2.06-2.06.94zm10 10l.94 2.06.94-2.06 2.06-.94-2.06-.94-.94-2.06-.94 2.06-2.06.94z\"/><path d=\"M17.41 7.96l-1.37-1.37c-.4-.4-.92-.59-1.43-.59-.52 0-1.04.2-1.43.59L10.3 9.45l-7.72 7.72c-.78.78-.78 2.05 0 2.83L4 21.41c.39.39.9.59 1.41.59.51 0 1.02-.2 1.41-.59l7.78-7.78 2.81-2.81c.8-.78.8-2.07 0-2.86zM5.41 20L4 18.59l7.72-7.72 1.47 1.35L5.41 20z\"/>\n",
              "  </svg>\n",
              "      </button>\n",
              "      \n",
              "  <style>\n",
              "    .colab-df-container {\n",
              "      display:flex;\n",
              "      flex-wrap:wrap;\n",
              "      gap: 12px;\n",
              "    }\n",
              "\n",
              "    .colab-df-convert {\n",
              "      background-color: #E8F0FE;\n",
              "      border: none;\n",
              "      border-radius: 50%;\n",
              "      cursor: pointer;\n",
              "      display: none;\n",
              "      fill: #1967D2;\n",
              "      height: 32px;\n",
              "      padding: 0 0 0 0;\n",
              "      width: 32px;\n",
              "    }\n",
              "\n",
              "    .colab-df-convert:hover {\n",
              "      background-color: #E2EBFA;\n",
              "      box-shadow: 0px 1px 2px rgba(60, 64, 67, 0.3), 0px 1px 3px 1px rgba(60, 64, 67, 0.15);\n",
              "      fill: #174EA6;\n",
              "    }\n",
              "\n",
              "    [theme=dark] .colab-df-convert {\n",
              "      background-color: #3B4455;\n",
              "      fill: #D2E3FC;\n",
              "    }\n",
              "\n",
              "    [theme=dark] .colab-df-convert:hover {\n",
              "      background-color: #434B5C;\n",
              "      box-shadow: 0px 1px 3px 1px rgba(0, 0, 0, 0.15);\n",
              "      filter: drop-shadow(0px 1px 2px rgba(0, 0, 0, 0.3));\n",
              "      fill: #FFFFFF;\n",
              "    }\n",
              "  </style>\n",
              "\n",
              "      <script>\n",
              "        const buttonEl =\n",
              "          document.querySelector('#df-2ed98a77-1a4c-4355-9a85-520ff6e41da4 button.colab-df-convert');\n",
              "        buttonEl.style.display =\n",
              "          google.colab.kernel.accessAllowed ? 'block' : 'none';\n",
              "\n",
              "        async function convertToInteractive(key) {\n",
              "          const element = document.querySelector('#df-2ed98a77-1a4c-4355-9a85-520ff6e41da4');\n",
              "          const dataTable =\n",
              "            await google.colab.kernel.invokeFunction('convertToInteractive',\n",
              "                                                     [key], {});\n",
              "          if (!dataTable) return;\n",
              "\n",
              "          const docLinkHtml = 'Like what you see? Visit the ' +\n",
              "            '<a target=\"_blank\" href=https://colab.research.google.com/notebooks/data_table.ipynb>data table notebook</a>'\n",
              "            + ' to learn more about interactive tables.';\n",
              "          element.innerHTML = '';\n",
              "          dataTable['output_type'] = 'display_data';\n",
              "          await google.colab.output.renderOutput(dataTable, element);\n",
              "          const docLink = document.createElement('div');\n",
              "          docLink.innerHTML = docLinkHtml;\n",
              "          element.appendChild(docLink);\n",
              "        }\n",
              "      </script>\n",
              "    </div>\n",
              "  </div>\n",
              "  "
            ]
          },
          "metadata": {},
          "execution_count": 32
        }
      ]
    },
    {
      "cell_type": "code",
      "source": [
        "Id = test['Store'].astype('string') + '_' + test['Dept'].astype('string') + '_' + test['Date'].astype('string')\n",
        "Id"
      ],
      "metadata": {
        "colab": {
          "base_uri": "https://localhost:8080/"
        },
        "id": "VfjSnc11WFml",
        "outputId": "67ec6429-a8e2-4e86-cbba-c617287cb1aa"
      },
      "execution_count": 33,
      "outputs": [
        {
          "output_type": "execute_result",
          "data": {
            "text/plain": [
              "0           1_1_2012-11-02\n",
              "1           1_1_2012-11-09\n",
              "2           1_1_2012-11-16\n",
              "3           1_1_2012-11-23\n",
              "4           1_1_2012-11-30\n",
              "                ...       \n",
              "115059    45_98_2013-06-28\n",
              "115060    45_98_2013-07-05\n",
              "115061    45_98_2013-07-12\n",
              "115062    45_98_2013-07-19\n",
              "115063    45_98_2013-07-26\n",
              "Length: 115064, dtype: string"
            ]
          },
          "metadata": {},
          "execution_count": 33
        }
      ]
    },
    {
      "cell_type": "code",
      "source": [
        "y_pred = grid.predict(submission_test)\n",
        "y_pred"
      ],
      "metadata": {
        "colab": {
          "base_uri": "https://localhost:8080/"
        },
        "id": "w23BkcOTtM-r",
        "outputId": "056d0221-ccc5-42e2-c59d-a22f418e7986"
      },
      "execution_count": 34,
      "outputs": [
        {
          "output_type": "stream",
          "name": "stderr",
          "text": [
            "/usr/local/lib/python3.8/dist-packages/sklearn/base.py:443: UserWarning: X has feature names, but RandomForestRegressor was fitted without feature names\n",
            "  warnings.warn(\n"
          ]
        },
        {
          "output_type": "execute_result",
          "data": {
            "text/plain": [
              "array([28.99083731, 35.98872723, 24.63227417, ..., 25.60960189,\n",
              "       23.71982355,  5.71973377])"
            ]
          },
          "metadata": {},
          "execution_count": 34
        }
      ]
    },
    {
      "cell_type": "code",
      "source": [
        "weekly_sales = np.round(y_pred**3, 2)\n",
        "weekly_sales"
      ],
      "metadata": {
        "colab": {
          "base_uri": "https://localhost:8080/"
        },
        "id": "lRRrnt2aWp5_",
        "outputId": "37686e76-0ec6-4d6e-e711-6464fbce987a"
      },
      "execution_count": 35,
      "outputs": [
        {
          "output_type": "execute_result",
          "data": {
            "text/plain": [
              "array([24365.89, 46612.19, 14945.61, ..., 16796.1 , 13345.49,   187.12])"
            ]
          },
          "metadata": {},
          "execution_count": 35
        }
      ]
    },
    {
      "cell_type": "code",
      "source": [
        "sub = {'Id':Id, 'Weekly_Sales':weekly_sales}\n",
        "RFR_submission = pd.DataFrame(data=sub)\n",
        "RFR_submission"
      ],
      "metadata": {
        "colab": {
          "base_uri": "https://localhost:8080/",
          "height": 424
        },
        "id": "YQQAE8Y-W45G",
        "outputId": "e2fa75d6-f591-4719-d17c-b5bd180df3c6"
      },
      "execution_count": 36,
      "outputs": [
        {
          "output_type": "execute_result",
          "data": {
            "text/plain": [
              "                      Id  Weekly_Sales\n",
              "0         1_1_2012-11-02      24365.89\n",
              "1         1_1_2012-11-09      46612.19\n",
              "2         1_1_2012-11-16      14945.61\n",
              "3         1_1_2012-11-23      28164.47\n",
              "4         1_1_2012-11-30      21127.87\n",
              "...                  ...           ...\n",
              "115059  45_98_2013-06-28        906.76\n",
              "115060  45_98_2013-07-05        891.93\n",
              "115061  45_98_2013-07-12      16796.10\n",
              "115062  45_98_2013-07-19      13345.49\n",
              "115063  45_98_2013-07-26        187.12\n",
              "\n",
              "[115064 rows x 2 columns]"
            ],
            "text/html": [
              "\n",
              "  <div id=\"df-52b30d04-202c-433b-92bf-f2da3d8d4aa8\">\n",
              "    <div class=\"colab-df-container\">\n",
              "      <div>\n",
              "<style scoped>\n",
              "    .dataframe tbody tr th:only-of-type {\n",
              "        vertical-align: middle;\n",
              "    }\n",
              "\n",
              "    .dataframe tbody tr th {\n",
              "        vertical-align: top;\n",
              "    }\n",
              "\n",
              "    .dataframe thead th {\n",
              "        text-align: right;\n",
              "    }\n",
              "</style>\n",
              "<table border=\"1\" class=\"dataframe\">\n",
              "  <thead>\n",
              "    <tr style=\"text-align: right;\">\n",
              "      <th></th>\n",
              "      <th>Id</th>\n",
              "      <th>Weekly_Sales</th>\n",
              "    </tr>\n",
              "  </thead>\n",
              "  <tbody>\n",
              "    <tr>\n",
              "      <th>0</th>\n",
              "      <td>1_1_2012-11-02</td>\n",
              "      <td>24365.89</td>\n",
              "    </tr>\n",
              "    <tr>\n",
              "      <th>1</th>\n",
              "      <td>1_1_2012-11-09</td>\n",
              "      <td>46612.19</td>\n",
              "    </tr>\n",
              "    <tr>\n",
              "      <th>2</th>\n",
              "      <td>1_1_2012-11-16</td>\n",
              "      <td>14945.61</td>\n",
              "    </tr>\n",
              "    <tr>\n",
              "      <th>3</th>\n",
              "      <td>1_1_2012-11-23</td>\n",
              "      <td>28164.47</td>\n",
              "    </tr>\n",
              "    <tr>\n",
              "      <th>4</th>\n",
              "      <td>1_1_2012-11-30</td>\n",
              "      <td>21127.87</td>\n",
              "    </tr>\n",
              "    <tr>\n",
              "      <th>...</th>\n",
              "      <td>...</td>\n",
              "      <td>...</td>\n",
              "    </tr>\n",
              "    <tr>\n",
              "      <th>115059</th>\n",
              "      <td>45_98_2013-06-28</td>\n",
              "      <td>906.76</td>\n",
              "    </tr>\n",
              "    <tr>\n",
              "      <th>115060</th>\n",
              "      <td>45_98_2013-07-05</td>\n",
              "      <td>891.93</td>\n",
              "    </tr>\n",
              "    <tr>\n",
              "      <th>115061</th>\n",
              "      <td>45_98_2013-07-12</td>\n",
              "      <td>16796.10</td>\n",
              "    </tr>\n",
              "    <tr>\n",
              "      <th>115062</th>\n",
              "      <td>45_98_2013-07-19</td>\n",
              "      <td>13345.49</td>\n",
              "    </tr>\n",
              "    <tr>\n",
              "      <th>115063</th>\n",
              "      <td>45_98_2013-07-26</td>\n",
              "      <td>187.12</td>\n",
              "    </tr>\n",
              "  </tbody>\n",
              "</table>\n",
              "<p>115064 rows × 2 columns</p>\n",
              "</div>\n",
              "      <button class=\"colab-df-convert\" onclick=\"convertToInteractive('df-52b30d04-202c-433b-92bf-f2da3d8d4aa8')\"\n",
              "              title=\"Convert this dataframe to an interactive table.\"\n",
              "              style=\"display:none;\">\n",
              "        \n",
              "  <svg xmlns=\"http://www.w3.org/2000/svg\" height=\"24px\"viewBox=\"0 0 24 24\"\n",
              "       width=\"24px\">\n",
              "    <path d=\"M0 0h24v24H0V0z\" fill=\"none\"/>\n",
              "    <path d=\"M18.56 5.44l.94 2.06.94-2.06 2.06-.94-2.06-.94-.94-2.06-.94 2.06-2.06.94zm-11 1L8.5 8.5l.94-2.06 2.06-.94-2.06-.94L8.5 2.5l-.94 2.06-2.06.94zm10 10l.94 2.06.94-2.06 2.06-.94-2.06-.94-.94-2.06-.94 2.06-2.06.94z\"/><path d=\"M17.41 7.96l-1.37-1.37c-.4-.4-.92-.59-1.43-.59-.52 0-1.04.2-1.43.59L10.3 9.45l-7.72 7.72c-.78.78-.78 2.05 0 2.83L4 21.41c.39.39.9.59 1.41.59.51 0 1.02-.2 1.41-.59l7.78-7.78 2.81-2.81c.8-.78.8-2.07 0-2.86zM5.41 20L4 18.59l7.72-7.72 1.47 1.35L5.41 20z\"/>\n",
              "  </svg>\n",
              "      </button>\n",
              "      \n",
              "  <style>\n",
              "    .colab-df-container {\n",
              "      display:flex;\n",
              "      flex-wrap:wrap;\n",
              "      gap: 12px;\n",
              "    }\n",
              "\n",
              "    .colab-df-convert {\n",
              "      background-color: #E8F0FE;\n",
              "      border: none;\n",
              "      border-radius: 50%;\n",
              "      cursor: pointer;\n",
              "      display: none;\n",
              "      fill: #1967D2;\n",
              "      height: 32px;\n",
              "      padding: 0 0 0 0;\n",
              "      width: 32px;\n",
              "    }\n",
              "\n",
              "    .colab-df-convert:hover {\n",
              "      background-color: #E2EBFA;\n",
              "      box-shadow: 0px 1px 2px rgba(60, 64, 67, 0.3), 0px 1px 3px 1px rgba(60, 64, 67, 0.15);\n",
              "      fill: #174EA6;\n",
              "    }\n",
              "\n",
              "    [theme=dark] .colab-df-convert {\n",
              "      background-color: #3B4455;\n",
              "      fill: #D2E3FC;\n",
              "    }\n",
              "\n",
              "    [theme=dark] .colab-df-convert:hover {\n",
              "      background-color: #434B5C;\n",
              "      box-shadow: 0px 1px 3px 1px rgba(0, 0, 0, 0.15);\n",
              "      filter: drop-shadow(0px 1px 2px rgba(0, 0, 0, 0.3));\n",
              "      fill: #FFFFFF;\n",
              "    }\n",
              "  </style>\n",
              "\n",
              "      <script>\n",
              "        const buttonEl =\n",
              "          document.querySelector('#df-52b30d04-202c-433b-92bf-f2da3d8d4aa8 button.colab-df-convert');\n",
              "        buttonEl.style.display =\n",
              "          google.colab.kernel.accessAllowed ? 'block' : 'none';\n",
              "\n",
              "        async function convertToInteractive(key) {\n",
              "          const element = document.querySelector('#df-52b30d04-202c-433b-92bf-f2da3d8d4aa8');\n",
              "          const dataTable =\n",
              "            await google.colab.kernel.invokeFunction('convertToInteractive',\n",
              "                                                     [key], {});\n",
              "          if (!dataTable) return;\n",
              "\n",
              "          const docLinkHtml = 'Like what you see? Visit the ' +\n",
              "            '<a target=\"_blank\" href=https://colab.research.google.com/notebooks/data_table.ipynb>data table notebook</a>'\n",
              "            + ' to learn more about interactive tables.';\n",
              "          element.innerHTML = '';\n",
              "          dataTable['output_type'] = 'display_data';\n",
              "          await google.colab.output.renderOutput(dataTable, element);\n",
              "          const docLink = document.createElement('div');\n",
              "          docLink.innerHTML = docLinkHtml;\n",
              "          element.appendChild(docLink);\n",
              "        }\n",
              "      </script>\n",
              "    </div>\n",
              "  </div>\n",
              "  "
            ]
          },
          "metadata": {},
          "execution_count": 36
        }
      ]
    },
    {
      "cell_type": "code",
      "source": [
        "from google.colab import drive\n",
        "drive.mount('drive')\n",
        "RFR_submission.to_csv('RFR_submission2.csv')\n",
        "!cp RFR_submission2.csv \"drive/My Drive/\""
      ],
      "metadata": {
        "colab": {
          "base_uri": "https://localhost:8080/"
        },
        "id": "Asts_DjLrC8h",
        "outputId": "a5e34f05-ec91-464f-cb56-e095f393f3f9"
      },
      "execution_count": null,
      "outputs": [
        {
          "output_type": "stream",
          "name": "stdout",
          "text": [
            "Drive already mounted at drive; to attempt to forcibly remount, call drive.mount(\"drive\", force_remount=True).\n"
          ]
        }
      ]
    }
  ]
}