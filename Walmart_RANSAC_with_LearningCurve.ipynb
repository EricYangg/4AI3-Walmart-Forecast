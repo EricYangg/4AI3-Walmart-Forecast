{
  "nbformat": 4,
  "nbformat_minor": 0,
  "metadata": {
    "colab": {
      "provenance": []
    },
    "kernelspec": {
      "name": "python3",
      "display_name": "Python 3"
    },
    "language_info": {
      "name": "python"
    }
  },
  "cells": [
    {
      "cell_type": "code",
      "execution_count": 5,
      "metadata": {
        "id": "-2NXWHtX0xoX"
      },
      "outputs": [],
      "source": [
        "from sklearn.linear_model import RANSACRegressor\n",
        "import pandas as pd\n",
        "from sklearn.preprocessing import StandardScaler\n",
        "from sklearn.pipeline import make_pipeline\n",
        "from sklearn.model_selection import GridSearchCV\n",
        "from sklearn.metrics import classification_report, confusion_matrix\n",
        "import numpy as np\n",
        "import matplotlib.pyplot as plt"
      ]
    },
    {
      "cell_type": "code",
      "source": [
        "url = 'https://media.githubusercontent.com/media/EricYangg/4AI3-Walmart-Forecast/main/Processed%20Dataset/x_train.csv'\n",
        "x_train = pd.read_csv(url)\n",
        "url = 'https://media.githubusercontent.com/media/EricYangg/4AI3-Walmart-Forecast/main/Processed%20Dataset/y_train.csv'\n",
        "y_train = pd.read_csv(url)\n",
        "url = 'https://media.githubusercontent.com/media/EricYangg/4AI3-Walmart-Forecast/main/Processed%20Dataset/x_test.csv'\n",
        "x_test = pd.read_csv(url)\n",
        "url = 'https://media.githubusercontent.com/media/EricYangg/4AI3-Walmart-Forecast/main/Processed%20Dataset/y_test.csv'\n",
        "y_test = pd.read_csv(url)\n",
        "url = 'https://media.githubusercontent.com/media/EricYangg/4AI3-Walmart-Forecast/main/Datasets/test.csv'\n",
        "test = pd.read_csv(url)\n",
        "url = 'https://media.githubusercontent.com/media/EricYangg/4AI3-Walmart-Forecast/main/Processed%20Dataset/Submission%20Test.csv'\n",
        "submission_test = pd.read_csv(url)"
      ],
      "metadata": {
        "id": "_Rl0uI-y13tz"
      },
      "execution_count": 2,
      "outputs": []
    },
    {
      "cell_type": "code",
      "source": [
        "scaler = StandardScaler()\n",
        "X_train_scaled = scaler.fit_transform(x_train)\n",
        "X_test_scaled = scaler.fit_transform(x_test)"
      ],
      "metadata": {
        "id": "vKAOvhMz15cM"
      },
      "execution_count": 3,
      "outputs": []
    },
    {
      "cell_type": "code",
      "source": [
        "param_grid = {'min_samples': [20000, 50000, 100000], 'loss': ['squared_error', 'absolute_error']}\n",
        "grid = GridSearchCV(RANSACRegressor(), param_grid, refit=True, verbose=2)\n",
        "grid.fit(x_train.to_numpy(), y_train.to_numpy().ravel())\n",
        "print(grid.best_estimator_)\n",
        "grid_predictions = grid.predict(x_test.to_numpy())"
      ],
      "metadata": {
        "colab": {
          "base_uri": "https://localhost:8080/"
        },
        "id": "9bLJkY9Y19AD",
        "outputId": "4142c91f-ba03-41a3-96e7-7490a197d083"
      },
      "execution_count": 6,
      "outputs": [
        {
          "output_type": "stream",
          "name": "stdout",
          "text": [
            "Fitting 5 folds for each of 6 candidates, totalling 30 fits\n",
            "[CV] END ..............loss=squared_error, min_samples=20000; total time=   7.6s\n",
            "[CV] END ..............loss=squared_error, min_samples=20000; total time=   7.3s\n",
            "[CV] END ..............loss=squared_error, min_samples=20000; total time=   7.7s\n",
            "[CV] END ..............loss=squared_error, min_samples=20000; total time=   7.6s\n",
            "[CV] END ..............loss=squared_error, min_samples=20000; total time=   7.8s\n",
            "[CV] END ..............loss=squared_error, min_samples=50000; total time=  11.2s\n",
            "[CV] END ..............loss=squared_error, min_samples=50000; total time=  11.6s\n",
            "[CV] END ..............loss=squared_error, min_samples=50000; total time=  15.1s\n",
            "[CV] END ..............loss=squared_error, min_samples=50000; total time=  11.0s\n",
            "[CV] END ..............loss=squared_error, min_samples=50000; total time=  12.4s\n",
            "[CV] END .............loss=squared_error, min_samples=100000; total time=  16.9s\n",
            "[CV] END .............loss=squared_error, min_samples=100000; total time=  15.2s\n",
            "[CV] END .............loss=squared_error, min_samples=100000; total time=  14.8s\n",
            "[CV] END .............loss=squared_error, min_samples=100000; total time=  15.4s\n",
            "[CV] END .............loss=squared_error, min_samples=100000; total time=  15.3s\n",
            "[CV] END .............loss=absolute_error, min_samples=20000; total time=   7.1s\n",
            "[CV] END .............loss=absolute_error, min_samples=20000; total time=   6.8s\n",
            "[CV] END .............loss=absolute_error, min_samples=20000; total time=   7.0s\n",
            "[CV] END .............loss=absolute_error, min_samples=20000; total time=   6.6s\n",
            "[CV] END .............loss=absolute_error, min_samples=20000; total time=   6.4s\n",
            "[CV] END .............loss=absolute_error, min_samples=50000; total time=  10.2s\n",
            "[CV] END .............loss=absolute_error, min_samples=50000; total time=  10.1s\n",
            "[CV] END .............loss=absolute_error, min_samples=50000; total time=  12.8s\n",
            "[CV] END .............loss=absolute_error, min_samples=50000; total time=   9.9s\n",
            "[CV] END .............loss=absolute_error, min_samples=50000; total time=  10.0s\n",
            "[CV] END ............loss=absolute_error, min_samples=100000; total time=  15.7s\n",
            "[CV] END ............loss=absolute_error, min_samples=100000; total time=  16.1s\n",
            "[CV] END ............loss=absolute_error, min_samples=100000; total time=  15.6s\n",
            "[CV] END ............loss=absolute_error, min_samples=100000; total time=  17.4s\n",
            "[CV] END ............loss=absolute_error, min_samples=100000; total time=  19.5s\n",
            "RANSACRegressor(loss='squared_error', min_samples=100000)\n"
          ]
        }
      ]
    },
    {
      "cell_type": "code",
      "source": [
        "Id = test['Store'].astype('string') + '_' + test['Dept'].astype('string') + '_' + test['Date'].astype('string')\n",
        "y_pred = grid.predict(submission_test)\n",
        "weekly_sales = np.round(y_pred**3, 2)"
      ],
      "metadata": {
        "colab": {
          "base_uri": "https://localhost:8080/"
        },
        "id": "EdUsAQEg3T41",
        "outputId": "20b1a830-ed74-47cf-cfa5-9740df151185"
      },
      "execution_count": 33,
      "outputs": [
        {
          "output_type": "stream",
          "name": "stderr",
          "text": [
            "/usr/local/lib/python3.8/dist-packages/sklearn/base.py:443: UserWarning: X has feature names, but RANSACRegressor was fitted without feature names\n",
            "  warnings.warn(\n"
          ]
        }
      ]
    },
    {
      "cell_type": "code",
      "source": [
        "sub = {'Id':Id, 'Weekly_Sales':weekly_sales}\n",
        "RANSAC_submission = pd.DataFrame(data=sub)\n",
        "RANSAC_submission"
      ],
      "metadata": {
        "colab": {
          "base_uri": "https://localhost:8080/",
          "height": 424
        },
        "id": "usqIk8sE3ZDQ",
        "outputId": "15d61196-f7ca-4d24-c1f4-3adfd6b74234"
      },
      "execution_count": 34,
      "outputs": [
        {
          "output_type": "execute_result",
          "data": {
            "text/plain": [
              "                      Id  Weekly_Sales\n",
              "0         1_1_2012-11-02      11939.03\n",
              "1         1_1_2012-11-09      11958.16\n",
              "2         1_1_2012-11-16      11977.32\n",
              "3         1_1_2012-11-23      11996.50\n",
              "4         1_1_2012-11-30      12015.69\n",
              "...                  ...           ...\n",
              "115059  45_98_2013-06-28       4075.06\n",
              "115060  45_98_2013-07-05       4084.41\n",
              "115061  45_98_2013-07-12       4093.77\n",
              "115062  45_98_2013-07-19       4112.54\n",
              "115063  45_98_2013-07-26       4121.95\n",
              "\n",
              "[115064 rows x 2 columns]"
            ],
            "text/html": [
              "\n",
              "  <div id=\"df-da98bed3-fd6d-4957-af3a-3ee7dc0a6d9a\">\n",
              "    <div class=\"colab-df-container\">\n",
              "      <div>\n",
              "<style scoped>\n",
              "    .dataframe tbody tr th:only-of-type {\n",
              "        vertical-align: middle;\n",
              "    }\n",
              "\n",
              "    .dataframe tbody tr th {\n",
              "        vertical-align: top;\n",
              "    }\n",
              "\n",
              "    .dataframe thead th {\n",
              "        text-align: right;\n",
              "    }\n",
              "</style>\n",
              "<table border=\"1\" class=\"dataframe\">\n",
              "  <thead>\n",
              "    <tr style=\"text-align: right;\">\n",
              "      <th></th>\n",
              "      <th>Id</th>\n",
              "      <th>Weekly_Sales</th>\n",
              "    </tr>\n",
              "  </thead>\n",
              "  <tbody>\n",
              "    <tr>\n",
              "      <th>0</th>\n",
              "      <td>1_1_2012-11-02</td>\n",
              "      <td>11939.03</td>\n",
              "    </tr>\n",
              "    <tr>\n",
              "      <th>1</th>\n",
              "      <td>1_1_2012-11-09</td>\n",
              "      <td>11958.16</td>\n",
              "    </tr>\n",
              "    <tr>\n",
              "      <th>2</th>\n",
              "      <td>1_1_2012-11-16</td>\n",
              "      <td>11977.32</td>\n",
              "    </tr>\n",
              "    <tr>\n",
              "      <th>3</th>\n",
              "      <td>1_1_2012-11-23</td>\n",
              "      <td>11996.50</td>\n",
              "    </tr>\n",
              "    <tr>\n",
              "      <th>4</th>\n",
              "      <td>1_1_2012-11-30</td>\n",
              "      <td>12015.69</td>\n",
              "    </tr>\n",
              "    <tr>\n",
              "      <th>...</th>\n",
              "      <td>...</td>\n",
              "      <td>...</td>\n",
              "    </tr>\n",
              "    <tr>\n",
              "      <th>115059</th>\n",
              "      <td>45_98_2013-06-28</td>\n",
              "      <td>4075.06</td>\n",
              "    </tr>\n",
              "    <tr>\n",
              "      <th>115060</th>\n",
              "      <td>45_98_2013-07-05</td>\n",
              "      <td>4084.41</td>\n",
              "    </tr>\n",
              "    <tr>\n",
              "      <th>115061</th>\n",
              "      <td>45_98_2013-07-12</td>\n",
              "      <td>4093.77</td>\n",
              "    </tr>\n",
              "    <tr>\n",
              "      <th>115062</th>\n",
              "      <td>45_98_2013-07-19</td>\n",
              "      <td>4112.54</td>\n",
              "    </tr>\n",
              "    <tr>\n",
              "      <th>115063</th>\n",
              "      <td>45_98_2013-07-26</td>\n",
              "      <td>4121.95</td>\n",
              "    </tr>\n",
              "  </tbody>\n",
              "</table>\n",
              "<p>115064 rows × 2 columns</p>\n",
              "</div>\n",
              "      <button class=\"colab-df-convert\" onclick=\"convertToInteractive('df-da98bed3-fd6d-4957-af3a-3ee7dc0a6d9a')\"\n",
              "              title=\"Convert this dataframe to an interactive table.\"\n",
              "              style=\"display:none;\">\n",
              "        \n",
              "  <svg xmlns=\"http://www.w3.org/2000/svg\" height=\"24px\"viewBox=\"0 0 24 24\"\n",
              "       width=\"24px\">\n",
              "    <path d=\"M0 0h24v24H0V0z\" fill=\"none\"/>\n",
              "    <path d=\"M18.56 5.44l.94 2.06.94-2.06 2.06-.94-2.06-.94-.94-2.06-.94 2.06-2.06.94zm-11 1L8.5 8.5l.94-2.06 2.06-.94-2.06-.94L8.5 2.5l-.94 2.06-2.06.94zm10 10l.94 2.06.94-2.06 2.06-.94-2.06-.94-.94-2.06-.94 2.06-2.06.94z\"/><path d=\"M17.41 7.96l-1.37-1.37c-.4-.4-.92-.59-1.43-.59-.52 0-1.04.2-1.43.59L10.3 9.45l-7.72 7.72c-.78.78-.78 2.05 0 2.83L4 21.41c.39.39.9.59 1.41.59.51 0 1.02-.2 1.41-.59l7.78-7.78 2.81-2.81c.8-.78.8-2.07 0-2.86zM5.41 20L4 18.59l7.72-7.72 1.47 1.35L5.41 20z\"/>\n",
              "  </svg>\n",
              "      </button>\n",
              "      \n",
              "  <style>\n",
              "    .colab-df-container {\n",
              "      display:flex;\n",
              "      flex-wrap:wrap;\n",
              "      gap: 12px;\n",
              "    }\n",
              "\n",
              "    .colab-df-convert {\n",
              "      background-color: #E8F0FE;\n",
              "      border: none;\n",
              "      border-radius: 50%;\n",
              "      cursor: pointer;\n",
              "      display: none;\n",
              "      fill: #1967D2;\n",
              "      height: 32px;\n",
              "      padding: 0 0 0 0;\n",
              "      width: 32px;\n",
              "    }\n",
              "\n",
              "    .colab-df-convert:hover {\n",
              "      background-color: #E2EBFA;\n",
              "      box-shadow: 0px 1px 2px rgba(60, 64, 67, 0.3), 0px 1px 3px 1px rgba(60, 64, 67, 0.15);\n",
              "      fill: #174EA6;\n",
              "    }\n",
              "\n",
              "    [theme=dark] .colab-df-convert {\n",
              "      background-color: #3B4455;\n",
              "      fill: #D2E3FC;\n",
              "    }\n",
              "\n",
              "    [theme=dark] .colab-df-convert:hover {\n",
              "      background-color: #434B5C;\n",
              "      box-shadow: 0px 1px 3px 1px rgba(0, 0, 0, 0.15);\n",
              "      filter: drop-shadow(0px 1px 2px rgba(0, 0, 0, 0.3));\n",
              "      fill: #FFFFFF;\n",
              "    }\n",
              "  </style>\n",
              "\n",
              "      <script>\n",
              "        const buttonEl =\n",
              "          document.querySelector('#df-da98bed3-fd6d-4957-af3a-3ee7dc0a6d9a button.colab-df-convert');\n",
              "        buttonEl.style.display =\n",
              "          google.colab.kernel.accessAllowed ? 'block' : 'none';\n",
              "\n",
              "        async function convertToInteractive(key) {\n",
              "          const element = document.querySelector('#df-da98bed3-fd6d-4957-af3a-3ee7dc0a6d9a');\n",
              "          const dataTable =\n",
              "            await google.colab.kernel.invokeFunction('convertToInteractive',\n",
              "                                                     [key], {});\n",
              "          if (!dataTable) return;\n",
              "\n",
              "          const docLinkHtml = 'Like what you see? Visit the ' +\n",
              "            '<a target=\"_blank\" href=https://colab.research.google.com/notebooks/data_table.ipynb>data table notebook</a>'\n",
              "            + ' to learn more about interactive tables.';\n",
              "          element.innerHTML = '';\n",
              "          dataTable['output_type'] = 'display_data';\n",
              "          await google.colab.output.renderOutput(dataTable, element);\n",
              "          const docLink = document.createElement('div');\n",
              "          docLink.innerHTML = docLinkHtml;\n",
              "          element.appendChild(docLink);\n",
              "        }\n",
              "      </script>\n",
              "    </div>\n",
              "  </div>\n",
              "  "
            ]
          },
          "metadata": {},
          "execution_count": 34
        }
      ]
    },
    {
      "cell_type": "code",
      "source": [
        "RSR = RANSACRegressor(loss='squared_error', min_samples=1000).fit(x_train,y_train)\n",
        "train_score = RSR.score(x_train, y_train)\n",
        "test_score = RSR.score(x_test, y_test)\n",
        "test_score"
      ],
      "metadata": {
        "id": "6PaSKNL_j2Dp",
        "colab": {
          "base_uri": "https://localhost:8080/"
        },
        "outputId": "1fc6ed2c-5559-46c7-83b1-eac0e5ac388f"
      },
      "execution_count": 109,
      "outputs": [
        {
          "output_type": "execute_result",
          "data": {
            "text/plain": [
              "0.01489715891557708"
            ]
          },
          "metadata": {},
          "execution_count": 109
        }
      ]
    },
    {
      "cell_type": "code",
      "source": [
        "reg = RANSACRegressor().fit(x_train,y_train)"
      ],
      "metadata": {
        "id": "OmaMX4hdHrIL"
      },
      "execution_count": 63,
      "outputs": []
    },
    {
      "cell_type": "code",
      "source": [
        "y_pred = RSR.predict(x_test)"
      ],
      "metadata": {
        "id": "E1YnlXfZIFIn"
      },
      "execution_count": 110,
      "outputs": []
    },
    {
      "cell_type": "code",
      "source": [
        "from sklearn.model_selection import learning_curve\n",
        "\n",
        "train_size = [1, 25, 50, 100, 500, 2500, 7500, 15000]\n",
        "train_sizes, train_scores, validation_scores = learning_curve(\n",
        "estimator = RSR,\n",
        "X = x_train,\n",
        "y = y_train, train_sizes = train_size, cv = 5,\n",
        "scoring = 'neg_mean_absolute_error')"
      ],
      "metadata": {
        "id": "dr4FnIUfF8dM"
      },
      "execution_count": 111,
      "outputs": []
    },
    {
      "cell_type": "code",
      "source": [
        "print('Training scores:\\n\\n', train_scores)\n",
        "print('\\n', '-' * 70) # separator to make the output easy to read\n",
        "print('\\nValidation scores:\\n\\n', validation_scores)"
      ],
      "metadata": {
        "colab": {
          "base_uri": "https://localhost:8080/"
        },
        "id": "sK4Ml-8lG8ek",
        "outputId": "7dd9a869-c4b6-49b6-e314-8ea5418df4b5"
      },
      "execution_count": 112,
      "outputs": [
        {
          "output_type": "stream",
          "name": "stdout",
          "text": [
            "Training scores:\n",
            "\n",
            " [[        nan         nan         nan         nan         nan]\n",
            " [        nan         nan         nan         nan         nan]\n",
            " [        nan         nan         nan         nan         nan]\n",
            " [        nan         nan         nan         nan         nan]\n",
            " [        nan         nan         nan         nan         nan]\n",
            " [-8.13447892 -8.09254407 -8.13867555 -8.11681902 -8.09656209]\n",
            " [-8.18982083 -8.09352905 -8.09592306 -8.12802629 -8.06993636]\n",
            " [-8.08649098 -8.01925172 -8.04467418 -8.04329328 -8.03348248]]\n",
            "\n",
            " ----------------------------------------------------------------------\n",
            "\n",
            "Validation scores:\n",
            "\n",
            " [[        nan         nan         nan         nan         nan]\n",
            " [        nan         nan         nan         nan         nan]\n",
            " [        nan         nan         nan         nan         nan]\n",
            " [        nan         nan         nan         nan         nan]\n",
            " [        nan         nan         nan         nan         nan]\n",
            " [-8.11301045 -8.11250214 -8.19861974 -8.06859375 -8.10363738]\n",
            " [-8.10110067 -8.08627893 -8.12351787 -8.11730294 -8.11119346]\n",
            " [-8.05853625 -8.06686966 -8.09191581 -8.1012217  -8.10119964]]\n"
          ]
        }
      ]
    },
    {
      "cell_type": "code",
      "source": [
        "train_scores_mean = train_scores.mean(axis = 1)\n",
        "validation_scores_mean = validation_scores.mean(axis=1)\n",
        "print('Mean training scores\\n\\n', pd.Series(train_scores_mean, index = train_sizes))\n",
        "print('\\n', '-' * 20) # separator\n",
        "print('\\nMean validation scores\\n\\n',pd.Series(validation_scores_mean, index = train_sizes))"
      ],
      "metadata": {
        "colab": {
          "base_uri": "https://localhost:8080/"
        },
        "id": "qrzkfhqhGSYl",
        "outputId": "9d703f26-645c-462b-c549-99e6fee34707"
      },
      "execution_count": 113,
      "outputs": [
        {
          "output_type": "stream",
          "name": "stdout",
          "text": [
            "Mean training scores\n",
            "\n",
            " 1             NaN\n",
            "25            NaN\n",
            "50            NaN\n",
            "100           NaN\n",
            "500           NaN\n",
            "2500    -8.115816\n",
            "7500    -8.115447\n",
            "15000   -8.045439\n",
            "dtype: float64\n",
            "\n",
            " --------------------\n",
            "\n",
            "Mean validation scores\n",
            "\n",
            " 1             NaN\n",
            "25            NaN\n",
            "50            NaN\n",
            "100           NaN\n",
            "500           NaN\n",
            "2500    -8.119273\n",
            "7500    -8.107879\n",
            "15000   -8.083949\n",
            "dtype: float64\n"
          ]
        }
      ]
    },
    {
      "cell_type": "code",
      "source": [
        "train_scores_mean = -train_scores.mean(axis = 1)\n",
        "validation_scores_mean = -validation_scores.mean(axis=1)\n",
        "print('Mean training scores\\n\\n', pd.Series(train_scores_mean, index = train_sizes))\n",
        "print('\\n', '-' * 20) # separator\n",
        "print('\\nMean validation scores\\n\\n',pd.Series(validation_scores_mean, index = train_sizes))\n"
      ],
      "metadata": {
        "colab": {
          "base_uri": "https://localhost:8080/"
        },
        "id": "y2-0AAiRGmct",
        "outputId": "61416aeb-fdeb-4dc8-ebb5-4efee262e4a1"
      },
      "execution_count": 114,
      "outputs": [
        {
          "output_type": "stream",
          "name": "stdout",
          "text": [
            "Mean training scores\n",
            "\n",
            " 1             NaN\n",
            "25            NaN\n",
            "50            NaN\n",
            "100           NaN\n",
            "500           NaN\n",
            "2500     8.115816\n",
            "7500     8.115447\n",
            "15000    8.045439\n",
            "dtype: float64\n",
            "\n",
            " --------------------\n",
            "\n",
            "Mean validation scores\n",
            "\n",
            " 1             NaN\n",
            "25            NaN\n",
            "50            NaN\n",
            "100           NaN\n",
            "500           NaN\n",
            "2500     8.119273\n",
            "7500     8.107879\n",
            "15000    8.083949\n",
            "dtype: float64\n"
          ]
        }
      ]
    },
    {
      "cell_type": "code",
      "source": [
        "from sklearn.metrics import mean_squared_error, r2_score\n",
        "from sklearn.metrics import mean_absolute_error\n",
        "# The mean squared error\n",
        "print(\"Mean squared error: %.2f\" % mean_squared_error(y_test, y_pred))\n",
        "# The coefficient of determination: 1 is perfect prediction\n",
        "print(\"Coefficient of determination: %.2f\" % r2_score(y_test, y_pred))\n",
        "print('Mean Abs Error:', mean_absolute_error(y_test, y_pred))"
      ],
      "metadata": {
        "colab": {
          "base_uri": "https://localhost:8080/"
        },
        "id": "cjX7PYkRH0he",
        "outputId": "b76aa28b-d5af-406f-d939-f30e48bda0ca"
      },
      "execution_count": 115,
      "outputs": [
        {
          "output_type": "stream",
          "name": "stdout",
          "text": [
            "Mean squared error: 97.24\n",
            "Coefficient of determination: 0.01\n",
            "Mean Abs Error: 8.058413186368151\n"
          ]
        }
      ]
    },
    {
      "cell_type": "code",
      "source": [
        "plt.style.use('seaborn')\n",
        "plt.plot(train_sizes, train_scores_mean, label = 'Training error')\n",
        "plt.plot(train_sizes, validation_scores_mean, label = 'Validation error')\n",
        "plt.ylabel('MAE', fontsize = 14)\n",
        "plt.xlabel('Training set size', fontsize = 14)\n",
        "plt.title('Learning curves for RANSAC regressor model', fontsize = 18, y = 1.03)\n",
        "plt.legend()"
      ],
      "metadata": {
        "colab": {
          "base_uri": "https://localhost:8080/",
          "height": 411
        },
        "id": "_Ri-wLqhH4LX",
        "outputId": "4ef2cd34-1172-491a-c7e7-5e284ee0561e"
      },
      "execution_count": 119,
      "outputs": [
        {
          "output_type": "execute_result",
          "data": {
            "text/plain": [
              "<matplotlib.legend.Legend at 0x7f0901482f70>"
            ]
          },
          "metadata": {},
          "execution_count": 119
        },
        {
          "output_type": "display_data",
          "data": {
            "text/plain": [
              "<Figure size 576x396 with 1 Axes>"
            ],
            "image/png": "[encoded data removed]"
          },
          "metadata": {}
        }
      ]
    },
    {
      "cell_type": "code",
      "source": [
        "from google.colab import drive\n",
        "drive.mount('drive')\n",
        "RANSAC_submission.to_csv('RANSAC_submission.csv')\n",
        "!cp RANSAC_submission.csv \"drive/My Drive/\""
      ],
      "metadata": {
        "colab": {
          "base_uri": "https://localhost:8080/"
        },
        "id": "OyigX5xI3hmp",
        "outputId": "7d98b6ab-9427-455b-a4e6-052bab4c9b5b"
      },
      "execution_count": null,
      "outputs": [
        {
          "output_type": "stream",
          "name": "stdout",
          "text": [
            "Drive already mounted at drive; to attempt to forcibly remount, call drive.mount(\"drive\", force_remount=True).\n"
          ]
        }
      ]
    }
  ]
}