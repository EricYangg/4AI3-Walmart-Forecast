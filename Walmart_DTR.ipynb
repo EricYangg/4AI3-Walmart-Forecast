{
  "nbformat": 4,
  "nbformat_minor": 0,
  "metadata": {
    "colab": {
      "provenance": []
    },
    "kernelspec": {
      "name": "python3",
      "display_name": "Python 3"
    },
    "language_info": {
      "name": "python"
    }
  },
  "cells": [
    {
      "cell_type": "code",
      "execution_count": 2,
      "metadata": {
        "id": "91N-iZrD-Gx3"
      },
      "outputs": [],
      "source": [
        "from sklearn.tree import DecisionTreeRegressor\n",
        "import pandas as pd\n",
        "from sklearn.preprocessing import StandardScaler\n",
        "from sklearn.model_selection import GridSearchCV\n",
        "from sklearn.metrics import classification_report, confusion_matrix\n",
        "import numpy as np"
      ]
    },
    {
      "cell_type": "code",
      "source": [
        "url = 'https://media.githubusercontent.com/media/EricYangg/4AI3-Walmart-Forecast/main/Processed%20Dataset%20Update/x_train.csv'\n",
        "x_train = pd.read_csv(url)\n",
        "url = 'https://media.githubusercontent.com/media/EricYangg/4AI3-Walmart-Forecast/main/Processed%20Dataset%20Update/y_train.csv'\n",
        "y_train = pd.read_csv(url)\n",
        "url = 'https://media.githubusercontent.com/media/EricYangg/4AI3-Walmart-Forecast/main/Processed%20Dataset%20Update/x_test.csv'\n",
        "x_test = pd.read_csv(url)\n",
        "url = 'https://media.githubusercontent.com/media/EricYangg/4AI3-Walmart-Forecast/main/Processed%20Dataset%20Update/y_test.csv'\n",
        "y_test = pd.read_csv(url)\n",
        "url = 'https://media.githubusercontent.com/media/EricYangg/4AI3-Walmart-Forecast/main/Datasets/test.csv'\n",
        "test = pd.read_csv(url)\n",
        "url = 'https://media.githubusercontent.com/media/EricYangg/4AI3-Walmart-Forecast/main/Processed%20Dataset%20Update/Submission%20Test.csv'\n",
        "submission_test = pd.read_csv(url)"
      ],
      "metadata": {
        "id": "3Xf9MNMP-Muh"
      },
      "execution_count": 5,
      "outputs": []
    },
    {
      "cell_type": "code",
      "source": [
        "scaler = StandardScaler()\n",
        "X_train_scaled = scaler.fit_transform(x_train)\n",
        "X_test_scaled = scaler.fit_transform(x_test)"
      ],
      "metadata": {
        "id": "MbvNNtL9-O2_"
      },
      "execution_count": 6,
      "outputs": []
    },
    {
      "cell_type": "code",
      "source": [
        "param_grid = {'splitter': ['best', 'random'], 'max_features': ['auto', 'sqrt', 'log2'], 'max_depth': [100, 200]}\n",
        "grid = GridSearchCV(DecisionTreeRegressor(), param_grid, refit=True, verbose=2)\n",
        "grid.fit(x_train.to_numpy(), y_train.to_numpy().ravel())\n",
        "print(grid.best_estimator_)\n",
        "grid_predictions = grid.predict(x_test.to_numpy())"
      ],
      "metadata": {
        "colab": {
          "base_uri": "https://localhost:8080/"
        },
        "id": "YG4PsrU_-Q80",
        "outputId": "e1e79894-137a-4517-90e2-b943cc145709"
      },
      "execution_count": 7,
      "outputs": [
        {
          "output_type": "stream",
          "name": "stdout",
          "text": [
            "Fitting 5 folds for each of 12 candidates, totalling 60 fits\n",
            "[CV] END ....max_depth=100, max_features=auto, splitter=best; total time=   4.8s\n",
            "[CV] END ....max_depth=100, max_features=auto, splitter=best; total time=   4.6s\n",
            "[CV] END ....max_depth=100, max_features=auto, splitter=best; total time=   4.6s\n",
            "[CV] END ....max_depth=100, max_features=auto, splitter=best; total time=   4.6s\n",
            "[CV] END ....max_depth=100, max_features=auto, splitter=best; total time=   4.6s\n",
            "[CV] END ..max_depth=100, max_features=auto, splitter=random; total time=   1.5s\n",
            "[CV] END ..max_depth=100, max_features=auto, splitter=random; total time=   1.6s\n",
            "[CV] END ..max_depth=100, max_features=auto, splitter=random; total time=   1.5s\n",
            "[CV] END ..max_depth=100, max_features=auto, splitter=random; total time=   1.6s\n",
            "[CV] END ..max_depth=100, max_features=auto, splitter=random; total time=   1.5s\n",
            "[CV] END ....max_depth=100, max_features=sqrt, splitter=best; total time=   0.9s\n",
            "[CV] END ....max_depth=100, max_features=sqrt, splitter=best; total time=   1.0s\n",
            "[CV] END ....max_depth=100, max_features=sqrt, splitter=best; total time=   1.0s\n",
            "[CV] END ....max_depth=100, max_features=sqrt, splitter=best; total time=   1.1s\n",
            "[CV] END ....max_depth=100, max_features=sqrt, splitter=best; total time=   1.1s\n",
            "[CV] END ..max_depth=100, max_features=sqrt, splitter=random; total time=   0.6s\n",
            "[CV] END ..max_depth=100, max_features=sqrt, splitter=random; total time=   0.6s\n",
            "[CV] END ..max_depth=100, max_features=sqrt, splitter=random; total time=   0.6s\n",
            "[CV] END ..max_depth=100, max_features=sqrt, splitter=random; total time=   0.6s\n",
            "[CV] END ..max_depth=100, max_features=sqrt, splitter=random; total time=   0.6s\n",
            "[CV] END ....max_depth=100, max_features=log2, splitter=best; total time=   1.1s\n",
            "[CV] END ....max_depth=100, max_features=log2, splitter=best; total time=   1.0s\n",
            "[CV] END ....max_depth=100, max_features=log2, splitter=best; total time=   1.0s\n",
            "[CV] END ....max_depth=100, max_features=log2, splitter=best; total time=   2.5s\n",
            "[CV] END ....max_depth=100, max_features=log2, splitter=best; total time=   1.9s\n",
            "[CV] END ..max_depth=100, max_features=log2, splitter=random; total time=   1.3s\n",
            "[CV] END ..max_depth=100, max_features=log2, splitter=random; total time=   1.2s\n",
            "[CV] END ..max_depth=100, max_features=log2, splitter=random; total time=   1.3s\n",
            "[CV] END ..max_depth=100, max_features=log2, splitter=random; total time=   0.9s\n",
            "[CV] END ..max_depth=100, max_features=log2, splitter=random; total time=   0.8s\n",
            "[CV] END ....max_depth=200, max_features=auto, splitter=best; total time=   6.6s\n",
            "[CV] END ....max_depth=200, max_features=auto, splitter=best; total time=   6.7s\n",
            "[CV] END ....max_depth=200, max_features=auto, splitter=best; total time=   5.6s\n",
            "[CV] END ....max_depth=200, max_features=auto, splitter=best; total time=   6.3s\n",
            "[CV] END ....max_depth=200, max_features=auto, splitter=best; total time=   5.4s\n",
            "[CV] END ..max_depth=200, max_features=auto, splitter=random; total time=   2.2s\n",
            "[CV] END ..max_depth=200, max_features=auto, splitter=random; total time=   2.7s\n",
            "[CV] END ..max_depth=200, max_features=auto, splitter=random; total time=   2.0s\n",
            "[CV] END ..max_depth=200, max_features=auto, splitter=random; total time=   1.5s\n",
            "[CV] END ..max_depth=200, max_features=auto, splitter=random; total time=   2.1s\n",
            "[CV] END ....max_depth=200, max_features=sqrt, splitter=best; total time=   1.5s\n",
            "[CV] END ....max_depth=200, max_features=sqrt, splitter=best; total time=   1.1s\n",
            "[CV] END ....max_depth=200, max_features=sqrt, splitter=best; total time=   0.9s\n",
            "[CV] END ....max_depth=200, max_features=sqrt, splitter=best; total time=   1.1s\n",
            "[CV] END ....max_depth=200, max_features=sqrt, splitter=best; total time=   1.0s\n",
            "[CV] END ..max_depth=200, max_features=sqrt, splitter=random; total time=   0.9s\n",
            "[CV] END ..max_depth=200, max_features=sqrt, splitter=random; total time=   0.9s\n",
            "[CV] END ..max_depth=200, max_features=sqrt, splitter=random; total time=   1.1s\n",
            "[CV] END ..max_depth=200, max_features=sqrt, splitter=random; total time=   0.6s\n",
            "[CV] END ..max_depth=200, max_features=sqrt, splitter=random; total time=   0.6s\n",
            "[CV] END ....max_depth=200, max_features=log2, splitter=best; total time=   1.0s\n",
            "[CV] END ....max_depth=200, max_features=log2, splitter=best; total time=   1.1s\n",
            "[CV] END ....max_depth=200, max_features=log2, splitter=best; total time=   1.0s\n",
            "[CV] END ....max_depth=200, max_features=log2, splitter=best; total time=   1.1s\n",
            "[CV] END ....max_depth=200, max_features=log2, splitter=best; total time=   1.1s\n",
            "[CV] END ..max_depth=200, max_features=log2, splitter=random; total time=   0.6s\n",
            "[CV] END ..max_depth=200, max_features=log2, splitter=random; total time=   0.7s\n",
            "[CV] END ..max_depth=200, max_features=log2, splitter=random; total time=   0.6s\n",
            "[CV] END ..max_depth=200, max_features=log2, splitter=random; total time=   0.5s\n",
            "[CV] END ..max_depth=200, max_features=log2, splitter=random; total time=   0.6s\n",
            "DecisionTreeRegressor(max_depth=200, max_features='auto')\n"
          ]
        }
      ]
    },
    {
      "cell_type": "code",
      "source": [
        "DTR = DecisionTreeRegressor(max_depth=200, max_features='auto').fit(x_train,y_train)\n",
        "train_score = DTR.score(x_train, y_train)\n",
        "test_score = DTR.score(x_test, y_test)\n",
        "test_score"
      ],
      "metadata": {
        "colab": {
          "base_uri": "https://localhost:8080/"
        },
        "id": "J4mOSinXFNnT",
        "outputId": "2b553d96-ff4d-4d47-e16f-bddde375b48f"
      },
      "execution_count": 8,
      "outputs": [
        {
          "output_type": "execute_result",
          "data": {
            "text/plain": [
              "0.9628705886814559"
            ]
          },
          "metadata": {},
          "execution_count": 8
        }
      ]
    },
    {
      "cell_type": "code",
      "source": [
        "y_pred = DTR.predict(x_test)"
      ],
      "metadata": {
        "id": "5v2FG7xtFSzl"
      },
      "execution_count": 9,
      "outputs": []
    },
    {
      "cell_type": "code",
      "source": [
        "from sklearn.model_selection import learning_curve\n",
        "\n",
        "train_size = [1, 25, 50, 100, 500, 2500, 7500, 15000]\n",
        "train_sizes, train_scores, validation_scores = learning_curve(\n",
        "estimator = DTR,\n",
        "X = x_train,\n",
        "y = y_train, train_sizes = train_size, cv = 5,\n",
        "scoring = 'neg_mean_absolute_error')"
      ],
      "metadata": {
        "id": "B2ReCkVfFVlc"
      },
      "execution_count": 10,
      "outputs": []
    },
    {
      "cell_type": "code",
      "source": [
        "print('Training scores:\\n\\n', train_scores)\n",
        "print('\\n', '-' * 70) # separator to make the output easy to read\n",
        "print('\\nValidation scores:\\n\\n', validation_scores)"
      ],
      "metadata": {
        "colab": {
          "base_uri": "https://localhost:8080/"
        },
        "id": "q6C_FA9zFYtL",
        "outputId": "2cf3e03f-36d8-441f-9319-a0c424636569"
      },
      "execution_count": 11,
      "outputs": [
        {
          "output_type": "stream",
          "name": "stdout",
          "text": [
            "Training scores:\n",
            "\n",
            " [[-0.0000000e+00 -0.0000000e+00 -0.0000000e+00 -0.0000000e+00\n",
            "  -0.0000000e+00]\n",
            " [-0.0000000e+00 -0.0000000e+00 -0.0000000e+00 -0.0000000e+00\n",
            "  -0.0000000e+00]\n",
            " [-0.0000000e+00 -0.0000000e+00 -0.0000000e+00 -0.0000000e+00\n",
            "  -0.0000000e+00]\n",
            " [-0.0000000e+00 -0.0000000e+00 -0.0000000e+00 -0.0000000e+00\n",
            "  -0.0000000e+00]\n",
            " [-0.0000000e+00 -0.0000000e+00 -0.0000000e+00 -0.0000000e+00\n",
            "  -0.0000000e+00]\n",
            " [-0.0000000e+00 -0.0000000e+00 -0.0000000e+00 -0.0000000e+00\n",
            "  -0.0000000e+00]\n",
            " [-0.0000000e+00 -0.0000000e+00 -0.0000000e+00 -0.0000000e+00\n",
            "  -0.0000000e+00]\n",
            " [-0.0000000e+00 -8.8817842e-20 -8.8817842e-20 -8.8817842e-20\n",
            "  -8.8817842e-20]]\n",
            "\n",
            " ----------------------------------------------------------------------\n",
            "\n",
            "Validation scores:\n",
            "\n",
            " [[ -8.39141123  -8.60042692  -8.6011486   -8.62125502  -8.64469222]\n",
            " [-11.61640411 -10.5527849  -11.70239138 -10.7526326  -11.5177846 ]\n",
            " [ -9.72262664 -10.50252162 -10.64307815 -10.60593867 -10.63105801]\n",
            " [ -8.33165843  -9.16456159  -9.20204138  -9.22420508  -9.39870731]\n",
            " [ -6.59794595  -6.72150921  -6.80767309  -6.76494163  -6.83381874]\n",
            " [ -3.82137578  -4.13311248  -4.05161457  -4.08983054  -4.04488611]\n",
            " [ -2.79759133  -2.78263878  -2.78679459  -2.75258031  -2.77626594]\n",
            " [ -2.18118096  -2.20486888  -2.18184014  -2.17081533  -2.17087482]]\n"
          ]
        }
      ]
    },
    {
      "cell_type": "code",
      "source": [
        "train_scores_mean = train_scores.mean(axis = 1)\n",
        "validation_scores_mean = validation_scores.mean(axis=1)\n",
        "print('Mean training scores\\n\\n', pd.Series(train_scores_mean, index = train_sizes))\n",
        "print('\\n', '-' * 20) # separator\n",
        "print('\\nMean validation scores\\n\\n',pd.Series(validation_scores_mean, index = train_sizes))"
      ],
      "metadata": {
        "colab": {
          "base_uri": "https://localhost:8080/"
        },
        "id": "osHa_eJBFaOD",
        "outputId": "1c62f97f-337a-4cec-dac8-0b55b60047a2"
      },
      "execution_count": 12,
      "outputs": [
        {
          "output_type": "stream",
          "name": "stdout",
          "text": [
            "Mean training scores\n",
            "\n",
            " 1        0.000000e+00\n",
            "25       0.000000e+00\n",
            "50       0.000000e+00\n",
            "100      0.000000e+00\n",
            "500      0.000000e+00\n",
            "2500     0.000000e+00\n",
            "7500     0.000000e+00\n",
            "15000   -7.105427e-20\n",
            "dtype: float64\n",
            "\n",
            " --------------------\n",
            "\n",
            "Mean validation scores\n",
            "\n",
            " 1        -8.571787\n",
            "25      -11.228400\n",
            "50      -10.421045\n",
            "100      -9.064235\n",
            "500      -6.745178\n",
            "2500     -4.028164\n",
            "7500     -2.779174\n",
            "15000    -2.181916\n",
            "dtype: float64\n"
          ]
        }
      ]
    },
    {
      "cell_type": "code",
      "source": [
        "train_scores_mean = -train_scores.mean(axis = 1)\n",
        "validation_scores_mean = -validation_scores.mean(axis=1)\n",
        "print('Mean training scores\\n\\n', pd.Series(train_scores_mean, index = train_sizes))\n",
        "print('\\n', '-' * 20) # separator\n",
        "print('\\nMean validation scores\\n\\n',pd.Series(validation_scores_mean, index = train_sizes))"
      ],
      "metadata": {
        "colab": {
          "base_uri": "https://localhost:8080/"
        },
        "id": "UtGHuwTUFb7s",
        "outputId": "755491d2-5602-4983-9043-66d060bb8c8a"
      },
      "execution_count": 13,
      "outputs": [
        {
          "output_type": "stream",
          "name": "stdout",
          "text": [
            "Mean training scores\n",
            "\n",
            " 1       -0.000000e+00\n",
            "25      -0.000000e+00\n",
            "50      -0.000000e+00\n",
            "100     -0.000000e+00\n",
            "500     -0.000000e+00\n",
            "2500    -0.000000e+00\n",
            "7500    -0.000000e+00\n",
            "15000    7.105427e-20\n",
            "dtype: float64\n",
            "\n",
            " --------------------\n",
            "\n",
            "Mean validation scores\n",
            "\n",
            " 1         8.571787\n",
            "25       11.228400\n",
            "50       10.421045\n",
            "100       9.064235\n",
            "500       6.745178\n",
            "2500      4.028164\n",
            "7500      2.779174\n",
            "15000     2.181916\n",
            "dtype: float64\n"
          ]
        }
      ]
    },
    {
      "cell_type": "code",
      "source": [
        "from sklearn.metrics import mean_squared_error, r2_score\n",
        "from sklearn.metrics import mean_absolute_error\n",
        "# The mean squared error\n",
        "print(\"Mean squared error: %.2f\" % mean_squared_error(y_test, y_pred))\n",
        "# The coefficient of determination: 1 is perfect prediction\n",
        "print(\"Coefficient of determination: %.2f\" % r2_score(y_test, y_pred))\n",
        "print('Mean Abs Error:', mean_absolute_error(y_test, y_pred))"
      ],
      "metadata": {
        "colab": {
          "base_uri": "https://localhost:8080/"
        },
        "id": "Z2V9cG6GFeC2",
        "outputId": "827c6c27-4b6a-4aca-a691-93327c309043"
      },
      "execution_count": 14,
      "outputs": [
        {
          "output_type": "stream",
          "name": "stdout",
          "text": [
            "Mean squared error: 3.67\n",
            "Coefficient of determination: 0.96\n",
            "Mean Abs Error: 1.173942173669518\n"
          ]
        }
      ]
    },
    {
      "cell_type": "code",
      "source": [
        "import matplotlib.pyplot as plt\n",
        "\n",
        "plt.style.use('seaborn')\n",
        "plt.plot(train_sizes, train_scores_mean, label = 'Training error')\n",
        "plt.plot(train_sizes, validation_scores_mean, label = 'Validation error')\n",
        "plt.ylabel('MAE', fontsize = 14)\n",
        "plt.xlabel('Training set size', fontsize = 14)\n",
        "plt.title('Learning curves for RANSAC regressor model', fontsize = 18, y = 1.03)\n",
        "plt.legend()"
      ],
      "metadata": {
        "colab": {
          "base_uri": "https://localhost:8080/",
          "height": 411
        },
        "id": "W7jG3fMyFfpt",
        "outputId": "8fa4ccab-d0b3-4ee7-9259-e9b3afadbe1f"
      },
      "execution_count": 15,
      "outputs": [
        {
          "output_type": "execute_result",
          "data": {
            "text/plain": [
              "<matplotlib.legend.Legend at 0x7f5652931d30>"
            ]
          },
          "metadata": {},
          "execution_count": 15
        },
        {
          "output_type": "display_data",
          "data": {
            "text/plain": [
              "<Figure size 576x396 with 1 Axes>"
            ],
            "image/png": "[encoded data removed]"
          },
          "metadata": {}
        }
      ]
    },
    {
      "cell_type": "code",
      "source": [
        "Id = test['Store'].astype('string') + '_' + test['Dept'].astype('string') + '_' + test['Date'].astype('string')\n",
        "y_pred = grid.predict(submission_test)\n",
        "weekly_sales = np.round(y_pred**3, 2)"
      ],
      "metadata": {
        "colab": {
          "base_uri": "https://localhost:8080/"
        },
        "id": "Nj24DF4v-wcd",
        "outputId": "b23f6267-e9ac-47e8-d6f3-1fe53d59a88d"
      },
      "execution_count": null,
      "outputs": [
        {
          "output_type": "stream",
          "name": "stderr",
          "text": [
            "/usr/local/lib/python3.8/dist-packages/sklearn/base.py:443: UserWarning: X has feature names, but DecisionTreeRegressor was fitted without feature names\n",
            "  warnings.warn(\n"
          ]
        }
      ]
    },
    {
      "cell_type": "code",
      "source": [
        "sub = {'Id':Id, 'Weekly_Sales':weekly_sales}\n",
        "DTR_submission = pd.DataFrame(data=sub)\n",
        "DTR_submission"
      ],
      "metadata": {
        "colab": {
          "base_uri": "https://localhost:8080/",
          "height": 424
        },
        "id": "pwggdbtV-3zh",
        "outputId": "0ddccb37-b8a8-44ea-ddea-6b64209f1949"
      },
      "execution_count": null,
      "outputs": [
        {
          "output_type": "execute_result",
          "data": {
            "text/plain": [
              "                      Id  Weekly_Sales\n",
              "0         1_1_2012-11-02      55931.23\n",
              "1         1_1_2012-11-09      42371.48\n",
              "2         1_1_2012-11-16       9825.22\n",
              "3         1_1_2012-11-23      47893.23\n",
              "4         1_1_2012-11-30      33232.94\n",
              "...                  ...           ...\n",
              "115059  45_98_2013-06-28      13143.44\n",
              "115060  45_98_2013-07-05      31697.66\n",
              "115061  45_98_2013-07-12      33433.21\n",
              "115062  45_98_2013-07-19       7472.35\n",
              "115063  45_98_2013-07-26         32.80\n",
              "\n",
              "[115064 rows x 2 columns]"
            ],
            "text/html": [
              "\n",
              "  <div id=\"df-04d8de40-b888-4701-a5c2-17d9e69a57ec\">\n",
              "    <div class=\"colab-df-container\">\n",
              "      <div>\n",
              "<style scoped>\n",
              "    .dataframe tbody tr th:only-of-type {\n",
              "        vertical-align: middle;\n",
              "    }\n",
              "\n",
              "    .dataframe tbody tr th {\n",
              "        vertical-align: top;\n",
              "    }\n",
              "\n",
              "    .dataframe thead th {\n",
              "        text-align: right;\n",
              "    }\n",
              "</style>\n",
              "<table border=\"1\" class=\"dataframe\">\n",
              "  <thead>\n",
              "    <tr style=\"text-align: right;\">\n",
              "      <th></th>\n",
              "      <th>Id</th>\n",
              "      <th>Weekly_Sales</th>\n",
              "    </tr>\n",
              "  </thead>\n",
              "  <tbody>\n",
              "    <tr>\n",
              "      <th>0</th>\n",
              "      <td>1_1_2012-11-02</td>\n",
              "      <td>55931.23</td>\n",
              "    </tr>\n",
              "    <tr>\n",
              "      <th>1</th>\n",
              "      <td>1_1_2012-11-09</td>\n",
              "      <td>42371.48</td>\n",
              "    </tr>\n",
              "    <tr>\n",
              "      <th>2</th>\n",
              "      <td>1_1_2012-11-16</td>\n",
              "      <td>9825.22</td>\n",
              "    </tr>\n",
              "    <tr>\n",
              "      <th>3</th>\n",
              "      <td>1_1_2012-11-23</td>\n",
              "      <td>47893.23</td>\n",
              "    </tr>\n",
              "    <tr>\n",
              "      <th>4</th>\n",
              "      <td>1_1_2012-11-30</td>\n",
              "      <td>33232.94</td>\n",
              "    </tr>\n",
              "    <tr>\n",
              "      <th>...</th>\n",
              "      <td>...</td>\n",
              "      <td>...</td>\n",
              "    </tr>\n",
              "    <tr>\n",
              "      <th>115059</th>\n",
              "      <td>45_98_2013-06-28</td>\n",
              "      <td>13143.44</td>\n",
              "    </tr>\n",
              "    <tr>\n",
              "      <th>115060</th>\n",
              "      <td>45_98_2013-07-05</td>\n",
              "      <td>31697.66</td>\n",
              "    </tr>\n",
              "    <tr>\n",
              "      <th>115061</th>\n",
              "      <td>45_98_2013-07-12</td>\n",
              "      <td>33433.21</td>\n",
              "    </tr>\n",
              "    <tr>\n",
              "      <th>115062</th>\n",
              "      <td>45_98_2013-07-19</td>\n",
              "      <td>7472.35</td>\n",
              "    </tr>\n",
              "    <tr>\n",
              "      <th>115063</th>\n",
              "      <td>45_98_2013-07-26</td>\n",
              "      <td>32.80</td>\n",
              "    </tr>\n",
              "  </tbody>\n",
              "</table>\n",
              "<p>115064 rows × 2 columns</p>\n",
              "</div>\n",
              "      <button class=\"colab-df-convert\" onclick=\"convertToInteractive('df-04d8de40-b888-4701-a5c2-17d9e69a57ec')\"\n",
              "              title=\"Convert this dataframe to an interactive table.\"\n",
              "              style=\"display:none;\">\n",
              "        \n",
              "  <svg xmlns=\"http://www.w3.org/2000/svg\" height=\"24px\"viewBox=\"0 0 24 24\"\n",
              "       width=\"24px\">\n",
              "    <path d=\"M0 0h24v24H0V0z\" fill=\"none\"/>\n",
              "    <path d=\"M18.56 5.44l.94 2.06.94-2.06 2.06-.94-2.06-.94-.94-2.06-.94 2.06-2.06.94zm-11 1L8.5 8.5l.94-2.06 2.06-.94-2.06-.94L8.5 2.5l-.94 2.06-2.06.94zm10 10l.94 2.06.94-2.06 2.06-.94-2.06-.94-.94-2.06-.94 2.06-2.06.94z\"/><path d=\"M17.41 7.96l-1.37-1.37c-.4-.4-.92-.59-1.43-.59-.52 0-1.04.2-1.43.59L10.3 9.45l-7.72 7.72c-.78.78-.78 2.05 0 2.83L4 21.41c.39.39.9.59 1.41.59.51 0 1.02-.2 1.41-.59l7.78-7.78 2.81-2.81c.8-.78.8-2.07 0-2.86zM5.41 20L4 18.59l7.72-7.72 1.47 1.35L5.41 20z\"/>\n",
              "  </svg>\n",
              "      </button>\n",
              "      \n",
              "  <style>\n",
              "    .colab-df-container {\n",
              "      display:flex;\n",
              "      flex-wrap:wrap;\n",
              "      gap: 12px;\n",
              "    }\n",
              "\n",
              "    .colab-df-convert {\n",
              "      background-color: #E8F0FE;\n",
              "      border: none;\n",
              "      border-radius: 50%;\n",
              "      cursor: pointer;\n",
              "      display: none;\n",
              "      fill: #1967D2;\n",
              "      height: 32px;\n",
              "      padding: 0 0 0 0;\n",
              "      width: 32px;\n",
              "    }\n",
              "\n",
              "    .colab-df-convert:hover {\n",
              "      background-color: #E2EBFA;\n",
              "      box-shadow: 0px 1px 2px rgba(60, 64, 67, 0.3), 0px 1px 3px 1px rgba(60, 64, 67, 0.15);\n",
              "      fill: #174EA6;\n",
              "    }\n",
              "\n",
              "    [theme=dark] .colab-df-convert {\n",
              "      background-color: #3B4455;\n",
              "      fill: #D2E3FC;\n",
              "    }\n",
              "\n",
              "    [theme=dark] .colab-df-convert:hover {\n",
              "      background-color: #434B5C;\n",
              "      box-shadow: 0px 1px 3px 1px rgba(0, 0, 0, 0.15);\n",
              "      filter: drop-shadow(0px 1px 2px rgba(0, 0, 0, 0.3));\n",
              "      fill: #FFFFFF;\n",
              "    }\n",
              "  </style>\n",
              "\n",
              "      <script>\n",
              "        const buttonEl =\n",
              "          document.querySelector('#df-04d8de40-b888-4701-a5c2-17d9e69a57ec button.colab-df-convert');\n",
              "        buttonEl.style.display =\n",
              "          google.colab.kernel.accessAllowed ? 'block' : 'none';\n",
              "\n",
              "        async function convertToInteractive(key) {\n",
              "          const element = document.querySelector('#df-04d8de40-b888-4701-a5c2-17d9e69a57ec');\n",
              "          const dataTable =\n",
              "            await google.colab.kernel.invokeFunction('convertToInteractive',\n",
              "                                                     [key], {});\n",
              "          if (!dataTable) return;\n",
              "\n",
              "          const docLinkHtml = 'Like what you see? Visit the ' +\n",
              "            '<a target=\"_blank\" href=https://colab.research.google.com/notebooks/data_table.ipynb>data table notebook</a>'\n",
              "            + ' to learn more about interactive tables.';\n",
              "          element.innerHTML = '';\n",
              "          dataTable['output_type'] = 'display_data';\n",
              "          await google.colab.output.renderOutput(dataTable, element);\n",
              "          const docLink = document.createElement('div');\n",
              "          docLink.innerHTML = docLinkHtml;\n",
              "          element.appendChild(docLink);\n",
              "        }\n",
              "      </script>\n",
              "    </div>\n",
              "  </div>\n",
              "  "
            ]
          },
          "metadata": {},
          "execution_count": 7
        }
      ]
    },
    {
      "cell_type": "code",
      "source": [
        "from google.colab import drive\n",
        "drive.mount('drive')\n",
        "DTR_submission.to_csv('DTR_submission.csv')\n",
        "!cp DTR_submission.csv \"drive/My Drive/\""
      ],
      "metadata": {
        "colab": {
          "base_uri": "https://localhost:8080/"
        },
        "id": "5SfQNsgx--Rl",
        "outputId": "db3a509c-ac51-43b8-afa1-a28eab03b99b"
      },
      "execution_count": null,
      "outputs": [
        {
          "output_type": "stream",
          "name": "stdout",
          "text": [
            "Mounted at drive\n"
          ]
        }
      ]
    }
  ]
}