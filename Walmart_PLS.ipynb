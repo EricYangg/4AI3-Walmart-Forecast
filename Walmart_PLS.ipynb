{
  "nbformat": 4,
  "nbformat_minor": 0,
  "metadata": {
    "colab": {
      "provenance": []
    },
    "kernelspec": {
      "name": "python3",
      "display_name": "Python 3"
    },
    "language_info": {
      "name": "python"
    }
  },
  "cells": [
    {
      "cell_type": "code",
      "execution_count": 1,
      "metadata": {
        "id": "CX40V-0Ty5ko"
      },
      "outputs": [],
      "source": [
        "from sklearn.cross_decomposition import PLSRegression\n",
        "import pandas as pd\n",
        "from sklearn.preprocessing import StandardScaler\n",
        "from sklearn.model_selection import GridSearchCV\n",
        "from sklearn.metrics import classification_report, confusion_matrix\n",
        "import numpy as np"
      ]
    },
    {
      "cell_type": "code",
      "source": [
        "url = 'https://media.githubusercontent.com/media/EricYangg/4AI3-Walmart-Forecast/main/Processed%20Dataset%20Update/x_train.csv'\n",
        "x_train = pd.read_csv(url)\n",
        "url = 'https://media.githubusercontent.com/media/EricYangg/4AI3-Walmart-Forecast/main/Processed%20Dataset%20Update/y_train.csv'\n",
        "y_train = pd.read_csv(url)\n",
        "url = 'https://media.githubusercontent.com/media/EricYangg/4AI3-Walmart-Forecast/main/Processed%20Dataset%20Update/x_test.csv'\n",
        "x_test = pd.read_csv(url)\n",
        "url = 'https://media.githubusercontent.com/media/EricYangg/4AI3-Walmart-Forecast/main/Processed%20Dataset%20Update/y_test.csv'\n",
        "y_test = pd.read_csv(url)\n",
        "url = 'https://media.githubusercontent.com/media/EricYangg/4AI3-Walmart-Forecast/main/Datasets/test.csv'\n",
        "test = pd.read_csv(url)\n",
        "url = 'https://media.githubusercontent.com/media/EricYangg/4AI3-Walmart-Forecast/main/Processed%20Dataset%20Update/Submission%20Test.csv'\n",
        "submission_test = pd.read_csv(url)"
      ],
      "metadata": {
        "id": "0e7b5t4NzAsr"
      },
      "execution_count": 6,
      "outputs": []
    },
    {
      "cell_type": "code",
      "source": [
        "scaler = StandardScaler()\n",
        "X_train_scaled = scaler.fit_transform(x_train)\n",
        "X_test_scaled = scaler.fit_transform(x_test)"
      ],
      "metadata": {
        "id": "c6GR9ZvozEWz"
      },
      "execution_count": 7,
      "outputs": []
    },
    {
      "cell_type": "code",
      "source": [
        "param_grid = {'n_components': [5, 10], 'max_iter': [1000, 5000]}\n",
        "grid = GridSearchCV(PLSRegression(), param_grid, refit=True, verbose=2)\n",
        "grid.fit(x_train.to_numpy(), y_train.to_numpy().ravel())\n",
        "print(grid.best_estimator_)\n",
        "grid_predictions = grid.predict(x_test.to_numpy())"
      ],
      "metadata": {
        "colab": {
          "base_uri": "https://localhost:8080/"
        },
        "id": "0y-G4RowzF-u",
        "outputId": "3cfc0039-46e5-4fa3-fd2a-6cb40c10ab98"
      },
      "execution_count": 8,
      "outputs": [
        {
          "output_type": "stream",
          "name": "stdout",
          "text": [
            "Fitting 5 folds for each of 4 candidates, totalling 20 fits\n",
            "[CV] END ......................max_iter=1000, n_components=5; total time=   0.6s\n",
            "[CV] END ......................max_iter=1000, n_components=5; total time=   0.5s\n",
            "[CV] END ......................max_iter=1000, n_components=5; total time=   0.5s\n",
            "[CV] END ......................max_iter=1000, n_components=5; total time=   0.5s\n",
            "[CV] END ......................max_iter=1000, n_components=5; total time=   0.5s\n",
            "[CV] END .....................max_iter=1000, n_components=10; total time=   0.9s\n",
            "[CV] END .....................max_iter=1000, n_components=10; total time=   0.9s\n",
            "[CV] END .....................max_iter=1000, n_components=10; total time=   0.9s\n",
            "[CV] END .....................max_iter=1000, n_components=10; total time=   0.9s\n",
            "[CV] END .....................max_iter=1000, n_components=10; total time=   0.9s\n",
            "[CV] END ......................max_iter=5000, n_components=5; total time=   0.5s\n",
            "[CV] END ......................max_iter=5000, n_components=5; total time=   0.5s\n",
            "[CV] END ......................max_iter=5000, n_components=5; total time=   0.5s\n",
            "[CV] END ......................max_iter=5000, n_components=5; total time=   0.5s\n",
            "[CV] END ......................max_iter=5000, n_components=5; total time=   0.5s\n",
            "[CV] END .....................max_iter=5000, n_components=10; total time=   0.9s\n",
            "[CV] END .....................max_iter=5000, n_components=10; total time=   0.9s\n",
            "[CV] END .....................max_iter=5000, n_components=10; total time=   1.4s\n",
            "[CV] END .....................max_iter=5000, n_components=10; total time=   2.1s\n",
            "[CV] END .....................max_iter=5000, n_components=10; total time=   1.8s\n",
            "PLSRegression(max_iter=1000, n_components=10)\n"
          ]
        }
      ]
    },
    {
      "cell_type": "code",
      "source": [
        "Id = test['Store'].astype('string') + '_' + test['Dept'].astype('string') + '_' + test['Date'].astype('string')\n",
        "Id"
      ],
      "metadata": {
        "colab": {
          "base_uri": "https://localhost:8080/"
        },
        "id": "BysHPf4-zpm7",
        "outputId": "c0d07d84-f897-4cb0-c15e-1fff1b5da118"
      },
      "execution_count": 9,
      "outputs": [
        {
          "output_type": "execute_result",
          "data": {
            "text/plain": [
              "0           1_1_2012-11-02\n",
              "1           1_1_2012-11-09\n",
              "2           1_1_2012-11-16\n",
              "3           1_1_2012-11-23\n",
              "4           1_1_2012-11-30\n",
              "                ...       \n",
              "115059    45_98_2013-06-28\n",
              "115060    45_98_2013-07-05\n",
              "115061    45_98_2013-07-12\n",
              "115062    45_98_2013-07-19\n",
              "115063    45_98_2013-07-26\n",
              "Length: 115064, dtype: string"
            ]
          },
          "metadata": {},
          "execution_count": 9
        }
      ]
    },
    {
      "cell_type": "code",
      "source": [
        "y_pred = grid.predict(submission_test)\n",
        "y_pred"
      ],
      "metadata": {
        "colab": {
          "base_uri": "https://localhost:8080/"
        },
        "id": "8-3YPZ_Izr9-",
        "outputId": "4c7b03cb-6b3f-402c-b368-a24c8a95d8b1"
      },
      "execution_count": 10,
      "outputs": [
        {
          "output_type": "stream",
          "name": "stderr",
          "text": [
            "/usr/local/lib/python3.8/dist-packages/sklearn/base.py:443: UserWarning: X has feature names, but PLSRegression was fitted without feature names\n",
            "  warnings.warn(\n"
          ]
        },
        {
          "output_type": "execute_result",
          "data": {
            "text/plain": [
              "array([[20.64917721],\n",
              "       [20.65990688],\n",
              "       [20.67063655],\n",
              "       ...,\n",
              "       [18.87237683],\n",
              "       [18.89383617],\n",
              "       [18.90456584]])"
            ]
          },
          "metadata": {},
          "execution_count": 10
        }
      ]
    },
    {
      "cell_type": "code",
      "source": [
        "weekly_sales = np.round(y_pred[:,0]**3, 2)\n",
        "weekly_sales"
      ],
      "metadata": {
        "colab": {
          "base_uri": "https://localhost:8080/"
        },
        "id": "eszFPgITztZK",
        "outputId": "0d7a19c7-c106-4712-bab9-c43f8c1578d8"
      },
      "execution_count": 11,
      "outputs": [
        {
          "output_type": "execute_result",
          "data": {
            "text/plain": [
              "array([8804.57, 8818.3 , 8832.05, ..., 6721.71, 6744.67, 6756.16])"
            ]
          },
          "metadata": {},
          "execution_count": 11
        }
      ]
    },
    {
      "cell_type": "code",
      "source": [
        "sub = {'Id':Id, 'Weekly_Sales':weekly_sales}\n",
        "PLS_submission = pd.DataFrame(data=sub)\n",
        "PLS_submission"
      ],
      "metadata": {
        "colab": {
          "base_uri": "https://localhost:8080/",
          "height": 424
        },
        "id": "Q9sbPHtTzwl0",
        "outputId": "4da098a5-2f23-4d7e-e3b3-2fd62d73ae75"
      },
      "execution_count": 12,
      "outputs": [
        {
          "output_type": "execute_result",
          "data": {
            "text/plain": [
              "                      Id  Weekly_Sales\n",
              "0         1_1_2012-11-02       8804.57\n",
              "1         1_1_2012-11-09       8818.30\n",
              "2         1_1_2012-11-16       8832.05\n",
              "3         1_1_2012-11-23       8845.81\n",
              "4         1_1_2012-11-30       8859.59\n",
              "...                  ...           ...\n",
              "115059  45_98_2013-06-28       6698.81\n",
              "115060  45_98_2013-07-05       6710.25\n",
              "115061  45_98_2013-07-12       6721.71\n",
              "115062  45_98_2013-07-19       6744.67\n",
              "115063  45_98_2013-07-26       6756.16\n",
              "\n",
              "[115064 rows x 2 columns]"
            ],
            "text/html": [
              "\n",
              "  <div id=\"df-35ee3133-823e-436f-88e3-7f9bd4b7a08e\">\n",
              "    <div class=\"colab-df-container\">\n",
              "      <div>\n",
              "<style scoped>\n",
              "    .dataframe tbody tr th:only-of-type {\n",
              "        vertical-align: middle;\n",
              "    }\n",
              "\n",
              "    .dataframe tbody tr th {\n",
              "        vertical-align: top;\n",
              "    }\n",
              "\n",
              "    .dataframe thead th {\n",
              "        text-align: right;\n",
              "    }\n",
              "</style>\n",
              "<table border=\"1\" class=\"dataframe\">\n",
              "  <thead>\n",
              "    <tr style=\"text-align: right;\">\n",
              "      <th></th>\n",
              "      <th>Id</th>\n",
              "      <th>Weekly_Sales</th>\n",
              "    </tr>\n",
              "  </thead>\n",
              "  <tbody>\n",
              "    <tr>\n",
              "      <th>0</th>\n",
              "      <td>1_1_2012-11-02</td>\n",
              "      <td>8804.57</td>\n",
              "    </tr>\n",
              "    <tr>\n",
              "      <th>1</th>\n",
              "      <td>1_1_2012-11-09</td>\n",
              "      <td>8818.30</td>\n",
              "    </tr>\n",
              "    <tr>\n",
              "      <th>2</th>\n",
              "      <td>1_1_2012-11-16</td>\n",
              "      <td>8832.05</td>\n",
              "    </tr>\n",
              "    <tr>\n",
              "      <th>3</th>\n",
              "      <td>1_1_2012-11-23</td>\n",
              "      <td>8845.81</td>\n",
              "    </tr>\n",
              "    <tr>\n",
              "      <th>4</th>\n",
              "      <td>1_1_2012-11-30</td>\n",
              "      <td>8859.59</td>\n",
              "    </tr>\n",
              "    <tr>\n",
              "      <th>...</th>\n",
              "      <td>...</td>\n",
              "      <td>...</td>\n",
              "    </tr>\n",
              "    <tr>\n",
              "      <th>115059</th>\n",
              "      <td>45_98_2013-06-28</td>\n",
              "      <td>6698.81</td>\n",
              "    </tr>\n",
              "    <tr>\n",
              "      <th>115060</th>\n",
              "      <td>45_98_2013-07-05</td>\n",
              "      <td>6710.25</td>\n",
              "    </tr>\n",
              "    <tr>\n",
              "      <th>115061</th>\n",
              "      <td>45_98_2013-07-12</td>\n",
              "      <td>6721.71</td>\n",
              "    </tr>\n",
              "    <tr>\n",
              "      <th>115062</th>\n",
              "      <td>45_98_2013-07-19</td>\n",
              "      <td>6744.67</td>\n",
              "    </tr>\n",
              "    <tr>\n",
              "      <th>115063</th>\n",
              "      <td>45_98_2013-07-26</td>\n",
              "      <td>6756.16</td>\n",
              "    </tr>\n",
              "  </tbody>\n",
              "</table>\n",
              "<p>115064 rows × 2 columns</p>\n",
              "</div>\n",
              "      <button class=\"colab-df-convert\" onclick=\"convertToInteractive('df-35ee3133-823e-436f-88e3-7f9bd4b7a08e')\"\n",
              "              title=\"Convert this dataframe to an interactive table.\"\n",
              "              style=\"display:none;\">\n",
              "        \n",
              "  <svg xmlns=\"http://www.w3.org/2000/svg\" height=\"24px\"viewBox=\"0 0 24 24\"\n",
              "       width=\"24px\">\n",
              "    <path d=\"M0 0h24v24H0V0z\" fill=\"none\"/>\n",
              "    <path d=\"M18.56 5.44l.94 2.06.94-2.06 2.06-.94-2.06-.94-.94-2.06-.94 2.06-2.06.94zm-11 1L8.5 8.5l.94-2.06 2.06-.94-2.06-.94L8.5 2.5l-.94 2.06-2.06.94zm10 10l.94 2.06.94-2.06 2.06-.94-2.06-.94-.94-2.06-.94 2.06-2.06.94z\"/><path d=\"M17.41 7.96l-1.37-1.37c-.4-.4-.92-.59-1.43-.59-.52 0-1.04.2-1.43.59L10.3 9.45l-7.72 7.72c-.78.78-.78 2.05 0 2.83L4 21.41c.39.39.9.59 1.41.59.51 0 1.02-.2 1.41-.59l7.78-7.78 2.81-2.81c.8-.78.8-2.07 0-2.86zM5.41 20L4 18.59l7.72-7.72 1.47 1.35L5.41 20z\"/>\n",
              "  </svg>\n",
              "      </button>\n",
              "      \n",
              "  <style>\n",
              "    .colab-df-container {\n",
              "      display:flex;\n",
              "      flex-wrap:wrap;\n",
              "      gap: 12px;\n",
              "    }\n",
              "\n",
              "    .colab-df-convert {\n",
              "      background-color: #E8F0FE;\n",
              "      border: none;\n",
              "      border-radius: 50%;\n",
              "      cursor: pointer;\n",
              "      display: none;\n",
              "      fill: #1967D2;\n",
              "      height: 32px;\n",
              "      padding: 0 0 0 0;\n",
              "      width: 32px;\n",
              "    }\n",
              "\n",
              "    .colab-df-convert:hover {\n",
              "      background-color: #E2EBFA;\n",
              "      box-shadow: 0px 1px 2px rgba(60, 64, 67, 0.3), 0px 1px 3px 1px rgba(60, 64, 67, 0.15);\n",
              "      fill: #174EA6;\n",
              "    }\n",
              "\n",
              "    [theme=dark] .colab-df-convert {\n",
              "      background-color: #3B4455;\n",
              "      fill: #D2E3FC;\n",
              "    }\n",
              "\n",
              "    [theme=dark] .colab-df-convert:hover {\n",
              "      background-color: #434B5C;\n",
              "      box-shadow: 0px 1px 3px 1px rgba(0, 0, 0, 0.15);\n",
              "      filter: drop-shadow(0px 1px 2px rgba(0, 0, 0, 0.3));\n",
              "      fill: #FFFFFF;\n",
              "    }\n",
              "  </style>\n",
              "\n",
              "      <script>\n",
              "        const buttonEl =\n",
              "          document.querySelector('#df-35ee3133-823e-436f-88e3-7f9bd4b7a08e button.colab-df-convert');\n",
              "        buttonEl.style.display =\n",
              "          google.colab.kernel.accessAllowed ? 'block' : 'none';\n",
              "\n",
              "        async function convertToInteractive(key) {\n",
              "          const element = document.querySelector('#df-35ee3133-823e-436f-88e3-7f9bd4b7a08e');\n",
              "          const dataTable =\n",
              "            await google.colab.kernel.invokeFunction('convertToInteractive',\n",
              "                                                     [key], {});\n",
              "          if (!dataTable) return;\n",
              "\n",
              "          const docLinkHtml = 'Like what you see? Visit the ' +\n",
              "            '<a target=\"_blank\" href=https://colab.research.google.com/notebooks/data_table.ipynb>data table notebook</a>'\n",
              "            + ' to learn more about interactive tables.';\n",
              "          element.innerHTML = '';\n",
              "          dataTable['output_type'] = 'display_data';\n",
              "          await google.colab.output.renderOutput(dataTable, element);\n",
              "          const docLink = document.createElement('div');\n",
              "          docLink.innerHTML = docLinkHtml;\n",
              "          element.appendChild(docLink);\n",
              "        }\n",
              "      </script>\n",
              "    </div>\n",
              "  </div>\n",
              "  "
            ]
          },
          "metadata": {},
          "execution_count": 12
        }
      ]
    },
    {
      "cell_type": "code",
      "source": [
        "PLS = PLSRegression(max_iter=1000, n_components=10).fit(x_train,y_train)\n",
        "train_score = PLS.score(x_train, y_train)\n",
        "test_score = PLS.score(x_test, y_test)\n",
        "test_score"
      ],
      "metadata": {
        "colab": {
          "base_uri": "https://localhost:8080/"
        },
        "id": "kGOzosUlpjZH",
        "outputId": "771aaf07-cfdd-4550-90d5-fe10a8fcb8d6"
      },
      "execution_count": 13,
      "outputs": [
        {
          "output_type": "execute_result",
          "data": {
            "text/plain": [
              "0.09462053286795713"
            ]
          },
          "metadata": {},
          "execution_count": 13
        }
      ]
    },
    {
      "cell_type": "code",
      "source": [
        "y_pred = PLS.predict(x_test)"
      ],
      "metadata": {
        "id": "SjLYEadgpuEG"
      },
      "execution_count": 14,
      "outputs": []
    },
    {
      "cell_type": "code",
      "source": [
        "from sklearn.model_selection import learning_curve\n",
        "\n",
        "train_size = [1, 25, 50, 100, 500, 2500, 7500, 15000]\n",
        "train_sizes, train_scores, validation_scores = learning_curve(\n",
        "estimator = PLS,\n",
        "X = x_train,\n",
        "y = y_train, train_sizes = train_size, cv = 5,\n",
        "scoring = 'neg_mean_absolute_error')"
      ],
      "metadata": {
        "id": "TlcdC9RWp0Pt"
      },
      "execution_count": 15,
      "outputs": []
    },
    {
      "cell_type": "code",
      "source": [
        "print('Training scores:\\n\\n', train_scores)\n",
        "print('\\n', '-' * 70) # separator to make the output easy to read\n",
        "print('\\nValidation scores:\\n\\n', validation_scores)"
      ],
      "metadata": {
        "colab": {
          "base_uri": "https://localhost:8080/"
        },
        "id": "TfMVqllNp1wj",
        "outputId": "c8350936-f07d-4d28-ef00-71b464f6ae86"
      },
      "execution_count": 16,
      "outputs": [
        {
          "output_type": "stream",
          "name": "stdout",
          "text": [
            "Training scores:\n",
            "\n",
            " [[        nan         nan         nan         nan         nan]\n",
            " [-3.32970979 -4.59552921 -4.59552921 -4.59552921 -4.59552921]\n",
            " [-5.77395935 -6.56556284 -6.56556284 -6.56556284 -6.56556284]\n",
            " [-6.8887448  -7.04820043 -7.04820043 -7.04820043 -7.04820043]\n",
            " [-7.44654957 -7.38581767 -7.38581767 -7.38581767 -7.38581767]\n",
            " [-7.79055286 -7.81552082 -7.81552082 -7.81552082 -7.81552082]\n",
            " [-7.82728987 -7.80676973 -7.80676973 -7.80676973 -7.80676973]\n",
            " [-7.75823398 -7.75054752 -7.75054752 -7.75054752 -7.75054752]]\n",
            "\n",
            " ----------------------------------------------------------------------\n",
            "\n",
            "Validation scores:\n",
            "\n",
            " [[         nan          nan          nan          nan          nan]\n",
            " [-18.28606984 -21.81985652 -22.0529974  -22.13026551 -21.27414836]\n",
            " [-11.66805011 -11.54506346 -11.71356553 -11.81364052 -11.3886873 ]\n",
            " [ -9.16527329 -10.31998858 -10.42770773 -10.50553826 -10.22178027]\n",
            " [ -7.93676753  -7.90572266  -7.9031733   -7.88283969  -7.92434674]\n",
            " [ -7.79218135  -7.77807071  -7.76995235  -7.77790734  -7.79713754]\n",
            " [ -7.77854677  -7.7720364   -7.76352663  -7.77251142  -7.78516824]\n",
            " [ -7.7745216   -7.76978688  -7.76052233  -7.76916499  -7.78084361]]\n"
          ]
        }
      ]
    },
    {
      "cell_type": "code",
      "source": [
        "train_scores_mean = train_scores.mean(axis = 1)\n",
        "validation_scores_mean = validation_scores.mean(axis=1)\n",
        "print('Mean training scores\\n\\n', pd.Series(train_scores_mean, index = train_sizes))\n",
        "print('\\n', '-' * 20) # separator\n",
        "print('\\nMean validation scores\\n\\n',pd.Series(validation_scores_mean, index = train_sizes))"
      ],
      "metadata": {
        "colab": {
          "base_uri": "https://localhost:8080/"
        },
        "id": "pFOJN7H7p4dN",
        "outputId": "b4b951a8-e513-46de-eb05-340e7ad7b401"
      },
      "execution_count": 17,
      "outputs": [
        {
          "output_type": "stream",
          "name": "stdout",
          "text": [
            "Mean training scores\n",
            "\n",
            " 1             NaN\n",
            "25      -4.342365\n",
            "50      -6.407242\n",
            "100     -7.016309\n",
            "500     -7.397964\n",
            "2500    -7.810527\n",
            "7500    -7.810874\n",
            "15000   -7.752085\n",
            "dtype: float64\n",
            "\n",
            " --------------------\n",
            "\n",
            "Mean validation scores\n",
            "\n",
            " 1              NaN\n",
            "25      -21.112668\n",
            "50      -11.625801\n",
            "100     -10.128058\n",
            "500      -7.910570\n",
            "2500     -7.783050\n",
            "7500     -7.774358\n",
            "15000    -7.770968\n",
            "dtype: float64\n"
          ]
        }
      ]
    },
    {
      "cell_type": "code",
      "source": [
        "train_scores_mean = -train_scores.mean(axis = 1)\n",
        "validation_scores_mean = -validation_scores.mean(axis=1)\n",
        "print('Mean training scores\\n\\n', pd.Series(train_scores_mean, index = train_sizes))\n",
        "print('\\n', '-' * 20) # separator\n",
        "print('\\nMean validation scores\\n\\n',pd.Series(validation_scores_mean, index = train_sizes))"
      ],
      "metadata": {
        "colab": {
          "base_uri": "https://localhost:8080/"
        },
        "id": "4VgCgUz7p6tv",
        "outputId": "214302df-0f7e-4100-a4b2-f6dfb484db23"
      },
      "execution_count": 18,
      "outputs": [
        {
          "output_type": "stream",
          "name": "stdout",
          "text": [
            "Mean training scores\n",
            "\n",
            " 1             NaN\n",
            "25       4.342365\n",
            "50       6.407242\n",
            "100      7.016309\n",
            "500      7.397964\n",
            "2500     7.810527\n",
            "7500     7.810874\n",
            "15000    7.752085\n",
            "dtype: float64\n",
            "\n",
            " --------------------\n",
            "\n",
            "Mean validation scores\n",
            "\n",
            " 1              NaN\n",
            "25       21.112668\n",
            "50       11.625801\n",
            "100      10.128058\n",
            "500       7.910570\n",
            "2500      7.783050\n",
            "7500      7.774358\n",
            "15000     7.770968\n",
            "dtype: float64\n"
          ]
        }
      ]
    },
    {
      "cell_type": "code",
      "source": [
        "from sklearn.metrics import mean_squared_error, r2_score\n",
        "from sklearn.metrics import mean_absolute_error\n",
        "# The mean squared error\n",
        "print(\"Mean squared error: %.2f\" % mean_squared_error(y_test, y_pred))\n",
        "# The coefficient of determination: 1 is perfect prediction\n",
        "print(\"Coefficient of determination: %.2f\" % r2_score(y_test, y_pred))\n",
        "print('Mean Abs Error:', mean_absolute_error(y_test, y_pred))"
      ],
      "metadata": {
        "colab": {
          "base_uri": "https://localhost:8080/"
        },
        "id": "JlMxI_VTp8nG",
        "outputId": "22bef774-2165-48ce-bf78-e37706a6885b"
      },
      "execution_count": 19,
      "outputs": [
        {
          "output_type": "stream",
          "name": "stdout",
          "text": [
            "Mean squared error: 89.37\n",
            "Coefficient of determination: 0.09\n",
            "Mean Abs Error: 7.760920758733812\n"
          ]
        }
      ]
    },
    {
      "cell_type": "code",
      "source": [
        "import matplotlib.pyplot as plt\n",
        "\n",
        "plt.style.use('seaborn')\n",
        "plt.plot(train_sizes, train_scores_mean, label = 'Training error')\n",
        "plt.plot(train_sizes, validation_scores_mean, label = 'Validation error')\n",
        "plt.ylabel('MAE', fontsize = 14)\n",
        "plt.xlabel('Training set size', fontsize = 14)\n",
        "plt.title('Learning curves for RANSAC regressor model', fontsize = 18, y = 1.03)\n",
        "plt.legend()"
      ],
      "metadata": {
        "colab": {
          "base_uri": "https://localhost:8080/",
          "height": 411
        },
        "id": "ccXL4Nqkp-WT",
        "outputId": "e646796b-c99a-4e5b-9d7a-a28452891db7"
      },
      "execution_count": 20,
      "outputs": [
        {
          "output_type": "execute_result",
          "data": {
            "text/plain": [
              "<matplotlib.legend.Legend at 0x7fa572f7a040>"
            ]
          },
          "metadata": {},
          "execution_count": 20
        },
        {
          "output_type": "display_data",
          "data": {
            "text/plain": [
              "<Figure size 576x396 with 1 Axes>"
            ],
            "image/png": "[encoded data removed]"
          },
          "metadata": {}
        }
      ]
    },
    {
      "cell_type": "code",
      "source": [
        "from google.colab import drive\n",
        "drive.mount('drive')\n",
        "PLS_submission.to_csv('PLS_submission.csv')\n",
        "!cp PLS_submission.csv \"drive/My Drive/\""
      ],
      "metadata": {
        "id": "qvTLzSZZz1cU"
      },
      "execution_count": null,
      "outputs": []
    }
  ]
}